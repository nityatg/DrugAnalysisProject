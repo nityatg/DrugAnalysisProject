{
 "cells": [
  {
   "cell_type": "code",
   "execution_count": 0,
   "metadata": {
    "application/vnd.databricks.v1+cell": {
     "cellMetadata": {
      "byteLimit": 2048000,
      "rowLimit": 10000
     },
     "inputWidgets": {},
     "nuid": "244ca89f-c423-47bb-bc6c-d11bc7b7216d",
     "showTitle": false,
     "title": ""
    }
   },
   "outputs": [
    {
     "output_type": "display_data",
     "data": {
      "text/plain": [
       "\u001B[0;31m---------------------------------------------------------------------------\u001B[0m\n",
       "\u001B[0;31mExecutionError\u001B[0m                            Traceback (most recent call last)\n",
       "File \u001B[0;32m<command-3090241388052832>:1\u001B[0m\n",
       "\u001B[0;32m----> 1\u001B[0m \u001B[43mdbutils\u001B[49m\u001B[38;5;241;43m.\u001B[39;49m\u001B[43mfs\u001B[49m\u001B[38;5;241;43m.\u001B[39;49m\u001B[43mmount\u001B[49m\u001B[43m(\u001B[49m\n",
       "\u001B[1;32m      2\u001B[0m \u001B[43m  \u001B[49m\u001B[43msource\u001B[49m\u001B[38;5;241;43m=\u001B[39;49m\u001B[38;5;124;43m\"\u001B[39;49m\u001B[38;5;124;43mwasbs://raw@drugprediction200.blob.core.windows.net\u001B[39;49m\u001B[38;5;124;43m\"\u001B[39;49m\u001B[43m,\u001B[49m\n",
       "\u001B[1;32m      3\u001B[0m \u001B[43m  \u001B[49m\u001B[43mmount_point\u001B[49m\u001B[38;5;241;43m=\u001B[39;49m\u001B[38;5;124;43m\"\u001B[39;49m\u001B[38;5;124;43m/mnt/raw2\u001B[39;49m\u001B[38;5;124;43m\"\u001B[39;49m\u001B[43m,\u001B[49m\n",
       "\u001B[1;32m      4\u001B[0m \u001B[43m  \u001B[49m\u001B[43mextra_configs\u001B[49m\u001B[38;5;241;43m=\u001B[39;49m\u001B[43m{\u001B[49m\u001B[38;5;124;43m\"\u001B[39;49m\u001B[38;5;124;43mfs.azure.account.key.drugprediction200.blob.core.windows.net\u001B[39;49m\u001B[38;5;124;43m\"\u001B[39;49m\u001B[43m:\u001B[49m\u001B[43m \u001B[49m\u001B[38;5;124;43m\"\u001B[39;49m\u001B[38;5;124;43m7MZVWuqwCAT6QOFKJSHPg4CGy4pZ5i3J/RpIgHxKgCh2RWseMvJMCocjwcXcUnNGbLN68/Lzq+Vp+AStGB7KHg==\u001B[39;49m\u001B[38;5;124;43m\"\u001B[39;49m\u001B[43m}\u001B[49m\n",
       "\u001B[1;32m      5\u001B[0m \u001B[43m)\u001B[49m\n",
       "\n",
       "File \u001B[0;32m/databricks/python_shell/dbruntime/dbutils.py:362\u001B[0m, in \u001B[0;36mDBUtils.FSHandler.prettify_exception_message.<locals>.f_with_exception_handling\u001B[0;34m(*args, **kwargs)\u001B[0m\n",
       "\u001B[1;32m    360\u001B[0m exc\u001B[38;5;241m.\u001B[39m__context__ \u001B[38;5;241m=\u001B[39m \u001B[38;5;28;01mNone\u001B[39;00m\n",
       "\u001B[1;32m    361\u001B[0m exc\u001B[38;5;241m.\u001B[39m__cause__ \u001B[38;5;241m=\u001B[39m \u001B[38;5;28;01mNone\u001B[39;00m\n",
       "\u001B[0;32m--> 362\u001B[0m \u001B[38;5;28;01mraise\u001B[39;00m exc\n",
       "\n",
       "\u001B[0;31mExecutionError\u001B[0m: An error occurred while calling o399.mount.\n",
       ": java.rmi.RemoteException: java.lang.IllegalArgumentException: requirement failed: Directory already mounted: /mnt/raw2; nested exception is: \n",
       "\tjava.lang.IllegalArgumentException: requirement failed: Directory already mounted: /mnt/raw2\n",
       "\tat com.databricks.backend.daemon.data.client.DbfsClient.send0(DbfsClient.scala:135)\n",
       "\tat com.databricks.backend.daemon.data.client.DbfsClient.sendIdempotent(DbfsClient.scala:69)\n",
       "\tat com.databricks.backend.daemon.dbutils.DBUtilsCore.createOrUpdateMount(DBUtilsCore.scala:1029)\n",
       "\tat com.databricks.backend.daemon.dbutils.DBUtilsCore.$anonfun$mount$1(DBUtilsCore.scala:1055)\n",
       "\tat com.databricks.logging.UsageLogging.$anonfun$recordOperation$1(UsageLogging.scala:560)\n",
       "\tat com.databricks.logging.UsageLogging.executeThunkAndCaptureResultTags$1(UsageLogging.scala:656)\n",
       "\tat com.databricks.logging.UsageLogging.$anonfun$recordOperationWithResultTags$4(UsageLogging.scala:677)\n",
       "\tat com.databricks.logging.UsageLogging.$anonfun$withAttributionContext$1(UsageLogging.scala:414)\n",
       "\tat scala.util.DynamicVariable.withValue(DynamicVariable.scala:62)\n",
       "\tat com.databricks.logging.AttributionContext$.withValue(AttributionContext.scala:158)\n",
       "\tat com.databricks.logging.UsageLogging.withAttributionContext(UsageLogging.scala:412)\n",
       "\tat com.databricks.logging.UsageLogging.withAttributionContext$(UsageLogging.scala:409)\n",
       "\tat com.databricks.backend.daemon.dbutils.FSUtils.withAttributionContext(DBUtilsCore.scala:69)\n",
       "\tat com.databricks.logging.UsageLogging.withAttributionTags(UsageLogging.scala:457)\n",
       "\tat com.databricks.logging.UsageLogging.withAttributionTags$(UsageLogging.scala:442)\n",
       "\tat com.databricks.backend.daemon.dbutils.FSUtils.withAttributionTags(DBUtilsCore.scala:69)\n",
       "\tat com.databricks.logging.UsageLogging.recordOperationWithResultTags(UsageLogging.scala:651)\n",
       "\tat com.databricks.logging.UsageLogging.recordOperationWithResultTags$(UsageLogging.scala:569)\n",
       "\tat com.databricks.backend.daemon.dbutils.FSUtils.recordOperationWithResultTags(DBUtilsCore.scala:69)\n",
       "\tat com.databricks.logging.UsageLogging.recordOperation(UsageLogging.scala:560)\n",
       "\tat com.databricks.logging.UsageLogging.recordOperation$(UsageLogging.scala:528)\n",
       "\tat com.databricks.backend.daemon.dbutils.FSUtils.recordOperation(DBUtilsCore.scala:69)\n",
       "\tat com.databricks.backend.daemon.dbutils.FSUtils.recordDbutilsFsOp(DBUtilsCore.scala:133)\n",
       "\tat com.databricks.backend.daemon.dbutils.DBUtilsCore.mount(DBUtilsCore.scala:1049)\n",
       "\tat sun.reflect.NativeMethodAccessorImpl.invoke0(Native Method)\n",
       "\tat sun.reflect.NativeMethodAccessorImpl.invoke(NativeMethodAccessorImpl.java:62)\n",
       "\tat sun.reflect.DelegatingMethodAccessorImpl.invoke(DelegatingMethodAccessorImpl.java:43)\n",
       "\tat java.lang.reflect.Method.invoke(Method.java:498)\n",
       "\tat py4j.reflection.MethodInvoker.invoke(MethodInvoker.java:244)\n",
       "\tat py4j.reflection.ReflectionEngine.invoke(ReflectionEngine.java:380)\n",
       "\tat py4j.Gateway.invoke(Gateway.java:306)\n",
       "\tat py4j.commands.AbstractCommand.invokeMethod(AbstractCommand.java:132)\n",
       "\tat py4j.commands.CallCommand.execute(CallCommand.java:79)\n",
       "\tat py4j.ClientServerConnection.waitForCommands(ClientServerConnection.java:195)\n",
       "\tat py4j.ClientServerConnection.run(ClientServerConnection.java:115)\n",
       "\tat java.lang.Thread.run(Thread.java:750)\n",
       "Caused by: java.lang.IllegalArgumentException: requirement failed: Directory already mounted: /mnt/raw2\n",
       "\tat scala.Predef$.require(Predef.scala:281)\n",
       "\tat com.databricks.backend.daemon.data.server.DefaultMetadataManager.$anonfun$insertMount$1(MetadataManager.scala:704)\n",
       "\tat com.databricks.backend.daemon.data.server.DefaultMetadataManager.$anonfun$modifyAndVerify$2(MetadataManager.scala:1080)\n",
       "\tat scala.runtime.java8.JFunction0$mcV$sp.apply(JFunction0$mcV$sp.java:23)\n",
       "\tat com.databricks.backend.daemon.data.server.DefaultMetadataManager.withRetries(MetadataManager.scala:853)\n",
       "\tat com.databricks.backend.daemon.data.server.DefaultMetadataManager.modifyAndVerify(MetadataManager.scala:1069)\n",
       "\tat com.databricks.backend.daemon.data.server.DefaultMetadataManager.insertMount(MetadataManager.scala:712)\n",
       "\tat com.databricks.backend.daemon.data.server.handler.MountHandler.receive(MountHandler.scala:128)\n",
       "\tat com.databricks.backend.daemon.data.server.handler.CEMountHandler.receive(MountHandler.scala:172)\n",
       "\tat com.databricks.backend.daemon.data.server.session.SessionContext.$anonfun$queryHandlers$1(SessionContext.scala:54)\n",
       "\tat com.databricks.backend.daemon.data.server.session.SessionContext.$anonfun$queryHandlers$1$adapted(SessionContext.scala:53)\n",
       "\tat scala.collection.immutable.List.foreach(List.scala:431)\n",
       "\tat com.databricks.backend.daemon.data.server.session.SessionContext.queryHandlers(SessionContext.scala:53)\n",
       "\tat com.databricks.backend.daemon.data.server.DbfsServerBackend$$anonfun$receive$4.$anonfun$applyOrElse$10(DbfsServerBackend.scala:407)\n",
       "\tat com.databricks.logging.UsageLogging.$anonfun$withAttributionContext$1(UsageLogging.scala:435)\n",
       "\tat scala.util.DynamicVariable.withValue(DynamicVariable.scala:62)\n",
       "\tat com.databricks.logging.AttributionContext$.withValue(AttributionContext.scala:216)\n",
       "\tat com.databricks.logging.UsageLogging.withAttributionContext(UsageLogging.scala:433)\n",
       "\tat com.databricks.logging.UsageLogging.withAttributionContext$(UsageLogging.scala:427)\n",
       "\tat com.databricks.rpc.ServerBackend.withAttributionContext(ServerBackend.scala:22)\n",
       "\tat com.databricks.logging.UsageLogging.withAttributionTags(UsageLogging.scala:481)\n",
       "\tat com.databricks.logging.UsageLogging.withAttributionTags$(UsageLogging.scala:464)\n",
       "\tat com.databricks.rpc.ServerBackend.withAttributionTags(ServerBackend.scala:22)\n",
       "\tat com.databricks.backend.daemon.data.server.DbfsServerBackend$$anonfun$receive$4.applyOrElse(DbfsServerBackend.scala:407)\n",
       "\tat com.databricks.backend.daemon.data.server.DbfsServerBackend$$anonfun$receive$4.applyOrElse(DbfsServerBackend.scala:327)\n",
       "\tat com.databricks.rpc.ServerBackend.$anonfun$internalReceive0$2(ServerBackend.scala:174)\n",
       "\tat com.databricks.rpc.ServerBackend$$anonfun$commonReceive$1.applyOrElse(ServerBackend.scala:200)\n",
       "\tat com.databricks.rpc.ServerBackend$$anonfun$commonReceive$1.applyOrElse(ServerBackend.scala:200)\n",
       "\tat com.databricks.rpc.ServerBackend.internalReceive0(ServerBackend.scala:171)\n",
       "\tat com.databricks.rpc.ServerBackend.$anonfun$internalReceive$1(ServerBackend.scala:147)\n",
       "\tat com.databricks.logging.UsageLogging.$anonfun$recordOperation$1(UsageLogging.scala:582)\n",
       "\tat com.databricks.logging.UsageLogging.executeThunkAndCaptureResultTags$1(UsageLogging.scala:685)\n",
       "\tat com.databricks.logging.UsageLogging.$anonfun$recordOperationWithResultTags$4(UsageLogging.scala:703)\n",
       "\tat com.databricks.logging.UsageLogging.$anonfun$withAttributionContext$1(UsageLogging.scala:435)\n",
       "\tat scala.util.DynamicVariable.withValue(DynamicVariable.scala:62)\n",
       "\tat com.databricks.logging.AttributionContext$.withValue(AttributionContext.scala:216)\n",
       "\tat com.databricks.logging.UsageLogging.withAttributionContext(UsageLogging.scala:433)\n",
       "\tat com.databricks.logging.UsageLogging.withAttributionContext$(UsageLogging.scala:427)\n",
       "\tat com.databricks.rpc.ServerBackend.withAttributionContext(ServerBackend.scala:22)\n",
       "\tat com.databricks.logging.UsageLogging.withAttributionTags(UsageLogging.scala:481)\n",
       "\tat com.databricks.logging.UsageLogging.withAttributionTags$(UsageLogging.scala:464)\n",
       "\tat com.databricks.rpc.ServerBackend.withAttributionTags(ServerBackend.scala:22)\n",
       "\tat com.databricks.logging.UsageLogging.recordOperationWithResultTags(UsageLogging.scala:680)\n",
       "\tat com.databricks.logging.UsageLogging.recordOperationWithResultTags$(UsageLogging.scala:591)\n",
       "\tat com.databricks.rpc.ServerBackend.recordOperationWithResultTags(ServerBackend.scala:22)\n",
       "\tat com.databricks.logging.UsageLogging.recordOperation(UsageLogging.scala:582)\n",
       "\tat com.databricks.logging.UsageLogging.recordOperation$(UsageLogging.scala:551)\n",
       "\tat com.databricks.rpc.ServerBackend.recordOperation(ServerBackend.scala:22)\n",
       "\tat com.databricks.rpc.ServerBackend.internalReceive(ServerBackend.scala:147)\n",
       "\tat com.databricks.rpc.JettyServer$RequestManager.handleRPC(JettyServer.scala:1021)\n",
       "\tat com.databricks.rpc.JettyServer$RequestManager.handleRequestAndRespond(JettyServer.scala:942)\n",
       "\tat com.databricks.rpc.JettyServer$RequestManager.$anonfun$handleHttp$6(JettyServer.scala:546)\n",
       "\tat com.databricks.rpc.JettyServer$RequestManager.$anonfun$handleHttp$6$adapted(JettyServer.scala:515)\n",
       "\tat com.databricks.logging.activity.ActivityContextFactory$.$anonfun$withActivityInternal$4(ActivityContextFactory.scala:483)\n",
       "\tat com.databricks.logging.UsageLogging.$anonfun$withAttributionContext$1(UsageLogging.scala:435)\n",
       "\tat scala.util.DynamicVariable.withValue(DynamicVariable.scala:62)\n",
       "\tat com.databricks.logging.AttributionContext$.withValue(AttributionContext.scala:216)\n",
       "\tat com.databricks.logging.UsageLogging.withAttributionContext(UsageLogging.scala:433)\n",
       "\tat com.databricks.logging.UsageLogging.withAttributionContext$(UsageLogging.scala:427)\n",
       "\tat com.databricks.logging.activity.ActivityContextFactory$.withAttributionContext(ActivityContextFactory.scala:58)\n",
       "\tat com.databricks.logging.activity.ActivityContextFactory$.$anonfun$withActivityInternal$1(ActivityContextFactory.scala:483)\n",
       "\tat com.databricks.context.integrity.IntegrityCheckContext$ThreadLocalStorage$.withValue(IntegrityCheckContext.scala:75)\n",
       "\tat com.databricks.logging.activity.ActivityContextFactory$.withActivityInternal(ActivityContextFactory.scala:458)\n",
       "\tat com.databricks.logging.activity.ActivityContextFactory$.withServiceRequestActivity(ActivityContextFactory.scala:160)\n",
       "\tat com.databricks.rpc.JettyServer$RequestManager.handleHttp(JettyServer.scala:515)\n",
       "\tat com.databricks.rpc.JettyServer$RequestManager.doPost(JettyServer.scala:405)\n",
       "\tat javax.servlet.http.HttpServlet.service(HttpServlet.java:665)\n",
       "\tat com.databricks.rpc.HttpServletWithPatch.service(HttpServletWithPatch.scala:33)\n",
       "\tat javax.servlet.http.HttpServlet.service(HttpServlet.java:750)\n",
       "\tat org.eclipse.jetty.servlet.ServletHolder.handle(ServletHolder.java:799)\n",
       "\tat org.eclipse.jetty.servlet.ServletHandler.doHandle(ServletHandler.java:554)\n",
       "\tat org.eclipse.jetty.server.handler.Sc ... (truncated)"
      ]
     },
     "metadata": {
      "application/vnd.databricks.v1+output": {
       "arguments": {},
       "data": "\u001B[0;31m---------------------------------------------------------------------------\u001B[0m\n\u001B[0;31mExecutionError\u001B[0m                            Traceback (most recent call last)\nFile \u001B[0;32m<command-3090241388052832>:1\u001B[0m\n\u001B[0;32m----> 1\u001B[0m \u001B[43mdbutils\u001B[49m\u001B[38;5;241;43m.\u001B[39;49m\u001B[43mfs\u001B[49m\u001B[38;5;241;43m.\u001B[39;49m\u001B[43mmount\u001B[49m\u001B[43m(\u001B[49m\n\u001B[1;32m      2\u001B[0m \u001B[43m  \u001B[49m\u001B[43msource\u001B[49m\u001B[38;5;241;43m=\u001B[39;49m\u001B[38;5;124;43m\"\u001B[39;49m\u001B[38;5;124;43mwasbs://raw@drugprediction200.blob.core.windows.net\u001B[39;49m\u001B[38;5;124;43m\"\u001B[39;49m\u001B[43m,\u001B[49m\n\u001B[1;32m      3\u001B[0m \u001B[43m  \u001B[49m\u001B[43mmount_point\u001B[49m\u001B[38;5;241;43m=\u001B[39;49m\u001B[38;5;124;43m\"\u001B[39;49m\u001B[38;5;124;43m/mnt/raw2\u001B[39;49m\u001B[38;5;124;43m\"\u001B[39;49m\u001B[43m,\u001B[49m\n\u001B[1;32m      4\u001B[0m \u001B[43m  \u001B[49m\u001B[43mextra_configs\u001B[49m\u001B[38;5;241;43m=\u001B[39;49m\u001B[43m{\u001B[49m\u001B[38;5;124;43m\"\u001B[39;49m\u001B[38;5;124;43mfs.azure.account.key.drugprediction200.blob.core.windows.net\u001B[39;49m\u001B[38;5;124;43m\"\u001B[39;49m\u001B[43m:\u001B[49m\u001B[43m \u001B[49m\u001B[38;5;124;43m\"\u001B[39;49m\u001B[38;5;124;43m7MZVWuqwCAT6QOFKJSHPg4CGy4pZ5i3J/RpIgHxKgCh2RWseMvJMCocjwcXcUnNGbLN68/Lzq+Vp+AStGB7KHg==\u001B[39;49m\u001B[38;5;124;43m\"\u001B[39;49m\u001B[43m}\u001B[49m\n\u001B[1;32m      5\u001B[0m \u001B[43m)\u001B[49m\n\nFile \u001B[0;32m/databricks/python_shell/dbruntime/dbutils.py:362\u001B[0m, in \u001B[0;36mDBUtils.FSHandler.prettify_exception_message.<locals>.f_with_exception_handling\u001B[0;34m(*args, **kwargs)\u001B[0m\n\u001B[1;32m    360\u001B[0m exc\u001B[38;5;241m.\u001B[39m__context__ \u001B[38;5;241m=\u001B[39m \u001B[38;5;28;01mNone\u001B[39;00m\n\u001B[1;32m    361\u001B[0m exc\u001B[38;5;241m.\u001B[39m__cause__ \u001B[38;5;241m=\u001B[39m \u001B[38;5;28;01mNone\u001B[39;00m\n\u001B[0;32m--> 362\u001B[0m \u001B[38;5;28;01mraise\u001B[39;00m exc\n\n\u001B[0;31mExecutionError\u001B[0m: An error occurred while calling o399.mount.\n: java.rmi.RemoteException: java.lang.IllegalArgumentException: requirement failed: Directory already mounted: /mnt/raw2; nested exception is: \n\tjava.lang.IllegalArgumentException: requirement failed: Directory already mounted: /mnt/raw2\n\tat com.databricks.backend.daemon.data.client.DbfsClient.send0(DbfsClient.scala:135)\n\tat com.databricks.backend.daemon.data.client.DbfsClient.sendIdempotent(DbfsClient.scala:69)\n\tat com.databricks.backend.daemon.dbutils.DBUtilsCore.createOrUpdateMount(DBUtilsCore.scala:1029)\n\tat com.databricks.backend.daemon.dbutils.DBUtilsCore.$anonfun$mount$1(DBUtilsCore.scala:1055)\n\tat com.databricks.logging.UsageLogging.$anonfun$recordOperation$1(UsageLogging.scala:560)\n\tat com.databricks.logging.UsageLogging.executeThunkAndCaptureResultTags$1(UsageLogging.scala:656)\n\tat com.databricks.logging.UsageLogging.$anonfun$recordOperationWithResultTags$4(UsageLogging.scala:677)\n\tat com.databricks.logging.UsageLogging.$anonfun$withAttributionContext$1(UsageLogging.scala:414)\n\tat scala.util.DynamicVariable.withValue(DynamicVariable.scala:62)\n\tat com.databricks.logging.AttributionContext$.withValue(AttributionContext.scala:158)\n\tat com.databricks.logging.UsageLogging.withAttributionContext(UsageLogging.scala:412)\n\tat com.databricks.logging.UsageLogging.withAttributionContext$(UsageLogging.scala:409)\n\tat com.databricks.backend.daemon.dbutils.FSUtils.withAttributionContext(DBUtilsCore.scala:69)\n\tat com.databricks.logging.UsageLogging.withAttributionTags(UsageLogging.scala:457)\n\tat com.databricks.logging.UsageLogging.withAttributionTags$(UsageLogging.scala:442)\n\tat com.databricks.backend.daemon.dbutils.FSUtils.withAttributionTags(DBUtilsCore.scala:69)\n\tat com.databricks.logging.UsageLogging.recordOperationWithResultTags(UsageLogging.scala:651)\n\tat com.databricks.logging.UsageLogging.recordOperationWithResultTags$(UsageLogging.scala:569)\n\tat com.databricks.backend.daemon.dbutils.FSUtils.recordOperationWithResultTags(DBUtilsCore.scala:69)\n\tat com.databricks.logging.UsageLogging.recordOperation(UsageLogging.scala:560)\n\tat com.databricks.logging.UsageLogging.recordOperation$(UsageLogging.scala:528)\n\tat com.databricks.backend.daemon.dbutils.FSUtils.recordOperation(DBUtilsCore.scala:69)\n\tat com.databricks.backend.daemon.dbutils.FSUtils.recordDbutilsFsOp(DBUtilsCore.scala:133)\n\tat com.databricks.backend.daemon.dbutils.DBUtilsCore.mount(DBUtilsCore.scala:1049)\n\tat sun.reflect.NativeMethodAccessorImpl.invoke0(Native Method)\n\tat sun.reflect.NativeMethodAccessorImpl.invoke(NativeMethodAccessorImpl.java:62)\n\tat sun.reflect.DelegatingMethodAccessorImpl.invoke(DelegatingMethodAccessorImpl.java:43)\n\tat java.lang.reflect.Method.invoke(Method.java:498)\n\tat py4j.reflection.MethodInvoker.invoke(MethodInvoker.java:244)\n\tat py4j.reflection.ReflectionEngine.invoke(ReflectionEngine.java:380)\n\tat py4j.Gateway.invoke(Gateway.java:306)\n\tat py4j.commands.AbstractCommand.invokeMethod(AbstractCommand.java:132)\n\tat py4j.commands.CallCommand.execute(CallCommand.java:79)\n\tat py4j.ClientServerConnection.waitForCommands(ClientServerConnection.java:195)\n\tat py4j.ClientServerConnection.run(ClientServerConnection.java:115)\n\tat java.lang.Thread.run(Thread.java:750)\nCaused by: java.lang.IllegalArgumentException: requirement failed: Directory already mounted: /mnt/raw2\n\tat scala.Predef$.require(Predef.scala:281)\n\tat com.databricks.backend.daemon.data.server.DefaultMetadataManager.$anonfun$insertMount$1(MetadataManager.scala:704)\n\tat com.databricks.backend.daemon.data.server.DefaultMetadataManager.$anonfun$modifyAndVerify$2(MetadataManager.scala:1080)\n\tat scala.runtime.java8.JFunction0$mcV$sp.apply(JFunction0$mcV$sp.java:23)\n\tat com.databricks.backend.daemon.data.server.DefaultMetadataManager.withRetries(MetadataManager.scala:853)\n\tat com.databricks.backend.daemon.data.server.DefaultMetadataManager.modifyAndVerify(MetadataManager.scala:1069)\n\tat com.databricks.backend.daemon.data.server.DefaultMetadataManager.insertMount(MetadataManager.scala:712)\n\tat com.databricks.backend.daemon.data.server.handler.MountHandler.receive(MountHandler.scala:128)\n\tat com.databricks.backend.daemon.data.server.handler.CEMountHandler.receive(MountHandler.scala:172)\n\tat com.databricks.backend.daemon.data.server.session.SessionContext.$anonfun$queryHandlers$1(SessionContext.scala:54)\n\tat com.databricks.backend.daemon.data.server.session.SessionContext.$anonfun$queryHandlers$1$adapted(SessionContext.scala:53)\n\tat scala.collection.immutable.List.foreach(List.scala:431)\n\tat com.databricks.backend.daemon.data.server.session.SessionContext.queryHandlers(SessionContext.scala:53)\n\tat com.databricks.backend.daemon.data.server.DbfsServerBackend$$anonfun$receive$4.$anonfun$applyOrElse$10(DbfsServerBackend.scala:407)\n\tat com.databricks.logging.UsageLogging.$anonfun$withAttributionContext$1(UsageLogging.scala:435)\n\tat scala.util.DynamicVariable.withValue(DynamicVariable.scala:62)\n\tat com.databricks.logging.AttributionContext$.withValue(AttributionContext.scala:216)\n\tat com.databricks.logging.UsageLogging.withAttributionContext(UsageLogging.scala:433)\n\tat com.databricks.logging.UsageLogging.withAttributionContext$(UsageLogging.scala:427)\n\tat com.databricks.rpc.ServerBackend.withAttributionContext(ServerBackend.scala:22)\n\tat com.databricks.logging.UsageLogging.withAttributionTags(UsageLogging.scala:481)\n\tat com.databricks.logging.UsageLogging.withAttributionTags$(UsageLogging.scala:464)\n\tat com.databricks.rpc.ServerBackend.withAttributionTags(ServerBackend.scala:22)\n\tat com.databricks.backend.daemon.data.server.DbfsServerBackend$$anonfun$receive$4.applyOrElse(DbfsServerBackend.scala:407)\n\tat com.databricks.backend.daemon.data.server.DbfsServerBackend$$anonfun$receive$4.applyOrElse(DbfsServerBackend.scala:327)\n\tat com.databricks.rpc.ServerBackend.$anonfun$internalReceive0$2(ServerBackend.scala:174)\n\tat com.databricks.rpc.ServerBackend$$anonfun$commonReceive$1.applyOrElse(ServerBackend.scala:200)\n\tat com.databricks.rpc.ServerBackend$$anonfun$commonReceive$1.applyOrElse(ServerBackend.scala:200)\n\tat com.databricks.rpc.ServerBackend.internalReceive0(ServerBackend.scala:171)\n\tat com.databricks.rpc.ServerBackend.$anonfun$internalReceive$1(ServerBackend.scala:147)\n\tat com.databricks.logging.UsageLogging.$anonfun$recordOperation$1(UsageLogging.scala:582)\n\tat com.databricks.logging.UsageLogging.executeThunkAndCaptureResultTags$1(UsageLogging.scala:685)\n\tat com.databricks.logging.UsageLogging.$anonfun$recordOperationWithResultTags$4(UsageLogging.scala:703)\n\tat com.databricks.logging.UsageLogging.$anonfun$withAttributionContext$1(UsageLogging.scala:435)\n\tat scala.util.DynamicVariable.withValue(DynamicVariable.scala:62)\n\tat com.databricks.logging.AttributionContext$.withValue(AttributionContext.scala:216)\n\tat com.databricks.logging.UsageLogging.withAttributionContext(UsageLogging.scala:433)\n\tat com.databricks.logging.UsageLogging.withAttributionContext$(UsageLogging.scala:427)\n\tat com.databricks.rpc.ServerBackend.withAttributionContext(ServerBackend.scala:22)\n\tat com.databricks.logging.UsageLogging.withAttributionTags(UsageLogging.scala:481)\n\tat com.databricks.logging.UsageLogging.withAttributionTags$(UsageLogging.scala:464)\n\tat com.databricks.rpc.ServerBackend.withAttributionTags(ServerBackend.scala:22)\n\tat com.databricks.logging.UsageLogging.recordOperationWithResultTags(UsageLogging.scala:680)\n\tat com.databricks.logging.UsageLogging.recordOperationWithResultTags$(UsageLogging.scala:591)\n\tat com.databricks.rpc.ServerBackend.recordOperationWithResultTags(ServerBackend.scala:22)\n\tat com.databricks.logging.UsageLogging.recordOperation(UsageLogging.scala:582)\n\tat com.databricks.logging.UsageLogging.recordOperation$(UsageLogging.scala:551)\n\tat com.databricks.rpc.ServerBackend.recordOperation(ServerBackend.scala:22)\n\tat com.databricks.rpc.ServerBackend.internalReceive(ServerBackend.scala:147)\n\tat com.databricks.rpc.JettyServer$RequestManager.handleRPC(JettyServer.scala:1021)\n\tat com.databricks.rpc.JettyServer$RequestManager.handleRequestAndRespond(JettyServer.scala:942)\n\tat com.databricks.rpc.JettyServer$RequestManager.$anonfun$handleHttp$6(JettyServer.scala:546)\n\tat com.databricks.rpc.JettyServer$RequestManager.$anonfun$handleHttp$6$adapted(JettyServer.scala:515)\n\tat com.databricks.logging.activity.ActivityContextFactory$.$anonfun$withActivityInternal$4(ActivityContextFactory.scala:483)\n\tat com.databricks.logging.UsageLogging.$anonfun$withAttributionContext$1(UsageLogging.scala:435)\n\tat scala.util.DynamicVariable.withValue(DynamicVariable.scala:62)\n\tat com.databricks.logging.AttributionContext$.withValue(AttributionContext.scala:216)\n\tat com.databricks.logging.UsageLogging.withAttributionContext(UsageLogging.scala:433)\n\tat com.databricks.logging.UsageLogging.withAttributionContext$(UsageLogging.scala:427)\n\tat com.databricks.logging.activity.ActivityContextFactory$.withAttributionContext(ActivityContextFactory.scala:58)\n\tat com.databricks.logging.activity.ActivityContextFactory$.$anonfun$withActivityInternal$1(ActivityContextFactory.scala:483)\n\tat com.databricks.context.integrity.IntegrityCheckContext$ThreadLocalStorage$.withValue(IntegrityCheckContext.scala:75)\n\tat com.databricks.logging.activity.ActivityContextFactory$.withActivityInternal(ActivityContextFactory.scala:458)\n\tat com.databricks.logging.activity.ActivityContextFactory$.withServiceRequestActivity(ActivityContextFactory.scala:160)\n\tat com.databricks.rpc.JettyServer$RequestManager.handleHttp(JettyServer.scala:515)\n\tat com.databricks.rpc.JettyServer$RequestManager.doPost(JettyServer.scala:405)\n\tat javax.servlet.http.HttpServlet.service(HttpServlet.java:665)\n\tat com.databricks.rpc.HttpServletWithPatch.service(HttpServletWithPatch.scala:33)\n\tat javax.servlet.http.HttpServlet.service(HttpServlet.java:750)\n\tat org.eclipse.jetty.servlet.ServletHolder.handle(ServletHolder.java:799)\n\tat org.eclipse.jetty.servlet.ServletHandler.doHandle(ServletHandler.java:554)\n\tat org.eclipse.jetty.server.handler.Sc ... (truncated)",
       "errorSummary": "java.rmi.RemoteException: java.lang.IllegalArgumentException: requirement failed: Directory already mounted: /mnt/raw2; nested exception is: ",
       "errorTraceType": "ansi",
       "metadata": {},
       "type": "ipynbError"
      }
     },
     "output_type": "display_data"
    }
   ],
   "source": [
    "dbutils.fs.mount(\n",
    "  source=\"wasbs://raw@drugprediction200.blob.core.windows.net\",\n",
    "  mount_point=\"/mnt/raw2\",\n",
    "  extra_configs={\"fs.azure.account.key.drugprediction200.blob.core.windows.net\": \"7MZVWuqwCAT6QOFKJSHPg4CGy4pZ5i3J/RpIgHxKgCh2RWseMvJMCocjwcXcUnNGbLN68/Lzq+Vp+AStGB7KHg==\"}\n",
    ")"
   ]
  },
  {
   "cell_type": "code",
   "execution_count": 0,
   "metadata": {
    "application/vnd.databricks.v1+cell": {
     "cellMetadata": {
      "byteLimit": 2048000,
      "rowLimit": 10000
     },
     "inputWidgets": {},
     "nuid": "7be7642f-7e76-4e1b-a7a9-2df906660d8d",
     "showTitle": false,
     "title": ""
    }
   },
   "outputs": [
    {
     "output_type": "stream",
     "name": "stdout",
     "output_type": "stream",
     "text": [
      "Out[2]: [FileInfo(path='dbfs:/mnt/raw2/`drug200_1`.txt', name='`drug200_1`.txt', size=9126, modificationTime=1712834992000)]"
     ]
    }
   ],
   "source": [
    "dbutils.fs.ls(\"/mnt/raw2\")"
   ]
  },
  {
   "cell_type": "code",
   "execution_count": 0,
   "metadata": {
    "application/vnd.databricks.v1+cell": {
     "cellMetadata": {
      "byteLimit": 2048000,
      "rowLimit": 10000
     },
     "inputWidgets": {},
     "nuid": "a2816b63-a697-40ab-a3ef-0e5c2109b0e9",
     "showTitle": false,
     "title": ""
    }
   },
   "outputs": [],
   "source": [
    "df = spark.read.format(\"csv\").options(header='True',inferschema='True').load('dbfs:/mnt/raw2/`drug200_1`.txt')"
   ]
  },
  {
   "cell_type": "code",
   "execution_count": 0,
   "metadata": {
    "application/vnd.databricks.v1+cell": {
     "cellMetadata": {
      "byteLimit": 2048000,
      "rowLimit": 10000
     },
     "inputWidgets": {},
     "nuid": "a5434cf5-ffe7-4378-8194-2e274f8710ae",
     "showTitle": false,
     "title": ""
    }
   },
   "outputs": [
    {
     "output_type": "display_data",
     "data": {
      "text/html": [
       "<style scoped>\n",
       "  .table-result-container {\n",
       "    max-height: 300px;\n",
       "    overflow: auto;\n",
       "  }\n",
       "  table, th, td {\n",
       "    border: 1px solid black;\n",
       "    border-collapse: collapse;\n",
       "  }\n",
       "  th, td {\n",
       "    padding: 5px;\n",
       "  }\n",
       "  th {\n",
       "    text-align: left;\n",
       "  }\n",
       "</style><div class='table-result-container'><table class='table-result'><thead style='background-color: white'><tr><th>Age</th><th>Sex</th><th>BP</th><th>Cholesterol</th><th>Na_to_K</th><th>Drug</th></tr></thead><tbody><tr><td>23</td><td>F</td><td>HIGH</td><td>HIGH</td><td>25.355</td><td>drugY</td></tr><tr><td>47</td><td>M</td><td>LOW</td><td>HIGH</td><td>13.093</td><td>drugC</td></tr><tr><td>47</td><td>M</td><td>LOW</td><td>HIGH</td><td>10.114</td><td>drugC</td></tr><tr><td>28</td><td>F</td><td>NORMAL</td><td>HIGH</td><td>7.798</td><td>drugX</td></tr><tr><td>61</td><td>F</td><td>LOW</td><td>HIGH</td><td>18.043</td><td>drugY</td></tr><tr><td>22</td><td>F</td><td>NORMAL</td><td>HIGH</td><td>8.607</td><td>drugX</td></tr><tr><td>49</td><td>F</td><td>NORMAL</td><td>HIGH</td><td>16.275</td><td>drugY</td></tr><tr><td>41</td><td>M</td><td>LOW</td><td>HIGH</td><td>11.037</td><td>drugC</td></tr><tr><td>60</td><td>M</td><td>NORMAL</td><td>HIGH</td><td>15.171</td><td>drugY</td></tr><tr><td>43</td><td>M</td><td>LOW</td><td>NORMAL</td><td>19.368</td><td>drugY</td></tr><tr><td>47</td><td>F</td><td>LOW</td><td>HIGH</td><td>11.767</td><td>drugC</td></tr><tr><td>34</td><td>F</td><td>HIGH</td><td>NORMAL</td><td>19.199</td><td>drugY</td></tr><tr><td>43</td><td>M</td><td>LOW</td><td>HIGH</td><td>15.376</td><td>drugY</td></tr><tr><td>74</td><td>F</td><td>LOW</td><td>HIGH</td><td>20.942</td><td>drugY</td></tr><tr><td>50</td><td>F</td><td>NORMAL</td><td>HIGH</td><td>12.703</td><td>drugX</td></tr><tr><td>16</td><td>F</td><td>HIGH</td><td>NORMAL</td><td>15.516</td><td>drugY</td></tr><tr><td>69</td><td>M</td><td>LOW</td><td>NORMAL</td><td>11.455</td><td>drugX</td></tr><tr><td>43</td><td>M</td><td>HIGH</td><td>HIGH</td><td>13.972</td><td>drugA</td></tr><tr><td>23</td><td>M</td><td>LOW</td><td>HIGH</td><td>7.298</td><td>drugC</td></tr><tr><td>32</td><td>F</td><td>HIGH</td><td>NORMAL</td><td>25.974</td><td>drugY</td></tr><tr><td>57</td><td>M</td><td>LOW</td><td>NORMAL</td><td>19.128</td><td>drugY</td></tr><tr><td>63</td><td>M</td><td>NORMAL</td><td>HIGH</td><td>25.917</td><td>drugY</td></tr><tr><td>47</td><td>M</td><td>LOW</td><td>NORMAL</td><td>30.568</td><td>drugY</td></tr><tr><td>48</td><td>F</td><td>LOW</td><td>HIGH</td><td>15.036</td><td>drugY</td></tr><tr><td>33</td><td>F</td><td>LOW</td><td>HIGH</td><td>33.486</td><td>drugY</td></tr><tr><td>28</td><td>F</td><td>HIGH</td><td>NORMAL</td><td>18.809</td><td>drugY</td></tr><tr><td>31</td><td>M</td><td>HIGH</td><td>HIGH</td><td>30.366</td><td>drugY</td></tr><tr><td>49</td><td>F</td><td>NORMAL</td><td>NORMAL</td><td>9.381</td><td>drugX</td></tr><tr><td>39</td><td>F</td><td>LOW</td><td>NORMAL</td><td>22.697</td><td>drugY</td></tr><tr><td>45</td><td>M</td><td>LOW</td><td>HIGH</td><td>17.951</td><td>drugY</td></tr><tr><td>18</td><td>F</td><td>NORMAL</td><td>NORMAL</td><td>8.75</td><td>drugX</td></tr><tr><td>74</td><td>M</td><td>HIGH</td><td>HIGH</td><td>9.567</td><td>drugB</td></tr><tr><td>49</td><td>M</td><td>LOW</td><td>NORMAL</td><td>11.014</td><td>drugX</td></tr><tr><td>65</td><td>F</td><td>HIGH</td><td>NORMAL</td><td>31.876</td><td>drugY</td></tr><tr><td>53</td><td>M</td><td>NORMAL</td><td>HIGH</td><td>14.133</td><td>drugX</td></tr><tr><td>46</td><td>M</td><td>NORMAL</td><td>NORMAL</td><td>7.285</td><td>drugX</td></tr><tr><td>32</td><td>M</td><td>HIGH</td><td>NORMAL</td><td>9.445</td><td>drugA</td></tr><tr><td>39</td><td>M</td><td>LOW</td><td>NORMAL</td><td>13.938</td><td>drugX</td></tr><tr><td>39</td><td>F</td><td>NORMAL</td><td>NORMAL</td><td>9.709</td><td>drugX</td></tr><tr><td>15</td><td>M</td><td>NORMAL</td><td>HIGH</td><td>9.084</td><td>drugX</td></tr><tr><td>73</td><td>F</td><td>NORMAL</td><td>HIGH</td><td>19.221</td><td>drugY</td></tr><tr><td>58</td><td>F</td><td>HIGH</td><td>NORMAL</td><td>14.239</td><td>drugB</td></tr><tr><td>50</td><td>M</td><td>NORMAL</td><td>NORMAL</td><td>15.79</td><td>drugY</td></tr><tr><td>23</td><td>M</td><td>NORMAL</td><td>HIGH</td><td>12.26</td><td>drugX</td></tr><tr><td>50</td><td>F</td><td>NORMAL</td><td>NORMAL</td><td>12.295</td><td>drugX</td></tr><tr><td>66</td><td>F</td><td>NORMAL</td><td>NORMAL</td><td>8.107</td><td>drugX</td></tr><tr><td>37</td><td>F</td><td>HIGH</td><td>HIGH</td><td>13.091</td><td>drugA</td></tr><tr><td>68</td><td>M</td><td>LOW</td><td>HIGH</td><td>10.291</td><td>drugC</td></tr><tr><td>23</td><td>M</td><td>NORMAL</td><td>HIGH</td><td>31.686</td><td>drugY</td></tr><tr><td>28</td><td>F</td><td>LOW</td><td>HIGH</td><td>19.796</td><td>drugY</td></tr><tr><td>58</td><td>F</td><td>HIGH</td><td>HIGH</td><td>19.416</td><td>drugY</td></tr><tr><td>67</td><td>M</td><td>NORMAL</td><td>NORMAL</td><td>10.898</td><td>drugX</td></tr><tr><td>62</td><td>M</td><td>LOW</td><td>NORMAL</td><td>27.183</td><td>drugY</td></tr><tr><td>24</td><td>F</td><td>HIGH</td><td>NORMAL</td><td>18.457</td><td>drugY</td></tr><tr><td>68</td><td>F</td><td>HIGH</td><td>NORMAL</td><td>10.189</td><td>drugB</td></tr><tr><td>26</td><td>F</td><td>LOW</td><td>HIGH</td><td>14.16</td><td>drugC</td></tr><tr><td>65</td><td>M</td><td>HIGH</td><td>NORMAL</td><td>11.34</td><td>drugB</td></tr><tr><td>40</td><td>M</td><td>HIGH</td><td>HIGH</td><td>27.826</td><td>drugY</td></tr><tr><td>60</td><td>M</td><td>NORMAL</td><td>NORMAL</td><td>10.091</td><td>drugX</td></tr><tr><td>34</td><td>M</td><td>HIGH</td><td>HIGH</td><td>18.703</td><td>drugY</td></tr><tr><td>38</td><td>F</td><td>LOW</td><td>NORMAL</td><td>29.875</td><td>drugY</td></tr><tr><td>24</td><td>M</td><td>HIGH</td><td>NORMAL</td><td>9.475</td><td>drugA</td></tr><tr><td>67</td><td>M</td><td>LOW</td><td>NORMAL</td><td>20.693</td><td>drugY</td></tr><tr><td>45</td><td>M</td><td>LOW</td><td>NORMAL</td><td>8.37</td><td>drugX</td></tr><tr><td>60</td><td>F</td><td>HIGH</td><td>HIGH</td><td>13.303</td><td>drugB</td></tr><tr><td>68</td><td>F</td><td>NORMAL</td><td>NORMAL</td><td>27.05</td><td>drugY</td></tr><tr><td>29</td><td>M</td><td>HIGH</td><td>HIGH</td><td>12.856</td><td>drugA</td></tr><tr><td>17</td><td>M</td><td>NORMAL</td><td>NORMAL</td><td>10.832</td><td>drugX</td></tr><tr><td>54</td><td>M</td><td>NORMAL</td><td>HIGH</td><td>24.658</td><td>drugY</td></tr><tr><td>18</td><td>F</td><td>HIGH</td><td>NORMAL</td><td>24.276</td><td>drugY</td></tr><tr><td>70</td><td>M</td><td>HIGH</td><td>HIGH</td><td>13.967</td><td>drugB</td></tr><tr><td>28</td><td>F</td><td>NORMAL</td><td>HIGH</td><td>19.675</td><td>drugY</td></tr><tr><td>24</td><td>F</td><td>NORMAL</td><td>HIGH</td><td>10.605</td><td>drugX</td></tr><tr><td>41</td><td>F</td><td>NORMAL</td><td>NORMAL</td><td>22.905</td><td>drugY</td></tr><tr><td>31</td><td>M</td><td>HIGH</td><td>NORMAL</td><td>17.069</td><td>drugY</td></tr><tr><td>26</td><td>M</td><td>LOW</td><td>NORMAL</td><td>20.909</td><td>drugY</td></tr><tr><td>36</td><td>F</td><td>HIGH</td><td>HIGH</td><td>11.198</td><td>drugA</td></tr><tr><td>26</td><td>F</td><td>HIGH</td><td>NORMAL</td><td>19.161</td><td>drugY</td></tr><tr><td>19</td><td>F</td><td>HIGH</td><td>HIGH</td><td>13.313</td><td>drugA</td></tr><tr><td>32</td><td>F</td><td>LOW</td><td>NORMAL</td><td>10.84</td><td>drugX</td></tr><tr><td>60</td><td>M</td><td>HIGH</td><td>HIGH</td><td>13.934</td><td>drugB</td></tr><tr><td>64</td><td>M</td><td>NORMAL</td><td>HIGH</td><td>7.761</td><td>drugX</td></tr><tr><td>32</td><td>F</td><td>LOW</td><td>HIGH</td><td>9.712</td><td>drugC</td></tr><tr><td>38</td><td>F</td><td>HIGH</td><td>NORMAL</td><td>11.326</td><td>drugA</td></tr><tr><td>47</td><td>F</td><td>LOW</td><td>HIGH</td><td>10.067</td><td>drugC</td></tr><tr><td>59</td><td>M</td><td>HIGH</td><td>HIGH</td><td>13.935</td><td>drugB</td></tr><tr><td>51</td><td>F</td><td>NORMAL</td><td>HIGH</td><td>13.597</td><td>drugX</td></tr><tr><td>69</td><td>M</td><td>LOW</td><td>HIGH</td><td>15.478</td><td>drugY</td></tr><tr><td>37</td><td>F</td><td>HIGH</td><td>NORMAL</td><td>23.091</td><td>drugY</td></tr><tr><td>50</td><td>F</td><td>NORMAL</td><td>NORMAL</td><td>17.211</td><td>drugY</td></tr><tr><td>62</td><td>M</td><td>NORMAL</td><td>HIGH</td><td>16.594</td><td>drugY</td></tr><tr><td>41</td><td>M</td><td>HIGH</td><td>NORMAL</td><td>15.156</td><td>drugY</td></tr><tr><td>29</td><td>F</td><td>HIGH</td><td>HIGH</td><td>29.45</td><td>drugY</td></tr><tr><td>42</td><td>F</td><td>LOW</td><td>NORMAL</td><td>29.271</td><td>drugY</td></tr><tr><td>56</td><td>M</td><td>LOW</td><td>HIGH</td><td>15.015</td><td>drugY</td></tr><tr><td>36</td><td>M</td><td>LOW</td><td>NORMAL</td><td>11.424</td><td>drugX</td></tr><tr><td>58</td><td>F</td><td>LOW</td><td>HIGH</td><td>38.247</td><td>drugY</td></tr><tr><td>56</td><td>F</td><td>HIGH</td><td>HIGH</td><td>25.395</td><td>drugY</td></tr><tr><td>20</td><td>M</td><td>HIGH</td><td>NORMAL</td><td>35.639</td><td>drugY</td></tr><tr><td>15</td><td>F</td><td>HIGH</td><td>NORMAL</td><td>16.725</td><td>drugY</td></tr><tr><td>31</td><td>M</td><td>HIGH</td><td>NORMAL</td><td>11.871</td><td>drugA</td></tr><tr><td>45</td><td>F</td><td>HIGH</td><td>HIGH</td><td>12.854</td><td>drugA</td></tr><tr><td>28</td><td>F</td><td>LOW</td><td>HIGH</td><td>13.127</td><td>drugC</td></tr><tr><td>56</td><td>M</td><td>NORMAL</td><td>HIGH</td><td>8.966</td><td>drugX</td></tr><tr><td>22</td><td>M</td><td>HIGH</td><td>NORMAL</td><td>28.294</td><td>drugY</td></tr><tr><td>37</td><td>M</td><td>LOW</td><td>NORMAL</td><td>8.968</td><td>drugX</td></tr><tr><td>22</td><td>M</td><td>NORMAL</td><td>HIGH</td><td>11.953</td><td>drugX</td></tr><tr><td>42</td><td>M</td><td>LOW</td><td>HIGH</td><td>20.013</td><td>drugY</td></tr><tr><td>72</td><td>M</td><td>HIGH</td><td>NORMAL</td><td>9.677</td><td>drugB</td></tr><tr><td>23</td><td>M</td><td>NORMAL</td><td>HIGH</td><td>16.85</td><td>drugY</td></tr><tr><td>50</td><td>M</td><td>HIGH</td><td>HIGH</td><td>7.49</td><td>drugA</td></tr><tr><td>47</td><td>F</td><td>NORMAL</td><td>NORMAL</td><td>6.683</td><td>drugX</td></tr><tr><td>35</td><td>M</td><td>LOW</td><td>NORMAL</td><td>9.17</td><td>drugX</td></tr><tr><td>65</td><td>F</td><td>LOW</td><td>NORMAL</td><td>13.769</td><td>drugX</td></tr><tr><td>20</td><td>F</td><td>NORMAL</td><td>NORMAL</td><td>9.281</td><td>drugX</td></tr><tr><td>51</td><td>M</td><td>HIGH</td><td>HIGH</td><td>18.295</td><td>drugY</td></tr><tr><td>67</td><td>M</td><td>NORMAL</td><td>NORMAL</td><td>9.514</td><td>drugX</td></tr><tr><td>40</td><td>F</td><td>NORMAL</td><td>HIGH</td><td>10.103</td><td>drugX</td></tr><tr><td>32</td><td>F</td><td>HIGH</td><td>NORMAL</td><td>10.292</td><td>drugA</td></tr><tr><td>61</td><td>F</td><td>HIGH</td><td>HIGH</td><td>25.475</td><td>drugY</td></tr><tr><td>28</td><td>M</td><td>NORMAL</td><td>HIGH</td><td>27.064</td><td>drugY</td></tr><tr><td>15</td><td>M</td><td>HIGH</td><td>NORMAL</td><td>17.206</td><td>drugY</td></tr><tr><td>34</td><td>M</td><td>NORMAL</td><td>HIGH</td><td>22.456</td><td>drugY</td></tr><tr><td>36</td><td>F</td><td>NORMAL</td><td>HIGH</td><td>16.753</td><td>drugY</td></tr><tr><td>53</td><td>F</td><td>HIGH</td><td>NORMAL</td><td>12.495</td><td>drugB</td></tr><tr><td>19</td><td>F</td><td>HIGH</td><td>NORMAL</td><td>25.969</td><td>drugY</td></tr><tr><td>66</td><td>M</td><td>HIGH</td><td>HIGH</td><td>16.347</td><td>drugY</td></tr><tr><td>35</td><td>M</td><td>NORMAL</td><td>NORMAL</td><td>7.845</td><td>drugX</td></tr><tr><td>47</td><td>M</td><td>LOW</td><td>NORMAL</td><td>33.542</td><td>drugY</td></tr><tr><td>32</td><td>F</td><td>NORMAL</td><td>HIGH</td><td>7.477</td><td>drugX</td></tr><tr><td>70</td><td>F</td><td>NORMAL</td><td>HIGH</td><td>20.489</td><td>drugY</td></tr><tr><td>52</td><td>M</td><td>LOW</td><td>NORMAL</td><td>32.922</td><td>drugY</td></tr><tr><td>49</td><td>M</td><td>LOW</td><td>NORMAL</td><td>13.598</td><td>drugX</td></tr><tr><td>24</td><td>M</td><td>NORMAL</td><td>HIGH</td><td>25.786</td><td>drugY</td></tr><tr><td>42</td><td>F</td><td>HIGH</td><td>HIGH</td><td>21.036</td><td>drugY</td></tr><tr><td>74</td><td>M</td><td>LOW</td><td>NORMAL</td><td>11.939</td><td>drugX</td></tr><tr><td>55</td><td>F</td><td>HIGH</td><td>HIGH</td><td>10.977</td><td>drugB</td></tr><tr><td>35</td><td>F</td><td>HIGH</td><td>HIGH</td><td>12.894</td><td>drugA</td></tr><tr><td>51</td><td>M</td><td>HIGH</td><td>NORMAL</td><td>11.343</td><td>drugB</td></tr><tr><td>69</td><td>F</td><td>NORMAL</td><td>HIGH</td><td>10.065</td><td>drugX</td></tr><tr><td>49</td><td>M</td><td>HIGH</td><td>NORMAL</td><td>6.269</td><td>drugA</td></tr><tr><td>64</td><td>F</td><td>LOW</td><td>NORMAL</td><td>25.741</td><td>drugY</td></tr><tr><td>60</td><td>M</td><td>HIGH</td><td>NORMAL</td><td>8.621</td><td>drugB</td></tr><tr><td>74</td><td>M</td><td>HIGH</td><td>NORMAL</td><td>15.436</td><td>drugY</td></tr><tr><td>39</td><td>M</td><td>HIGH</td><td>HIGH</td><td>9.664</td><td>drugA</td></tr><tr><td>61</td><td>M</td><td>NORMAL</td><td>HIGH</td><td>9.443</td><td>drugX</td></tr><tr><td>37</td><td>F</td><td>LOW</td><td>NORMAL</td><td>12.006</td><td>drugX</td></tr><tr><td>26</td><td>F</td><td>HIGH</td><td>NORMAL</td><td>12.307</td><td>drugA</td></tr><tr><td>61</td><td>F</td><td>LOW</td><td>NORMAL</td><td>7.34</td><td>drugX</td></tr><tr><td>22</td><td>M</td><td>LOW</td><td>HIGH</td><td>8.151</td><td>drugC</td></tr><tr><td>49</td><td>M</td><td>HIGH</td><td>NORMAL</td><td>8.7</td><td>drugA</td></tr><tr><td>68</td><td>M</td><td>HIGH</td><td>HIGH</td><td>11.009</td><td>drugB</td></tr><tr><td>55</td><td>M</td><td>NORMAL</td><td>NORMAL</td><td>7.261</td><td>drugX</td></tr><tr><td>72</td><td>F</td><td>LOW</td><td>NORMAL</td><td>14.642</td><td>drugX</td></tr><tr><td>37</td><td>M</td><td>LOW</td><td>NORMAL</td><td>16.724</td><td>drugY</td></tr><tr><td>49</td><td>M</td><td>LOW</td><td>HIGH</td><td>10.537</td><td>drugC</td></tr><tr><td>31</td><td>M</td><td>HIGH</td><td>NORMAL</td><td>11.227</td><td>drugA</td></tr><tr><td>53</td><td>M</td><td>LOW</td><td>HIGH</td><td>22.963</td><td>drugY</td></tr><tr><td>59</td><td>F</td><td>LOW</td><td>HIGH</td><td>10.444</td><td>drugC</td></tr><tr><td>34</td><td>F</td><td>LOW</td><td>NORMAL</td><td>12.923</td><td>drugX</td></tr><tr><td>30</td><td>F</td><td>NORMAL</td><td>HIGH</td><td>10.443</td><td>drugX</td></tr><tr><td>57</td><td>F</td><td>HIGH</td><td>NORMAL</td><td>9.945</td><td>drugB</td></tr><tr><td>43</td><td>M</td><td>NORMAL</td><td>NORMAL</td><td>12.859</td><td>drugX</td></tr><tr><td>21</td><td>F</td><td>HIGH</td><td>NORMAL</td><td>28.632</td><td>drugY</td></tr><tr><td>16</td><td>M</td><td>HIGH</td><td>NORMAL</td><td>19.007</td><td>drugY</td></tr><tr><td>38</td><td>M</td><td>LOW</td><td>HIGH</td><td>18.295</td><td>drugY</td></tr><tr><td>58</td><td>F</td><td>LOW</td><td>HIGH</td><td>26.645</td><td>drugY</td></tr><tr><td>57</td><td>F</td><td>NORMAL</td><td>HIGH</td><td>14.216</td><td>drugX</td></tr><tr><td>51</td><td>F</td><td>LOW</td><td>NORMAL</td><td>23.003</td><td>drugY</td></tr><tr><td>20</td><td>F</td><td>HIGH</td><td>HIGH</td><td>11.262</td><td>drugA</td></tr><tr><td>28</td><td>F</td><td>NORMAL</td><td>HIGH</td><td>12.879</td><td>drugX</td></tr><tr><td>45</td><td>M</td><td>LOW</td><td>NORMAL</td><td>10.017</td><td>drugX</td></tr><tr><td>39</td><td>F</td><td>NORMAL</td><td>NORMAL</td><td>17.225</td><td>drugY</td></tr><tr><td>41</td><td>F</td><td>LOW</td><td>NORMAL</td><td>18.739</td><td>drugY</td></tr><tr><td>42</td><td>M</td><td>HIGH</td><td>NORMAL</td><td>12.766</td><td>drugA</td></tr><tr><td>73</td><td>F</td><td>HIGH</td><td>HIGH</td><td>18.348</td><td>drugY</td></tr><tr><td>48</td><td>M</td><td>HIGH</td><td>NORMAL</td><td>10.446</td><td>drugA</td></tr><tr><td>25</td><td>M</td><td>NORMAL</td><td>HIGH</td><td>19.011</td><td>drugY</td></tr><tr><td>39</td><td>M</td><td>NORMAL</td><td>HIGH</td><td>15.969</td><td>drugY</td></tr><tr><td>67</td><td>F</td><td>NORMAL</td><td>HIGH</td><td>15.891</td><td>drugY</td></tr><tr><td>22</td><td>F</td><td>HIGH</td><td>NORMAL</td><td>22.818</td><td>drugY</td></tr><tr><td>59</td><td>F</td><td>NORMAL</td><td>HIGH</td><td>13.884</td><td>drugX</td></tr><tr><td>20</td><td>F</td><td>LOW</td><td>NORMAL</td><td>11.686</td><td>drugX</td></tr><tr><td>36</td><td>F</td><td>HIGH</td><td>NORMAL</td><td>15.49</td><td>drugY</td></tr><tr><td>18</td><td>F</td><td>HIGH</td><td>HIGH</td><td>37.188</td><td>drugY</td></tr><tr><td>57</td><td>F</td><td>NORMAL</td><td>NORMAL</td><td>25.893</td><td>drugY</td></tr><tr><td>70</td><td>M</td><td>HIGH</td><td>HIGH</td><td>9.849</td><td>drugB</td></tr><tr><td>47</td><td>M</td><td>HIGH</td><td>HIGH</td><td>10.403</td><td>drugA</td></tr><tr><td>65</td><td>M</td><td>HIGH</td><td>NORMAL</td><td>34.997</td><td>drugY</td></tr><tr><td>64</td><td>M</td><td>HIGH</td><td>NORMAL</td><td>20.932</td><td>drugY</td></tr><tr><td>58</td><td>M</td><td>HIGH</td><td>HIGH</td><td>18.991</td><td>drugY</td></tr><tr><td>23</td><td>M</td><td>HIGH</td><td>HIGH</td><td>8.011</td><td>drugA</td></tr><tr><td>72</td><td>M</td><td>LOW</td><td>HIGH</td><td>16.31</td><td>drugY</td></tr><tr><td>72</td><td>M</td><td>LOW</td><td>HIGH</td><td>6.769</td><td>drugC</td></tr><tr><td>46</td><td>F</td><td>HIGH</td><td>HIGH</td><td>34.686</td><td>drugY</td></tr><tr><td>56</td><td>F</td><td>LOW</td><td>HIGH</td><td>11.567</td><td>drugC</td></tr><tr><td>16</td><td>M</td><td>LOW</td><td>HIGH</td><td>12.006</td><td>drugC</td></tr><tr><td>52</td><td>M</td><td>NORMAL</td><td>HIGH</td><td>9.894</td><td>drugX</td></tr><tr><td>23</td><td>M</td><td>NORMAL</td><td>NORMAL</td><td>14.02</td><td>drugX</td></tr><tr><td>40</td><td>F</td><td>LOW</td><td>NORMAL</td><td>11.349</td><td>drugX</td></tr></tbody></table></div>"
      ]
     },
     "metadata": {
      "application/vnd.databricks.v1+output": {
       "addedWidgets": {},
       "aggData": [],
       "aggError": "",
       "aggOverflow": false,
       "aggSchema": [],
       "aggSeriesLimitReached": false,
       "aggType": "",
       "arguments": {},
       "columnCustomDisplayInfos": {},
       "data": [
        [
         23,
         "F",
         "HIGH",
         "HIGH",
         25.355,
         "drugY"
        ],
        [
         47,
         "M",
         "LOW",
         "HIGH",
         13.093,
         "drugC"
        ],
        [
         47,
         "M",
         "LOW",
         "HIGH",
         10.114,
         "drugC"
        ],
        [
         28,
         "F",
         "NORMAL",
         "HIGH",
         7.798,
         "drugX"
        ],
        [
         61,
         "F",
         "LOW",
         "HIGH",
         18.043,
         "drugY"
        ],
        [
         22,
         "F",
         "NORMAL",
         "HIGH",
         8.607,
         "drugX"
        ],
        [
         49,
         "F",
         "NORMAL",
         "HIGH",
         16.275,
         "drugY"
        ],
        [
         41,
         "M",
         "LOW",
         "HIGH",
         11.037,
         "drugC"
        ],
        [
         60,
         "M",
         "NORMAL",
         "HIGH",
         15.171,
         "drugY"
        ],
        [
         43,
         "M",
         "LOW",
         "NORMAL",
         19.368,
         "drugY"
        ],
        [
         47,
         "F",
         "LOW",
         "HIGH",
         11.767,
         "drugC"
        ],
        [
         34,
         "F",
         "HIGH",
         "NORMAL",
         19.199,
         "drugY"
        ],
        [
         43,
         "M",
         "LOW",
         "HIGH",
         15.376,
         "drugY"
        ],
        [
         74,
         "F",
         "LOW",
         "HIGH",
         20.942,
         "drugY"
        ],
        [
         50,
         "F",
         "NORMAL",
         "HIGH",
         12.703,
         "drugX"
        ],
        [
         16,
         "F",
         "HIGH",
         "NORMAL",
         15.516,
         "drugY"
        ],
        [
         69,
         "M",
         "LOW",
         "NORMAL",
         11.455,
         "drugX"
        ],
        [
         43,
         "M",
         "HIGH",
         "HIGH",
         13.972,
         "drugA"
        ],
        [
         23,
         "M",
         "LOW",
         "HIGH",
         7.298,
         "drugC"
        ],
        [
         32,
         "F",
         "HIGH",
         "NORMAL",
         25.974,
         "drugY"
        ],
        [
         57,
         "M",
         "LOW",
         "NORMAL",
         19.128,
         "drugY"
        ],
        [
         63,
         "M",
         "NORMAL",
         "HIGH",
         25.917,
         "drugY"
        ],
        [
         47,
         "M",
         "LOW",
         "NORMAL",
         30.568,
         "drugY"
        ],
        [
         48,
         "F",
         "LOW",
         "HIGH",
         15.036,
         "drugY"
        ],
        [
         33,
         "F",
         "LOW",
         "HIGH",
         33.486,
         "drugY"
        ],
        [
         28,
         "F",
         "HIGH",
         "NORMAL",
         18.809,
         "drugY"
        ],
        [
         31,
         "M",
         "HIGH",
         "HIGH",
         30.366,
         "drugY"
        ],
        [
         49,
         "F",
         "NORMAL",
         "NORMAL",
         9.381,
         "drugX"
        ],
        [
         39,
         "F",
         "LOW",
         "NORMAL",
         22.697,
         "drugY"
        ],
        [
         45,
         "M",
         "LOW",
         "HIGH",
         17.951,
         "drugY"
        ],
        [
         18,
         "F",
         "NORMAL",
         "NORMAL",
         8.75,
         "drugX"
        ],
        [
         74,
         "M",
         "HIGH",
         "HIGH",
         9.567,
         "drugB"
        ],
        [
         49,
         "M",
         "LOW",
         "NORMAL",
         11.014,
         "drugX"
        ],
        [
         65,
         "F",
         "HIGH",
         "NORMAL",
         31.876,
         "drugY"
        ],
        [
         53,
         "M",
         "NORMAL",
         "HIGH",
         14.133,
         "drugX"
        ],
        [
         46,
         "M",
         "NORMAL",
         "NORMAL",
         7.285,
         "drugX"
        ],
        [
         32,
         "M",
         "HIGH",
         "NORMAL",
         9.445,
         "drugA"
        ],
        [
         39,
         "M",
         "LOW",
         "NORMAL",
         13.938,
         "drugX"
        ],
        [
         39,
         "F",
         "NORMAL",
         "NORMAL",
         9.709,
         "drugX"
        ],
        [
         15,
         "M",
         "NORMAL",
         "HIGH",
         9.084,
         "drugX"
        ],
        [
         73,
         "F",
         "NORMAL",
         "HIGH",
         19.221,
         "drugY"
        ],
        [
         58,
         "F",
         "HIGH",
         "NORMAL",
         14.239,
         "drugB"
        ],
        [
         50,
         "M",
         "NORMAL",
         "NORMAL",
         15.79,
         "drugY"
        ],
        [
         23,
         "M",
         "NORMAL",
         "HIGH",
         12.26,
         "drugX"
        ],
        [
         50,
         "F",
         "NORMAL",
         "NORMAL",
         12.295,
         "drugX"
        ],
        [
         66,
         "F",
         "NORMAL",
         "NORMAL",
         8.107,
         "drugX"
        ],
        [
         37,
         "F",
         "HIGH",
         "HIGH",
         13.091,
         "drugA"
        ],
        [
         68,
         "M",
         "LOW",
         "HIGH",
         10.291,
         "drugC"
        ],
        [
         23,
         "M",
         "NORMAL",
         "HIGH",
         31.686,
         "drugY"
        ],
        [
         28,
         "F",
         "LOW",
         "HIGH",
         19.796,
         "drugY"
        ],
        [
         58,
         "F",
         "HIGH",
         "HIGH",
         19.416,
         "drugY"
        ],
        [
         67,
         "M",
         "NORMAL",
         "NORMAL",
         10.898,
         "drugX"
        ],
        [
         62,
         "M",
         "LOW",
         "NORMAL",
         27.183,
         "drugY"
        ],
        [
         24,
         "F",
         "HIGH",
         "NORMAL",
         18.457,
         "drugY"
        ],
        [
         68,
         "F",
         "HIGH",
         "NORMAL",
         10.189,
         "drugB"
        ],
        [
         26,
         "F",
         "LOW",
         "HIGH",
         14.16,
         "drugC"
        ],
        [
         65,
         "M",
         "HIGH",
         "NORMAL",
         11.34,
         "drugB"
        ],
        [
         40,
         "M",
         "HIGH",
         "HIGH",
         27.826,
         "drugY"
        ],
        [
         60,
         "M",
         "NORMAL",
         "NORMAL",
         10.091,
         "drugX"
        ],
        [
         34,
         "M",
         "HIGH",
         "HIGH",
         18.703,
         "drugY"
        ],
        [
         38,
         "F",
         "LOW",
         "NORMAL",
         29.875,
         "drugY"
        ],
        [
         24,
         "M",
         "HIGH",
         "NORMAL",
         9.475,
         "drugA"
        ],
        [
         67,
         "M",
         "LOW",
         "NORMAL",
         20.693,
         "drugY"
        ],
        [
         45,
         "M",
         "LOW",
         "NORMAL",
         8.37,
         "drugX"
        ],
        [
         60,
         "F",
         "HIGH",
         "HIGH",
         13.303,
         "drugB"
        ],
        [
         68,
         "F",
         "NORMAL",
         "NORMAL",
         27.05,
         "drugY"
        ],
        [
         29,
         "M",
         "HIGH",
         "HIGH",
         12.856,
         "drugA"
        ],
        [
         17,
         "M",
         "NORMAL",
         "NORMAL",
         10.832,
         "drugX"
        ],
        [
         54,
         "M",
         "NORMAL",
         "HIGH",
         24.658,
         "drugY"
        ],
        [
         18,
         "F",
         "HIGH",
         "NORMAL",
         24.276,
         "drugY"
        ],
        [
         70,
         "M",
         "HIGH",
         "HIGH",
         13.967,
         "drugB"
        ],
        [
         28,
         "F",
         "NORMAL",
         "HIGH",
         19.675,
         "drugY"
        ],
        [
         24,
         "F",
         "NORMAL",
         "HIGH",
         10.605,
         "drugX"
        ],
        [
         41,
         "F",
         "NORMAL",
         "NORMAL",
         22.905,
         "drugY"
        ],
        [
         31,
         "M",
         "HIGH",
         "NORMAL",
         17.069,
         "drugY"
        ],
        [
         26,
         "M",
         "LOW",
         "NORMAL",
         20.909,
         "drugY"
        ],
        [
         36,
         "F",
         "HIGH",
         "HIGH",
         11.198,
         "drugA"
        ],
        [
         26,
         "F",
         "HIGH",
         "NORMAL",
         19.161,
         "drugY"
        ],
        [
         19,
         "F",
         "HIGH",
         "HIGH",
         13.313,
         "drugA"
        ],
        [
         32,
         "F",
         "LOW",
         "NORMAL",
         10.84,
         "drugX"
        ],
        [
         60,
         "M",
         "HIGH",
         "HIGH",
         13.934,
         "drugB"
        ],
        [
         64,
         "M",
         "NORMAL",
         "HIGH",
         7.761,
         "drugX"
        ],
        [
         32,
         "F",
         "LOW",
         "HIGH",
         9.712,
         "drugC"
        ],
        [
         38,
         "F",
         "HIGH",
         "NORMAL",
         11.326,
         "drugA"
        ],
        [
         47,
         "F",
         "LOW",
         "HIGH",
         10.067,
         "drugC"
        ],
        [
         59,
         "M",
         "HIGH",
         "HIGH",
         13.935,
         "drugB"
        ],
        [
         51,
         "F",
         "NORMAL",
         "HIGH",
         13.597,
         "drugX"
        ],
        [
         69,
         "M",
         "LOW",
         "HIGH",
         15.478,
         "drugY"
        ],
        [
         37,
         "F",
         "HIGH",
         "NORMAL",
         23.091,
         "drugY"
        ],
        [
         50,
         "F",
         "NORMAL",
         "NORMAL",
         17.211,
         "drugY"
        ],
        [
         62,
         "M",
         "NORMAL",
         "HIGH",
         16.594,
         "drugY"
        ],
        [
         41,
         "M",
         "HIGH",
         "NORMAL",
         15.156,
         "drugY"
        ],
        [
         29,
         "F",
         "HIGH",
         "HIGH",
         29.45,
         "drugY"
        ],
        [
         42,
         "F",
         "LOW",
         "NORMAL",
         29.271,
         "drugY"
        ],
        [
         56,
         "M",
         "LOW",
         "HIGH",
         15.015,
         "drugY"
        ],
        [
         36,
         "M",
         "LOW",
         "NORMAL",
         11.424,
         "drugX"
        ],
        [
         58,
         "F",
         "LOW",
         "HIGH",
         38.247,
         "drugY"
        ],
        [
         56,
         "F",
         "HIGH",
         "HIGH",
         25.395,
         "drugY"
        ],
        [
         20,
         "M",
         "HIGH",
         "NORMAL",
         35.639,
         "drugY"
        ],
        [
         15,
         "F",
         "HIGH",
         "NORMAL",
         16.725,
         "drugY"
        ],
        [
         31,
         "M",
         "HIGH",
         "NORMAL",
         11.871,
         "drugA"
        ],
        [
         45,
         "F",
         "HIGH",
         "HIGH",
         12.854,
         "drugA"
        ],
        [
         28,
         "F",
         "LOW",
         "HIGH",
         13.127,
         "drugC"
        ],
        [
         56,
         "M",
         "NORMAL",
         "HIGH",
         8.966,
         "drugX"
        ],
        [
         22,
         "M",
         "HIGH",
         "NORMAL",
         28.294,
         "drugY"
        ],
        [
         37,
         "M",
         "LOW",
         "NORMAL",
         8.968,
         "drugX"
        ],
        [
         22,
         "M",
         "NORMAL",
         "HIGH",
         11.953,
         "drugX"
        ],
        [
         42,
         "M",
         "LOW",
         "HIGH",
         20.013,
         "drugY"
        ],
        [
         72,
         "M",
         "HIGH",
         "NORMAL",
         9.677,
         "drugB"
        ],
        [
         23,
         "M",
         "NORMAL",
         "HIGH",
         16.85,
         "drugY"
        ],
        [
         50,
         "M",
         "HIGH",
         "HIGH",
         7.49,
         "drugA"
        ],
        [
         47,
         "F",
         "NORMAL",
         "NORMAL",
         6.683,
         "drugX"
        ],
        [
         35,
         "M",
         "LOW",
         "NORMAL",
         9.17,
         "drugX"
        ],
        [
         65,
         "F",
         "LOW",
         "NORMAL",
         13.769,
         "drugX"
        ],
        [
         20,
         "F",
         "NORMAL",
         "NORMAL",
         9.281,
         "drugX"
        ],
        [
         51,
         "M",
         "HIGH",
         "HIGH",
         18.295,
         "drugY"
        ],
        [
         67,
         "M",
         "NORMAL",
         "NORMAL",
         9.514,
         "drugX"
        ],
        [
         40,
         "F",
         "NORMAL",
         "HIGH",
         10.103,
         "drugX"
        ],
        [
         32,
         "F",
         "HIGH",
         "NORMAL",
         10.292,
         "drugA"
        ],
        [
         61,
         "F",
         "HIGH",
         "HIGH",
         25.475,
         "drugY"
        ],
        [
         28,
         "M",
         "NORMAL",
         "HIGH",
         27.064,
         "drugY"
        ],
        [
         15,
         "M",
         "HIGH",
         "NORMAL",
         17.206,
         "drugY"
        ],
        [
         34,
         "M",
         "NORMAL",
         "HIGH",
         22.456,
         "drugY"
        ],
        [
         36,
         "F",
         "NORMAL",
         "HIGH",
         16.753,
         "drugY"
        ],
        [
         53,
         "F",
         "HIGH",
         "NORMAL",
         12.495,
         "drugB"
        ],
        [
         19,
         "F",
         "HIGH",
         "NORMAL",
         25.969,
         "drugY"
        ],
        [
         66,
         "M",
         "HIGH",
         "HIGH",
         16.347,
         "drugY"
        ],
        [
         35,
         "M",
         "NORMAL",
         "NORMAL",
         7.845,
         "drugX"
        ],
        [
         47,
         "M",
         "LOW",
         "NORMAL",
         33.542,
         "drugY"
        ],
        [
         32,
         "F",
         "NORMAL",
         "HIGH",
         7.477,
         "drugX"
        ],
        [
         70,
         "F",
         "NORMAL",
         "HIGH",
         20.489,
         "drugY"
        ],
        [
         52,
         "M",
         "LOW",
         "NORMAL",
         32.922,
         "drugY"
        ],
        [
         49,
         "M",
         "LOW",
         "NORMAL",
         13.598,
         "drugX"
        ],
        [
         24,
         "M",
         "NORMAL",
         "HIGH",
         25.786,
         "drugY"
        ],
        [
         42,
         "F",
         "HIGH",
         "HIGH",
         21.036,
         "drugY"
        ],
        [
         74,
         "M",
         "LOW",
         "NORMAL",
         11.939,
         "drugX"
        ],
        [
         55,
         "F",
         "HIGH",
         "HIGH",
         10.977,
         "drugB"
        ],
        [
         35,
         "F",
         "HIGH",
         "HIGH",
         12.894,
         "drugA"
        ],
        [
         51,
         "M",
         "HIGH",
         "NORMAL",
         11.343,
         "drugB"
        ],
        [
         69,
         "F",
         "NORMAL",
         "HIGH",
         10.065,
         "drugX"
        ],
        [
         49,
         "M",
         "HIGH",
         "NORMAL",
         6.269,
         "drugA"
        ],
        [
         64,
         "F",
         "LOW",
         "NORMAL",
         25.741,
         "drugY"
        ],
        [
         60,
         "M",
         "HIGH",
         "NORMAL",
         8.621,
         "drugB"
        ],
        [
         74,
         "M",
         "HIGH",
         "NORMAL",
         15.436,
         "drugY"
        ],
        [
         39,
         "M",
         "HIGH",
         "HIGH",
         9.664,
         "drugA"
        ],
        [
         61,
         "M",
         "NORMAL",
         "HIGH",
         9.443,
         "drugX"
        ],
        [
         37,
         "F",
         "LOW",
         "NORMAL",
         12.006,
         "drugX"
        ],
        [
         26,
         "F",
         "HIGH",
         "NORMAL",
         12.307,
         "drugA"
        ],
        [
         61,
         "F",
         "LOW",
         "NORMAL",
         7.34,
         "drugX"
        ],
        [
         22,
         "M",
         "LOW",
         "HIGH",
         8.151,
         "drugC"
        ],
        [
         49,
         "M",
         "HIGH",
         "NORMAL",
         8.7,
         "drugA"
        ],
        [
         68,
         "M",
         "HIGH",
         "HIGH",
         11.009,
         "drugB"
        ],
        [
         55,
         "M",
         "NORMAL",
         "NORMAL",
         7.261,
         "drugX"
        ],
        [
         72,
         "F",
         "LOW",
         "NORMAL",
         14.642,
         "drugX"
        ],
        [
         37,
         "M",
         "LOW",
         "NORMAL",
         16.724,
         "drugY"
        ],
        [
         49,
         "M",
         "LOW",
         "HIGH",
         10.537,
         "drugC"
        ],
        [
         31,
         "M",
         "HIGH",
         "NORMAL",
         11.227,
         "drugA"
        ],
        [
         53,
         "M",
         "LOW",
         "HIGH",
         22.963,
         "drugY"
        ],
        [
         59,
         "F",
         "LOW",
         "HIGH",
         10.444,
         "drugC"
        ],
        [
         34,
         "F",
         "LOW",
         "NORMAL",
         12.923,
         "drugX"
        ],
        [
         30,
         "F",
         "NORMAL",
         "HIGH",
         10.443,
         "drugX"
        ],
        [
         57,
         "F",
         "HIGH",
         "NORMAL",
         9.945,
         "drugB"
        ],
        [
         43,
         "M",
         "NORMAL",
         "NORMAL",
         12.859,
         "drugX"
        ],
        [
         21,
         "F",
         "HIGH",
         "NORMAL",
         28.632,
         "drugY"
        ],
        [
         16,
         "M",
         "HIGH",
         "NORMAL",
         19.007,
         "drugY"
        ],
        [
         38,
         "M",
         "LOW",
         "HIGH",
         18.295,
         "drugY"
        ],
        [
         58,
         "F",
         "LOW",
         "HIGH",
         26.645,
         "drugY"
        ],
        [
         57,
         "F",
         "NORMAL",
         "HIGH",
         14.216,
         "drugX"
        ],
        [
         51,
         "F",
         "LOW",
         "NORMAL",
         23.003,
         "drugY"
        ],
        [
         20,
         "F",
         "HIGH",
         "HIGH",
         11.262,
         "drugA"
        ],
        [
         28,
         "F",
         "NORMAL",
         "HIGH",
         12.879,
         "drugX"
        ],
        [
         45,
         "M",
         "LOW",
         "NORMAL",
         10.017,
         "drugX"
        ],
        [
         39,
         "F",
         "NORMAL",
         "NORMAL",
         17.225,
         "drugY"
        ],
        [
         41,
         "F",
         "LOW",
         "NORMAL",
         18.739,
         "drugY"
        ],
        [
         42,
         "M",
         "HIGH",
         "NORMAL",
         12.766,
         "drugA"
        ],
        [
         73,
         "F",
         "HIGH",
         "HIGH",
         18.348,
         "drugY"
        ],
        [
         48,
         "M",
         "HIGH",
         "NORMAL",
         10.446,
         "drugA"
        ],
        [
         25,
         "M",
         "NORMAL",
         "HIGH",
         19.011,
         "drugY"
        ],
        [
         39,
         "M",
         "NORMAL",
         "HIGH",
         15.969,
         "drugY"
        ],
        [
         67,
         "F",
         "NORMAL",
         "HIGH",
         15.891,
         "drugY"
        ],
        [
         22,
         "F",
         "HIGH",
         "NORMAL",
         22.818,
         "drugY"
        ],
        [
         59,
         "F",
         "NORMAL",
         "HIGH",
         13.884,
         "drugX"
        ],
        [
         20,
         "F",
         "LOW",
         "NORMAL",
         11.686,
         "drugX"
        ],
        [
         36,
         "F",
         "HIGH",
         "NORMAL",
         15.49,
         "drugY"
        ],
        [
         18,
         "F",
         "HIGH",
         "HIGH",
         37.188,
         "drugY"
        ],
        [
         57,
         "F",
         "NORMAL",
         "NORMAL",
         25.893,
         "drugY"
        ],
        [
         70,
         "M",
         "HIGH",
         "HIGH",
         9.849,
         "drugB"
        ],
        [
         47,
         "M",
         "HIGH",
         "HIGH",
         10.403,
         "drugA"
        ],
        [
         65,
         "M",
         "HIGH",
         "NORMAL",
         34.997,
         "drugY"
        ],
        [
         64,
         "M",
         "HIGH",
         "NORMAL",
         20.932,
         "drugY"
        ],
        [
         58,
         "M",
         "HIGH",
         "HIGH",
         18.991,
         "drugY"
        ],
        [
         23,
         "M",
         "HIGH",
         "HIGH",
         8.011,
         "drugA"
        ],
        [
         72,
         "M",
         "LOW",
         "HIGH",
         16.31,
         "drugY"
        ],
        [
         72,
         "M",
         "LOW",
         "HIGH",
         6.769,
         "drugC"
        ],
        [
         46,
         "F",
         "HIGH",
         "HIGH",
         34.686,
         "drugY"
        ],
        [
         56,
         "F",
         "LOW",
         "HIGH",
         11.567,
         "drugC"
        ],
        [
         16,
         "M",
         "LOW",
         "HIGH",
         12.006,
         "drugC"
        ],
        [
         52,
         "M",
         "NORMAL",
         "HIGH",
         9.894,
         "drugX"
        ],
        [
         23,
         "M",
         "NORMAL",
         "NORMAL",
         14.02,
         "drugX"
        ],
        [
         40,
         "F",
         "LOW",
         "NORMAL",
         11.349,
         "drugX"
        ]
       ],
       "datasetInfos": [],
       "dbfsResultPath": null,
       "isJsonSchema": true,
       "metadata": {},
       "overflow": false,
       "plotOptions": {
        "customPlotOptions": {},
        "displayType": "table",
        "pivotAggregation": null,
        "pivotColumns": null,
        "xColumns": null,
        "yColumns": null
       },
       "removedWidgets": [],
       "schema": [
        {
         "metadata": "{}",
         "name": "Age",
         "type": "\"integer\""
        },
        {
         "metadata": "{}",
         "name": "Sex",
         "type": "\"string\""
        },
        {
         "metadata": "{}",
         "name": "BP",
         "type": "\"string\""
        },
        {
         "metadata": "{}",
         "name": "Cholesterol",
         "type": "\"string\""
        },
        {
         "metadata": "{}",
         "name": "Na_to_K",
         "type": "\"double\""
        },
        {
         "metadata": "{}",
         "name": "Drug",
         "type": "\"string\""
        }
       ],
       "type": "table"
      }
     },
     "output_type": "display_data"
    }
   ],
   "source": [
    "display(df)"
   ]
  },
  {
   "cell_type": "code",
   "execution_count": 0,
   "metadata": {
    "application/vnd.databricks.v1+cell": {
     "cellMetadata": {
      "byteLimit": 2048000,
      "rowLimit": 10000
     },
     "inputWidgets": {},
     "nuid": "6acc7dbf-0515-463f-a818-54ac52640193",
     "showTitle": false,
     "title": ""
    }
   },
   "outputs": [
    {
     "output_type": "display_data",
     "data": {
      "application/vnd.databricks.v1+bamboolib_hint": "{\"pd.DataFrames\": [], \"version\": \"0.0.1\"}",
      "text/plain": []
     },
     "metadata": {},
     "output_type": "display_data"
    }
   ],
   "source": [
    "import pandas as pd\n",
    "import numpy as np\n"
   ]
  },
  {
   "cell_type": "code",
   "execution_count": 0,
   "metadata": {
    "application/vnd.databricks.v1+cell": {
     "cellMetadata": {
      "byteLimit": 2048000,
      "rowLimit": 10000
     },
     "inputWidgets": {},
     "nuid": "804e2659-13ff-4d56-a2d5-9bffa9dcccfc",
     "showTitle": false,
     "title": ""
    }
   },
   "outputs": [
    {
     "output_type": "display_data",
     "data": {
      "text/plain": [
       "\u001B[0;31m---------------------------------------------------------------------------\u001B[0m\n",
       "\u001B[0;31mAttributeError\u001B[0m                            Traceback (most recent call last)\n",
       "File \u001B[0;32m<command-982841849114378>:1\u001B[0m\n",
       "\u001B[0;32m----> 1\u001B[0m \u001B[43mdf\u001B[49m\u001B[38;5;241;43m.\u001B[39;49m\u001B[43misnull\u001B[49m()\u001B[38;5;241m.\u001B[39msum()\n",
       "\n",
       "File \u001B[0;32m/databricks/spark/python/pyspark/instrumentation_utils.py:48\u001B[0m, in \u001B[0;36m_wrap_function.<locals>.wrapper\u001B[0;34m(*args, **kwargs)\u001B[0m\n",
       "\u001B[1;32m     46\u001B[0m start \u001B[38;5;241m=\u001B[39m time\u001B[38;5;241m.\u001B[39mperf_counter()\n",
       "\u001B[1;32m     47\u001B[0m \u001B[38;5;28;01mtry\u001B[39;00m:\n",
       "\u001B[0;32m---> 48\u001B[0m     res \u001B[38;5;241m=\u001B[39m \u001B[43mfunc\u001B[49m\u001B[43m(\u001B[49m\u001B[38;5;241;43m*\u001B[39;49m\u001B[43margs\u001B[49m\u001B[43m,\u001B[49m\u001B[43m \u001B[49m\u001B[38;5;241;43m*\u001B[39;49m\u001B[38;5;241;43m*\u001B[39;49m\u001B[43mkwargs\u001B[49m\u001B[43m)\u001B[49m\n",
       "\u001B[1;32m     49\u001B[0m     logger\u001B[38;5;241m.\u001B[39mlog_success(\n",
       "\u001B[1;32m     50\u001B[0m         module_name, class_name, function_name, time\u001B[38;5;241m.\u001B[39mperf_counter() \u001B[38;5;241m-\u001B[39m start, signature\n",
       "\u001B[1;32m     51\u001B[0m     )\n",
       "\u001B[1;32m     52\u001B[0m     \u001B[38;5;28;01mreturn\u001B[39;00m res\n",
       "\n",
       "File \u001B[0;32m/databricks/spark/python/pyspark/sql/dataframe.py:2964\u001B[0m, in \u001B[0;36mDataFrame.__getattr__\u001B[0;34m(self, name)\u001B[0m\n",
       "\u001B[1;32m   2934\u001B[0m \u001B[38;5;124;03m\"\"\"Returns the :class:`Column` denoted by ``name``.\u001B[39;00m\n",
       "\u001B[1;32m   2935\u001B[0m \n",
       "\u001B[1;32m   2936\u001B[0m \u001B[38;5;124;03m.. versionadded:: 1.3.0\u001B[39;00m\n",
       "\u001B[0;32m   (...)\u001B[0m\n",
       "\u001B[1;32m   2961\u001B[0m \u001B[38;5;124;03m+---+\u001B[39;00m\n",
       "\u001B[1;32m   2962\u001B[0m \u001B[38;5;124;03m\"\"\"\u001B[39;00m\n",
       "\u001B[1;32m   2963\u001B[0m \u001B[38;5;28;01mif\u001B[39;00m name \u001B[38;5;129;01mnot\u001B[39;00m \u001B[38;5;129;01min\u001B[39;00m \u001B[38;5;28mself\u001B[39m\u001B[38;5;241m.\u001B[39mcolumns:\n",
       "\u001B[0;32m-> 2964\u001B[0m     \u001B[38;5;28;01mraise\u001B[39;00m \u001B[38;5;167;01mAttributeError\u001B[39;00m(\n",
       "\u001B[1;32m   2965\u001B[0m         \u001B[38;5;124m\"\u001B[39m\u001B[38;5;124m'\u001B[39m\u001B[38;5;132;01m%s\u001B[39;00m\u001B[38;5;124m'\u001B[39m\u001B[38;5;124m object has no attribute \u001B[39m\u001B[38;5;124m'\u001B[39m\u001B[38;5;132;01m%s\u001B[39;00m\u001B[38;5;124m'\u001B[39m\u001B[38;5;124m\"\u001B[39m \u001B[38;5;241m%\u001B[39m (\u001B[38;5;28mself\u001B[39m\u001B[38;5;241m.\u001B[39m\u001B[38;5;18m__class__\u001B[39m\u001B[38;5;241m.\u001B[39m\u001B[38;5;18m__name__\u001B[39m, name)\n",
       "\u001B[1;32m   2966\u001B[0m     )\n",
       "\u001B[1;32m   2967\u001B[0m jc \u001B[38;5;241m=\u001B[39m \u001B[38;5;28mself\u001B[39m\u001B[38;5;241m.\u001B[39m_jdf\u001B[38;5;241m.\u001B[39mapply(name)\n",
       "\u001B[1;32m   2968\u001B[0m \u001B[38;5;28;01mreturn\u001B[39;00m Column(jc)\n",
       "\n",
       "\u001B[0;31mAttributeError\u001B[0m: 'DataFrame' object has no attribute 'isnull'"
      ]
     },
     "metadata": {
      "application/vnd.databricks.v1+output": {
       "arguments": {},
       "data": "\u001B[0;31m---------------------------------------------------------------------------\u001B[0m\n\u001B[0;31mAttributeError\u001B[0m                            Traceback (most recent call last)\nFile \u001B[0;32m<command-982841849114378>:1\u001B[0m\n\u001B[0;32m----> 1\u001B[0m \u001B[43mdf\u001B[49m\u001B[38;5;241;43m.\u001B[39;49m\u001B[43misnull\u001B[49m()\u001B[38;5;241m.\u001B[39msum()\n\nFile \u001B[0;32m/databricks/spark/python/pyspark/instrumentation_utils.py:48\u001B[0m, in \u001B[0;36m_wrap_function.<locals>.wrapper\u001B[0;34m(*args, **kwargs)\u001B[0m\n\u001B[1;32m     46\u001B[0m start \u001B[38;5;241m=\u001B[39m time\u001B[38;5;241m.\u001B[39mperf_counter()\n\u001B[1;32m     47\u001B[0m \u001B[38;5;28;01mtry\u001B[39;00m:\n\u001B[0;32m---> 48\u001B[0m     res \u001B[38;5;241m=\u001B[39m \u001B[43mfunc\u001B[49m\u001B[43m(\u001B[49m\u001B[38;5;241;43m*\u001B[39;49m\u001B[43margs\u001B[49m\u001B[43m,\u001B[49m\u001B[43m \u001B[49m\u001B[38;5;241;43m*\u001B[39;49m\u001B[38;5;241;43m*\u001B[39;49m\u001B[43mkwargs\u001B[49m\u001B[43m)\u001B[49m\n\u001B[1;32m     49\u001B[0m     logger\u001B[38;5;241m.\u001B[39mlog_success(\n\u001B[1;32m     50\u001B[0m         module_name, class_name, function_name, time\u001B[38;5;241m.\u001B[39mperf_counter() \u001B[38;5;241m-\u001B[39m start, signature\n\u001B[1;32m     51\u001B[0m     )\n\u001B[1;32m     52\u001B[0m     \u001B[38;5;28;01mreturn\u001B[39;00m res\n\nFile \u001B[0;32m/databricks/spark/python/pyspark/sql/dataframe.py:2964\u001B[0m, in \u001B[0;36mDataFrame.__getattr__\u001B[0;34m(self, name)\u001B[0m\n\u001B[1;32m   2934\u001B[0m \u001B[38;5;124;03m\"\"\"Returns the :class:`Column` denoted by ``name``.\u001B[39;00m\n\u001B[1;32m   2935\u001B[0m \n\u001B[1;32m   2936\u001B[0m \u001B[38;5;124;03m.. versionadded:: 1.3.0\u001B[39;00m\n\u001B[0;32m   (...)\u001B[0m\n\u001B[1;32m   2961\u001B[0m \u001B[38;5;124;03m+---+\u001B[39;00m\n\u001B[1;32m   2962\u001B[0m \u001B[38;5;124;03m\"\"\"\u001B[39;00m\n\u001B[1;32m   2963\u001B[0m \u001B[38;5;28;01mif\u001B[39;00m name \u001B[38;5;129;01mnot\u001B[39;00m \u001B[38;5;129;01min\u001B[39;00m \u001B[38;5;28mself\u001B[39m\u001B[38;5;241m.\u001B[39mcolumns:\n\u001B[0;32m-> 2964\u001B[0m     \u001B[38;5;28;01mraise\u001B[39;00m \u001B[38;5;167;01mAttributeError\u001B[39;00m(\n\u001B[1;32m   2965\u001B[0m         \u001B[38;5;124m\"\u001B[39m\u001B[38;5;124m'\u001B[39m\u001B[38;5;132;01m%s\u001B[39;00m\u001B[38;5;124m'\u001B[39m\u001B[38;5;124m object has no attribute \u001B[39m\u001B[38;5;124m'\u001B[39m\u001B[38;5;132;01m%s\u001B[39;00m\u001B[38;5;124m'\u001B[39m\u001B[38;5;124m\"\u001B[39m \u001B[38;5;241m%\u001B[39m (\u001B[38;5;28mself\u001B[39m\u001B[38;5;241m.\u001B[39m\u001B[38;5;18m__class__\u001B[39m\u001B[38;5;241m.\u001B[39m\u001B[38;5;18m__name__\u001B[39m, name)\n\u001B[1;32m   2966\u001B[0m     )\n\u001B[1;32m   2967\u001B[0m jc \u001B[38;5;241m=\u001B[39m \u001B[38;5;28mself\u001B[39m\u001B[38;5;241m.\u001B[39m_jdf\u001B[38;5;241m.\u001B[39mapply(name)\n\u001B[1;32m   2968\u001B[0m \u001B[38;5;28;01mreturn\u001B[39;00m Column(jc)\n\n\u001B[0;31mAttributeError\u001B[0m: 'DataFrame' object has no attribute 'isnull'",
       "errorSummary": "<span class='ansi-red-fg'>AttributeError</span>: 'DataFrame' object has no attribute 'isnull'",
       "errorTraceType": "ansi",
       "metadata": {},
       "type": "ipynbError"
      }
     },
     "output_type": "display_data"
    }
   ],
   "source": [
    "# df.isnull().sum()\n",
    "# # Drop rows with null values\n",
    "# df.dropna(inplace=True)\n",
    "\n",
    "# # Fill null values with a specific value\n",
    "# df.fillna(value, inplace=True)\n",
    "# Cleaning Data:\n",
    "# # Remove duplicate rows\n",
    "# df.drop_duplicates(inplace=True)\n"
   ]
  },
  {
   "cell_type": "code",
   "execution_count": 0,
   "metadata": {
    "application/vnd.databricks.v1+cell": {
     "cellMetadata": {
      "byteLimit": 2048000,
      "rowLimit": 10000
     },
     "inputWidgets": {},
     "nuid": "54a274f8-1e96-4235-9aac-204f15f97901",
     "showTitle": false,
     "title": ""
    }
   },
   "outputs": [],
   "source": [
    "from pyspark.sql import functions as F\n",
    "\n",
    "df = df.withColumnRenamed('Na_to_K', 'Sodium_to_Potassium').withColumnRenamed('BP', 'Blood_Pressure')\n",
    "\n",
    "df = df.withColumn('Sex', F.when(F.col('Sex') == 'M', 'Male').otherwise('Female'))\n",
    "\n"
   ]
  },
  {
   "cell_type": "code",
   "execution_count": 0,
   "metadata": {
    "application/vnd.databricks.v1+cell": {
     "cellMetadata": {
      "byteLimit": 2048000,
      "rowLimit": 10000
     },
     "inputWidgets": {},
     "nuid": "da7f58bf-7194-4995-a2aa-015c0bbe00bb",
     "showTitle": false,
     "title": ""
    }
   },
   "outputs": [
    {
     "output_type": "display_data",
     "data": {
      "text/html": [
       "<style scoped>\n",
       "  .table-result-container {\n",
       "    max-height: 300px;\n",
       "    overflow: auto;\n",
       "  }\n",
       "  table, th, td {\n",
       "    border: 1px solid black;\n",
       "    border-collapse: collapse;\n",
       "  }\n",
       "  th, td {\n",
       "    padding: 5px;\n",
       "  }\n",
       "  th {\n",
       "    text-align: left;\n",
       "  }\n",
       "</style><div class='table-result-container'><table class='table-result'><thead style='background-color: white'><tr><th>Age</th><th>Sex</th><th>Blood_Pressure</th><th>Cholesterol</th><th>Sodium_to_Potassium</th><th>Drug</th></tr></thead><tbody><tr><td>23</td><td>Female</td><td>HIGH</td><td>HIGH</td><td>25.355</td><td>drugY</td></tr><tr><td>47</td><td>Male</td><td>LOW</td><td>HIGH</td><td>13.093</td><td>drugC</td></tr><tr><td>47</td><td>Male</td><td>LOW</td><td>HIGH</td><td>10.114</td><td>drugC</td></tr><tr><td>28</td><td>Female</td><td>NORMAL</td><td>HIGH</td><td>7.798</td><td>drugX</td></tr><tr><td>61</td><td>Female</td><td>LOW</td><td>HIGH</td><td>18.043</td><td>drugY</td></tr><tr><td>22</td><td>Female</td><td>NORMAL</td><td>HIGH</td><td>8.607</td><td>drugX</td></tr><tr><td>49</td><td>Female</td><td>NORMAL</td><td>HIGH</td><td>16.275</td><td>drugY</td></tr><tr><td>41</td><td>Male</td><td>LOW</td><td>HIGH</td><td>11.037</td><td>drugC</td></tr><tr><td>60</td><td>Male</td><td>NORMAL</td><td>HIGH</td><td>15.171</td><td>drugY</td></tr><tr><td>43</td><td>Male</td><td>LOW</td><td>NORMAL</td><td>19.368</td><td>drugY</td></tr><tr><td>47</td><td>Female</td><td>LOW</td><td>HIGH</td><td>11.767</td><td>drugC</td></tr><tr><td>34</td><td>Female</td><td>HIGH</td><td>NORMAL</td><td>19.199</td><td>drugY</td></tr><tr><td>43</td><td>Male</td><td>LOW</td><td>HIGH</td><td>15.376</td><td>drugY</td></tr><tr><td>74</td><td>Female</td><td>LOW</td><td>HIGH</td><td>20.942</td><td>drugY</td></tr><tr><td>50</td><td>Female</td><td>NORMAL</td><td>HIGH</td><td>12.703</td><td>drugX</td></tr><tr><td>16</td><td>Female</td><td>HIGH</td><td>NORMAL</td><td>15.516</td><td>drugY</td></tr><tr><td>69</td><td>Male</td><td>LOW</td><td>NORMAL</td><td>11.455</td><td>drugX</td></tr><tr><td>43</td><td>Male</td><td>HIGH</td><td>HIGH</td><td>13.972</td><td>drugA</td></tr><tr><td>23</td><td>Male</td><td>LOW</td><td>HIGH</td><td>7.298</td><td>drugC</td></tr><tr><td>32</td><td>Female</td><td>HIGH</td><td>NORMAL</td><td>25.974</td><td>drugY</td></tr><tr><td>57</td><td>Male</td><td>LOW</td><td>NORMAL</td><td>19.128</td><td>drugY</td></tr><tr><td>63</td><td>Male</td><td>NORMAL</td><td>HIGH</td><td>25.917</td><td>drugY</td></tr><tr><td>47</td><td>Male</td><td>LOW</td><td>NORMAL</td><td>30.568</td><td>drugY</td></tr><tr><td>48</td><td>Female</td><td>LOW</td><td>HIGH</td><td>15.036</td><td>drugY</td></tr><tr><td>33</td><td>Female</td><td>LOW</td><td>HIGH</td><td>33.486</td><td>drugY</td></tr><tr><td>28</td><td>Female</td><td>HIGH</td><td>NORMAL</td><td>18.809</td><td>drugY</td></tr><tr><td>31</td><td>Male</td><td>HIGH</td><td>HIGH</td><td>30.366</td><td>drugY</td></tr><tr><td>49</td><td>Female</td><td>NORMAL</td><td>NORMAL</td><td>9.381</td><td>drugX</td></tr><tr><td>39</td><td>Female</td><td>LOW</td><td>NORMAL</td><td>22.697</td><td>drugY</td></tr><tr><td>45</td><td>Male</td><td>LOW</td><td>HIGH</td><td>17.951</td><td>drugY</td></tr><tr><td>18</td><td>Female</td><td>NORMAL</td><td>NORMAL</td><td>8.75</td><td>drugX</td></tr><tr><td>74</td><td>Male</td><td>HIGH</td><td>HIGH</td><td>9.567</td><td>drugB</td></tr><tr><td>49</td><td>Male</td><td>LOW</td><td>NORMAL</td><td>11.014</td><td>drugX</td></tr><tr><td>65</td><td>Female</td><td>HIGH</td><td>NORMAL</td><td>31.876</td><td>drugY</td></tr><tr><td>53</td><td>Male</td><td>NORMAL</td><td>HIGH</td><td>14.133</td><td>drugX</td></tr><tr><td>46</td><td>Male</td><td>NORMAL</td><td>NORMAL</td><td>7.285</td><td>drugX</td></tr><tr><td>32</td><td>Male</td><td>HIGH</td><td>NORMAL</td><td>9.445</td><td>drugA</td></tr><tr><td>39</td><td>Male</td><td>LOW</td><td>NORMAL</td><td>13.938</td><td>drugX</td></tr><tr><td>39</td><td>Female</td><td>NORMAL</td><td>NORMAL</td><td>9.709</td><td>drugX</td></tr><tr><td>15</td><td>Male</td><td>NORMAL</td><td>HIGH</td><td>9.084</td><td>drugX</td></tr><tr><td>73</td><td>Female</td><td>NORMAL</td><td>HIGH</td><td>19.221</td><td>drugY</td></tr><tr><td>58</td><td>Female</td><td>HIGH</td><td>NORMAL</td><td>14.239</td><td>drugB</td></tr><tr><td>50</td><td>Male</td><td>NORMAL</td><td>NORMAL</td><td>15.79</td><td>drugY</td></tr><tr><td>23</td><td>Male</td><td>NORMAL</td><td>HIGH</td><td>12.26</td><td>drugX</td></tr><tr><td>50</td><td>Female</td><td>NORMAL</td><td>NORMAL</td><td>12.295</td><td>drugX</td></tr><tr><td>66</td><td>Female</td><td>NORMAL</td><td>NORMAL</td><td>8.107</td><td>drugX</td></tr><tr><td>37</td><td>Female</td><td>HIGH</td><td>HIGH</td><td>13.091</td><td>drugA</td></tr><tr><td>68</td><td>Male</td><td>LOW</td><td>HIGH</td><td>10.291</td><td>drugC</td></tr><tr><td>23</td><td>Male</td><td>NORMAL</td><td>HIGH</td><td>31.686</td><td>drugY</td></tr><tr><td>28</td><td>Female</td><td>LOW</td><td>HIGH</td><td>19.796</td><td>drugY</td></tr><tr><td>58</td><td>Female</td><td>HIGH</td><td>HIGH</td><td>19.416</td><td>drugY</td></tr><tr><td>67</td><td>Male</td><td>NORMAL</td><td>NORMAL</td><td>10.898</td><td>drugX</td></tr><tr><td>62</td><td>Male</td><td>LOW</td><td>NORMAL</td><td>27.183</td><td>drugY</td></tr><tr><td>24</td><td>Female</td><td>HIGH</td><td>NORMAL</td><td>18.457</td><td>drugY</td></tr><tr><td>68</td><td>Female</td><td>HIGH</td><td>NORMAL</td><td>10.189</td><td>drugB</td></tr><tr><td>26</td><td>Female</td><td>LOW</td><td>HIGH</td><td>14.16</td><td>drugC</td></tr><tr><td>65</td><td>Male</td><td>HIGH</td><td>NORMAL</td><td>11.34</td><td>drugB</td></tr><tr><td>40</td><td>Male</td><td>HIGH</td><td>HIGH</td><td>27.826</td><td>drugY</td></tr><tr><td>60</td><td>Male</td><td>NORMAL</td><td>NORMAL</td><td>10.091</td><td>drugX</td></tr><tr><td>34</td><td>Male</td><td>HIGH</td><td>HIGH</td><td>18.703</td><td>drugY</td></tr><tr><td>38</td><td>Female</td><td>LOW</td><td>NORMAL</td><td>29.875</td><td>drugY</td></tr><tr><td>24</td><td>Male</td><td>HIGH</td><td>NORMAL</td><td>9.475</td><td>drugA</td></tr><tr><td>67</td><td>Male</td><td>LOW</td><td>NORMAL</td><td>20.693</td><td>drugY</td></tr><tr><td>45</td><td>Male</td><td>LOW</td><td>NORMAL</td><td>8.37</td><td>drugX</td></tr><tr><td>60</td><td>Female</td><td>HIGH</td><td>HIGH</td><td>13.303</td><td>drugB</td></tr><tr><td>68</td><td>Female</td><td>NORMAL</td><td>NORMAL</td><td>27.05</td><td>drugY</td></tr><tr><td>29</td><td>Male</td><td>HIGH</td><td>HIGH</td><td>12.856</td><td>drugA</td></tr><tr><td>17</td><td>Male</td><td>NORMAL</td><td>NORMAL</td><td>10.832</td><td>drugX</td></tr><tr><td>54</td><td>Male</td><td>NORMAL</td><td>HIGH</td><td>24.658</td><td>drugY</td></tr><tr><td>18</td><td>Female</td><td>HIGH</td><td>NORMAL</td><td>24.276</td><td>drugY</td></tr><tr><td>70</td><td>Male</td><td>HIGH</td><td>HIGH</td><td>13.967</td><td>drugB</td></tr><tr><td>28</td><td>Female</td><td>NORMAL</td><td>HIGH</td><td>19.675</td><td>drugY</td></tr><tr><td>24</td><td>Female</td><td>NORMAL</td><td>HIGH</td><td>10.605</td><td>drugX</td></tr><tr><td>41</td><td>Female</td><td>NORMAL</td><td>NORMAL</td><td>22.905</td><td>drugY</td></tr><tr><td>31</td><td>Male</td><td>HIGH</td><td>NORMAL</td><td>17.069</td><td>drugY</td></tr><tr><td>26</td><td>Male</td><td>LOW</td><td>NORMAL</td><td>20.909</td><td>drugY</td></tr><tr><td>36</td><td>Female</td><td>HIGH</td><td>HIGH</td><td>11.198</td><td>drugA</td></tr><tr><td>26</td><td>Female</td><td>HIGH</td><td>NORMAL</td><td>19.161</td><td>drugY</td></tr><tr><td>19</td><td>Female</td><td>HIGH</td><td>HIGH</td><td>13.313</td><td>drugA</td></tr><tr><td>32</td><td>Female</td><td>LOW</td><td>NORMAL</td><td>10.84</td><td>drugX</td></tr><tr><td>60</td><td>Male</td><td>HIGH</td><td>HIGH</td><td>13.934</td><td>drugB</td></tr><tr><td>64</td><td>Male</td><td>NORMAL</td><td>HIGH</td><td>7.761</td><td>drugX</td></tr><tr><td>32</td><td>Female</td><td>LOW</td><td>HIGH</td><td>9.712</td><td>drugC</td></tr><tr><td>38</td><td>Female</td><td>HIGH</td><td>NORMAL</td><td>11.326</td><td>drugA</td></tr><tr><td>47</td><td>Female</td><td>LOW</td><td>HIGH</td><td>10.067</td><td>drugC</td></tr><tr><td>59</td><td>Male</td><td>HIGH</td><td>HIGH</td><td>13.935</td><td>drugB</td></tr><tr><td>51</td><td>Female</td><td>NORMAL</td><td>HIGH</td><td>13.597</td><td>drugX</td></tr><tr><td>69</td><td>Male</td><td>LOW</td><td>HIGH</td><td>15.478</td><td>drugY</td></tr><tr><td>37</td><td>Female</td><td>HIGH</td><td>NORMAL</td><td>23.091</td><td>drugY</td></tr><tr><td>50</td><td>Female</td><td>NORMAL</td><td>NORMAL</td><td>17.211</td><td>drugY</td></tr><tr><td>62</td><td>Male</td><td>NORMAL</td><td>HIGH</td><td>16.594</td><td>drugY</td></tr><tr><td>41</td><td>Male</td><td>HIGH</td><td>NORMAL</td><td>15.156</td><td>drugY</td></tr><tr><td>29</td><td>Female</td><td>HIGH</td><td>HIGH</td><td>29.45</td><td>drugY</td></tr><tr><td>42</td><td>Female</td><td>LOW</td><td>NORMAL</td><td>29.271</td><td>drugY</td></tr><tr><td>56</td><td>Male</td><td>LOW</td><td>HIGH</td><td>15.015</td><td>drugY</td></tr><tr><td>36</td><td>Male</td><td>LOW</td><td>NORMAL</td><td>11.424</td><td>drugX</td></tr><tr><td>58</td><td>Female</td><td>LOW</td><td>HIGH</td><td>38.247</td><td>drugY</td></tr><tr><td>56</td><td>Female</td><td>HIGH</td><td>HIGH</td><td>25.395</td><td>drugY</td></tr><tr><td>20</td><td>Male</td><td>HIGH</td><td>NORMAL</td><td>35.639</td><td>drugY</td></tr><tr><td>15</td><td>Female</td><td>HIGH</td><td>NORMAL</td><td>16.725</td><td>drugY</td></tr><tr><td>31</td><td>Male</td><td>HIGH</td><td>NORMAL</td><td>11.871</td><td>drugA</td></tr><tr><td>45</td><td>Female</td><td>HIGH</td><td>HIGH</td><td>12.854</td><td>drugA</td></tr><tr><td>28</td><td>Female</td><td>LOW</td><td>HIGH</td><td>13.127</td><td>drugC</td></tr><tr><td>56</td><td>Male</td><td>NORMAL</td><td>HIGH</td><td>8.966</td><td>drugX</td></tr><tr><td>22</td><td>Male</td><td>HIGH</td><td>NORMAL</td><td>28.294</td><td>drugY</td></tr><tr><td>37</td><td>Male</td><td>LOW</td><td>NORMAL</td><td>8.968</td><td>drugX</td></tr><tr><td>22</td><td>Male</td><td>NORMAL</td><td>HIGH</td><td>11.953</td><td>drugX</td></tr><tr><td>42</td><td>Male</td><td>LOW</td><td>HIGH</td><td>20.013</td><td>drugY</td></tr><tr><td>72</td><td>Male</td><td>HIGH</td><td>NORMAL</td><td>9.677</td><td>drugB</td></tr><tr><td>23</td><td>Male</td><td>NORMAL</td><td>HIGH</td><td>16.85</td><td>drugY</td></tr><tr><td>50</td><td>Male</td><td>HIGH</td><td>HIGH</td><td>7.49</td><td>drugA</td></tr><tr><td>47</td><td>Female</td><td>NORMAL</td><td>NORMAL</td><td>6.683</td><td>drugX</td></tr><tr><td>35</td><td>Male</td><td>LOW</td><td>NORMAL</td><td>9.17</td><td>drugX</td></tr><tr><td>65</td><td>Female</td><td>LOW</td><td>NORMAL</td><td>13.769</td><td>drugX</td></tr><tr><td>20</td><td>Female</td><td>NORMAL</td><td>NORMAL</td><td>9.281</td><td>drugX</td></tr><tr><td>51</td><td>Male</td><td>HIGH</td><td>HIGH</td><td>18.295</td><td>drugY</td></tr><tr><td>67</td><td>Male</td><td>NORMAL</td><td>NORMAL</td><td>9.514</td><td>drugX</td></tr><tr><td>40</td><td>Female</td><td>NORMAL</td><td>HIGH</td><td>10.103</td><td>drugX</td></tr><tr><td>32</td><td>Female</td><td>HIGH</td><td>NORMAL</td><td>10.292</td><td>drugA</td></tr><tr><td>61</td><td>Female</td><td>HIGH</td><td>HIGH</td><td>25.475</td><td>drugY</td></tr><tr><td>28</td><td>Male</td><td>NORMAL</td><td>HIGH</td><td>27.064</td><td>drugY</td></tr><tr><td>15</td><td>Male</td><td>HIGH</td><td>NORMAL</td><td>17.206</td><td>drugY</td></tr><tr><td>34</td><td>Male</td><td>NORMAL</td><td>HIGH</td><td>22.456</td><td>drugY</td></tr><tr><td>36</td><td>Female</td><td>NORMAL</td><td>HIGH</td><td>16.753</td><td>drugY</td></tr><tr><td>53</td><td>Female</td><td>HIGH</td><td>NORMAL</td><td>12.495</td><td>drugB</td></tr><tr><td>19</td><td>Female</td><td>HIGH</td><td>NORMAL</td><td>25.969</td><td>drugY</td></tr><tr><td>66</td><td>Male</td><td>HIGH</td><td>HIGH</td><td>16.347</td><td>drugY</td></tr><tr><td>35</td><td>Male</td><td>NORMAL</td><td>NORMAL</td><td>7.845</td><td>drugX</td></tr><tr><td>47</td><td>Male</td><td>LOW</td><td>NORMAL</td><td>33.542</td><td>drugY</td></tr><tr><td>32</td><td>Female</td><td>NORMAL</td><td>HIGH</td><td>7.477</td><td>drugX</td></tr><tr><td>70</td><td>Female</td><td>NORMAL</td><td>HIGH</td><td>20.489</td><td>drugY</td></tr><tr><td>52</td><td>Male</td><td>LOW</td><td>NORMAL</td><td>32.922</td><td>drugY</td></tr><tr><td>49</td><td>Male</td><td>LOW</td><td>NORMAL</td><td>13.598</td><td>drugX</td></tr><tr><td>24</td><td>Male</td><td>NORMAL</td><td>HIGH</td><td>25.786</td><td>drugY</td></tr><tr><td>42</td><td>Female</td><td>HIGH</td><td>HIGH</td><td>21.036</td><td>drugY</td></tr><tr><td>74</td><td>Male</td><td>LOW</td><td>NORMAL</td><td>11.939</td><td>drugX</td></tr><tr><td>55</td><td>Female</td><td>HIGH</td><td>HIGH</td><td>10.977</td><td>drugB</td></tr><tr><td>35</td><td>Female</td><td>HIGH</td><td>HIGH</td><td>12.894</td><td>drugA</td></tr><tr><td>51</td><td>Male</td><td>HIGH</td><td>NORMAL</td><td>11.343</td><td>drugB</td></tr><tr><td>69</td><td>Female</td><td>NORMAL</td><td>HIGH</td><td>10.065</td><td>drugX</td></tr><tr><td>49</td><td>Male</td><td>HIGH</td><td>NORMAL</td><td>6.269</td><td>drugA</td></tr><tr><td>64</td><td>Female</td><td>LOW</td><td>NORMAL</td><td>25.741</td><td>drugY</td></tr><tr><td>60</td><td>Male</td><td>HIGH</td><td>NORMAL</td><td>8.621</td><td>drugB</td></tr><tr><td>74</td><td>Male</td><td>HIGH</td><td>NORMAL</td><td>15.436</td><td>drugY</td></tr><tr><td>39</td><td>Male</td><td>HIGH</td><td>HIGH</td><td>9.664</td><td>drugA</td></tr><tr><td>61</td><td>Male</td><td>NORMAL</td><td>HIGH</td><td>9.443</td><td>drugX</td></tr><tr><td>37</td><td>Female</td><td>LOW</td><td>NORMAL</td><td>12.006</td><td>drugX</td></tr><tr><td>26</td><td>Female</td><td>HIGH</td><td>NORMAL</td><td>12.307</td><td>drugA</td></tr><tr><td>61</td><td>Female</td><td>LOW</td><td>NORMAL</td><td>7.34</td><td>drugX</td></tr><tr><td>22</td><td>Male</td><td>LOW</td><td>HIGH</td><td>8.151</td><td>drugC</td></tr><tr><td>49</td><td>Male</td><td>HIGH</td><td>NORMAL</td><td>8.7</td><td>drugA</td></tr><tr><td>68</td><td>Male</td><td>HIGH</td><td>HIGH</td><td>11.009</td><td>drugB</td></tr><tr><td>55</td><td>Male</td><td>NORMAL</td><td>NORMAL</td><td>7.261</td><td>drugX</td></tr><tr><td>72</td><td>Female</td><td>LOW</td><td>NORMAL</td><td>14.642</td><td>drugX</td></tr><tr><td>37</td><td>Male</td><td>LOW</td><td>NORMAL</td><td>16.724</td><td>drugY</td></tr><tr><td>49</td><td>Male</td><td>LOW</td><td>HIGH</td><td>10.537</td><td>drugC</td></tr><tr><td>31</td><td>Male</td><td>HIGH</td><td>NORMAL</td><td>11.227</td><td>drugA</td></tr><tr><td>53</td><td>Male</td><td>LOW</td><td>HIGH</td><td>22.963</td><td>drugY</td></tr><tr><td>59</td><td>Female</td><td>LOW</td><td>HIGH</td><td>10.444</td><td>drugC</td></tr><tr><td>34</td><td>Female</td><td>LOW</td><td>NORMAL</td><td>12.923</td><td>drugX</td></tr><tr><td>30</td><td>Female</td><td>NORMAL</td><td>HIGH</td><td>10.443</td><td>drugX</td></tr><tr><td>57</td><td>Female</td><td>HIGH</td><td>NORMAL</td><td>9.945</td><td>drugB</td></tr><tr><td>43</td><td>Male</td><td>NORMAL</td><td>NORMAL</td><td>12.859</td><td>drugX</td></tr><tr><td>21</td><td>Female</td><td>HIGH</td><td>NORMAL</td><td>28.632</td><td>drugY</td></tr><tr><td>16</td><td>Male</td><td>HIGH</td><td>NORMAL</td><td>19.007</td><td>drugY</td></tr><tr><td>38</td><td>Male</td><td>LOW</td><td>HIGH</td><td>18.295</td><td>drugY</td></tr><tr><td>58</td><td>Female</td><td>LOW</td><td>HIGH</td><td>26.645</td><td>drugY</td></tr><tr><td>57</td><td>Female</td><td>NORMAL</td><td>HIGH</td><td>14.216</td><td>drugX</td></tr><tr><td>51</td><td>Female</td><td>LOW</td><td>NORMAL</td><td>23.003</td><td>drugY</td></tr><tr><td>20</td><td>Female</td><td>HIGH</td><td>HIGH</td><td>11.262</td><td>drugA</td></tr><tr><td>28</td><td>Female</td><td>NORMAL</td><td>HIGH</td><td>12.879</td><td>drugX</td></tr><tr><td>45</td><td>Male</td><td>LOW</td><td>NORMAL</td><td>10.017</td><td>drugX</td></tr><tr><td>39</td><td>Female</td><td>NORMAL</td><td>NORMAL</td><td>17.225</td><td>drugY</td></tr><tr><td>41</td><td>Female</td><td>LOW</td><td>NORMAL</td><td>18.739</td><td>drugY</td></tr><tr><td>42</td><td>Male</td><td>HIGH</td><td>NORMAL</td><td>12.766</td><td>drugA</td></tr><tr><td>73</td><td>Female</td><td>HIGH</td><td>HIGH</td><td>18.348</td><td>drugY</td></tr><tr><td>48</td><td>Male</td><td>HIGH</td><td>NORMAL</td><td>10.446</td><td>drugA</td></tr><tr><td>25</td><td>Male</td><td>NORMAL</td><td>HIGH</td><td>19.011</td><td>drugY</td></tr><tr><td>39</td><td>Male</td><td>NORMAL</td><td>HIGH</td><td>15.969</td><td>drugY</td></tr><tr><td>67</td><td>Female</td><td>NORMAL</td><td>HIGH</td><td>15.891</td><td>drugY</td></tr><tr><td>22</td><td>Female</td><td>HIGH</td><td>NORMAL</td><td>22.818</td><td>drugY</td></tr><tr><td>59</td><td>Female</td><td>NORMAL</td><td>HIGH</td><td>13.884</td><td>drugX</td></tr><tr><td>20</td><td>Female</td><td>LOW</td><td>NORMAL</td><td>11.686</td><td>drugX</td></tr><tr><td>36</td><td>Female</td><td>HIGH</td><td>NORMAL</td><td>15.49</td><td>drugY</td></tr><tr><td>18</td><td>Female</td><td>HIGH</td><td>HIGH</td><td>37.188</td><td>drugY</td></tr><tr><td>57</td><td>Female</td><td>NORMAL</td><td>NORMAL</td><td>25.893</td><td>drugY</td></tr><tr><td>70</td><td>Male</td><td>HIGH</td><td>HIGH</td><td>9.849</td><td>drugB</td></tr><tr><td>47</td><td>Male</td><td>HIGH</td><td>HIGH</td><td>10.403</td><td>drugA</td></tr><tr><td>65</td><td>Male</td><td>HIGH</td><td>NORMAL</td><td>34.997</td><td>drugY</td></tr><tr><td>64</td><td>Male</td><td>HIGH</td><td>NORMAL</td><td>20.932</td><td>drugY</td></tr><tr><td>58</td><td>Male</td><td>HIGH</td><td>HIGH</td><td>18.991</td><td>drugY</td></tr><tr><td>23</td><td>Male</td><td>HIGH</td><td>HIGH</td><td>8.011</td><td>drugA</td></tr><tr><td>72</td><td>Male</td><td>LOW</td><td>HIGH</td><td>16.31</td><td>drugY</td></tr><tr><td>72</td><td>Male</td><td>LOW</td><td>HIGH</td><td>6.769</td><td>drugC</td></tr><tr><td>46</td><td>Female</td><td>HIGH</td><td>HIGH</td><td>34.686</td><td>drugY</td></tr><tr><td>56</td><td>Female</td><td>LOW</td><td>HIGH</td><td>11.567</td><td>drugC</td></tr><tr><td>16</td><td>Male</td><td>LOW</td><td>HIGH</td><td>12.006</td><td>drugC</td></tr><tr><td>52</td><td>Male</td><td>NORMAL</td><td>HIGH</td><td>9.894</td><td>drugX</td></tr><tr><td>23</td><td>Male</td><td>NORMAL</td><td>NORMAL</td><td>14.02</td><td>drugX</td></tr><tr><td>40</td><td>Female</td><td>LOW</td><td>NORMAL</td><td>11.349</td><td>drugX</td></tr></tbody></table></div>"
      ]
     },
     "metadata": {
      "application/vnd.databricks.v1+output": {
       "addedWidgets": {},
       "aggData": [],
       "aggError": "",
       "aggOverflow": false,
       "aggSchema": [],
       "aggSeriesLimitReached": false,
       "aggType": "",
       "arguments": {},
       "columnCustomDisplayInfos": {},
       "data": [
        [
         23,
         "Female",
         "HIGH",
         "HIGH",
         25.355,
         "drugY"
        ],
        [
         47,
         "Male",
         "LOW",
         "HIGH",
         13.093,
         "drugC"
        ],
        [
         47,
         "Male",
         "LOW",
         "HIGH",
         10.114,
         "drugC"
        ],
        [
         28,
         "Female",
         "NORMAL",
         "HIGH",
         7.798,
         "drugX"
        ],
        [
         61,
         "Female",
         "LOW",
         "HIGH",
         18.043,
         "drugY"
        ],
        [
         22,
         "Female",
         "NORMAL",
         "HIGH",
         8.607,
         "drugX"
        ],
        [
         49,
         "Female",
         "NORMAL",
         "HIGH",
         16.275,
         "drugY"
        ],
        [
         41,
         "Male",
         "LOW",
         "HIGH",
         11.037,
         "drugC"
        ],
        [
         60,
         "Male",
         "NORMAL",
         "HIGH",
         15.171,
         "drugY"
        ],
        [
         43,
         "Male",
         "LOW",
         "NORMAL",
         19.368,
         "drugY"
        ],
        [
         47,
         "Female",
         "LOW",
         "HIGH",
         11.767,
         "drugC"
        ],
        [
         34,
         "Female",
         "HIGH",
         "NORMAL",
         19.199,
         "drugY"
        ],
        [
         43,
         "Male",
         "LOW",
         "HIGH",
         15.376,
         "drugY"
        ],
        [
         74,
         "Female",
         "LOW",
         "HIGH",
         20.942,
         "drugY"
        ],
        [
         50,
         "Female",
         "NORMAL",
         "HIGH",
         12.703,
         "drugX"
        ],
        [
         16,
         "Female",
         "HIGH",
         "NORMAL",
         15.516,
         "drugY"
        ],
        [
         69,
         "Male",
         "LOW",
         "NORMAL",
         11.455,
         "drugX"
        ],
        [
         43,
         "Male",
         "HIGH",
         "HIGH",
         13.972,
         "drugA"
        ],
        [
         23,
         "Male",
         "LOW",
         "HIGH",
         7.298,
         "drugC"
        ],
        [
         32,
         "Female",
         "HIGH",
         "NORMAL",
         25.974,
         "drugY"
        ],
        [
         57,
         "Male",
         "LOW",
         "NORMAL",
         19.128,
         "drugY"
        ],
        [
         63,
         "Male",
         "NORMAL",
         "HIGH",
         25.917,
         "drugY"
        ],
        [
         47,
         "Male",
         "LOW",
         "NORMAL",
         30.568,
         "drugY"
        ],
        [
         48,
         "Female",
         "LOW",
         "HIGH",
         15.036,
         "drugY"
        ],
        [
         33,
         "Female",
         "LOW",
         "HIGH",
         33.486,
         "drugY"
        ],
        [
         28,
         "Female",
         "HIGH",
         "NORMAL",
         18.809,
         "drugY"
        ],
        [
         31,
         "Male",
         "HIGH",
         "HIGH",
         30.366,
         "drugY"
        ],
        [
         49,
         "Female",
         "NORMAL",
         "NORMAL",
         9.381,
         "drugX"
        ],
        [
         39,
         "Female",
         "LOW",
         "NORMAL",
         22.697,
         "drugY"
        ],
        [
         45,
         "Male",
         "LOW",
         "HIGH",
         17.951,
         "drugY"
        ],
        [
         18,
         "Female",
         "NORMAL",
         "NORMAL",
         8.75,
         "drugX"
        ],
        [
         74,
         "Male",
         "HIGH",
         "HIGH",
         9.567,
         "drugB"
        ],
        [
         49,
         "Male",
         "LOW",
         "NORMAL",
         11.014,
         "drugX"
        ],
        [
         65,
         "Female",
         "HIGH",
         "NORMAL",
         31.876,
         "drugY"
        ],
        [
         53,
         "Male",
         "NORMAL",
         "HIGH",
         14.133,
         "drugX"
        ],
        [
         46,
         "Male",
         "NORMAL",
         "NORMAL",
         7.285,
         "drugX"
        ],
        [
         32,
         "Male",
         "HIGH",
         "NORMAL",
         9.445,
         "drugA"
        ],
        [
         39,
         "Male",
         "LOW",
         "NORMAL",
         13.938,
         "drugX"
        ],
        [
         39,
         "Female",
         "NORMAL",
         "NORMAL",
         9.709,
         "drugX"
        ],
        [
         15,
         "Male",
         "NORMAL",
         "HIGH",
         9.084,
         "drugX"
        ],
        [
         73,
         "Female",
         "NORMAL",
         "HIGH",
         19.221,
         "drugY"
        ],
        [
         58,
         "Female",
         "HIGH",
         "NORMAL",
         14.239,
         "drugB"
        ],
        [
         50,
         "Male",
         "NORMAL",
         "NORMAL",
         15.79,
         "drugY"
        ],
        [
         23,
         "Male",
         "NORMAL",
         "HIGH",
         12.26,
         "drugX"
        ],
        [
         50,
         "Female",
         "NORMAL",
         "NORMAL",
         12.295,
         "drugX"
        ],
        [
         66,
         "Female",
         "NORMAL",
         "NORMAL",
         8.107,
         "drugX"
        ],
        [
         37,
         "Female",
         "HIGH",
         "HIGH",
         13.091,
         "drugA"
        ],
        [
         68,
         "Male",
         "LOW",
         "HIGH",
         10.291,
         "drugC"
        ],
        [
         23,
         "Male",
         "NORMAL",
         "HIGH",
         31.686,
         "drugY"
        ],
        [
         28,
         "Female",
         "LOW",
         "HIGH",
         19.796,
         "drugY"
        ],
        [
         58,
         "Female",
         "HIGH",
         "HIGH",
         19.416,
         "drugY"
        ],
        [
         67,
         "Male",
         "NORMAL",
         "NORMAL",
         10.898,
         "drugX"
        ],
        [
         62,
         "Male",
         "LOW",
         "NORMAL",
         27.183,
         "drugY"
        ],
        [
         24,
         "Female",
         "HIGH",
         "NORMAL",
         18.457,
         "drugY"
        ],
        [
         68,
         "Female",
         "HIGH",
         "NORMAL",
         10.189,
         "drugB"
        ],
        [
         26,
         "Female",
         "LOW",
         "HIGH",
         14.16,
         "drugC"
        ],
        [
         65,
         "Male",
         "HIGH",
         "NORMAL",
         11.34,
         "drugB"
        ],
        [
         40,
         "Male",
         "HIGH",
         "HIGH",
         27.826,
         "drugY"
        ],
        [
         60,
         "Male",
         "NORMAL",
         "NORMAL",
         10.091,
         "drugX"
        ],
        [
         34,
         "Male",
         "HIGH",
         "HIGH",
         18.703,
         "drugY"
        ],
        [
         38,
         "Female",
         "LOW",
         "NORMAL",
         29.875,
         "drugY"
        ],
        [
         24,
         "Male",
         "HIGH",
         "NORMAL",
         9.475,
         "drugA"
        ],
        [
         67,
         "Male",
         "LOW",
         "NORMAL",
         20.693,
         "drugY"
        ],
        [
         45,
         "Male",
         "LOW",
         "NORMAL",
         8.37,
         "drugX"
        ],
        [
         60,
         "Female",
         "HIGH",
         "HIGH",
         13.303,
         "drugB"
        ],
        [
         68,
         "Female",
         "NORMAL",
         "NORMAL",
         27.05,
         "drugY"
        ],
        [
         29,
         "Male",
         "HIGH",
         "HIGH",
         12.856,
         "drugA"
        ],
        [
         17,
         "Male",
         "NORMAL",
         "NORMAL",
         10.832,
         "drugX"
        ],
        [
         54,
         "Male",
         "NORMAL",
         "HIGH",
         24.658,
         "drugY"
        ],
        [
         18,
         "Female",
         "HIGH",
         "NORMAL",
         24.276,
         "drugY"
        ],
        [
         70,
         "Male",
         "HIGH",
         "HIGH",
         13.967,
         "drugB"
        ],
        [
         28,
         "Female",
         "NORMAL",
         "HIGH",
         19.675,
         "drugY"
        ],
        [
         24,
         "Female",
         "NORMAL",
         "HIGH",
         10.605,
         "drugX"
        ],
        [
         41,
         "Female",
         "NORMAL",
         "NORMAL",
         22.905,
         "drugY"
        ],
        [
         31,
         "Male",
         "HIGH",
         "NORMAL",
         17.069,
         "drugY"
        ],
        [
         26,
         "Male",
         "LOW",
         "NORMAL",
         20.909,
         "drugY"
        ],
        [
         36,
         "Female",
         "HIGH",
         "HIGH",
         11.198,
         "drugA"
        ],
        [
         26,
         "Female",
         "HIGH",
         "NORMAL",
         19.161,
         "drugY"
        ],
        [
         19,
         "Female",
         "HIGH",
         "HIGH",
         13.313,
         "drugA"
        ],
        [
         32,
         "Female",
         "LOW",
         "NORMAL",
         10.84,
         "drugX"
        ],
        [
         60,
         "Male",
         "HIGH",
         "HIGH",
         13.934,
         "drugB"
        ],
        [
         64,
         "Male",
         "NORMAL",
         "HIGH",
         7.761,
         "drugX"
        ],
        [
         32,
         "Female",
         "LOW",
         "HIGH",
         9.712,
         "drugC"
        ],
        [
         38,
         "Female",
         "HIGH",
         "NORMAL",
         11.326,
         "drugA"
        ],
        [
         47,
         "Female",
         "LOW",
         "HIGH",
         10.067,
         "drugC"
        ],
        [
         59,
         "Male",
         "HIGH",
         "HIGH",
         13.935,
         "drugB"
        ],
        [
         51,
         "Female",
         "NORMAL",
         "HIGH",
         13.597,
         "drugX"
        ],
        [
         69,
         "Male",
         "LOW",
         "HIGH",
         15.478,
         "drugY"
        ],
        [
         37,
         "Female",
         "HIGH",
         "NORMAL",
         23.091,
         "drugY"
        ],
        [
         50,
         "Female",
         "NORMAL",
         "NORMAL",
         17.211,
         "drugY"
        ],
        [
         62,
         "Male",
         "NORMAL",
         "HIGH",
         16.594,
         "drugY"
        ],
        [
         41,
         "Male",
         "HIGH",
         "NORMAL",
         15.156,
         "drugY"
        ],
        [
         29,
         "Female",
         "HIGH",
         "HIGH",
         29.45,
         "drugY"
        ],
        [
         42,
         "Female",
         "LOW",
         "NORMAL",
         29.271,
         "drugY"
        ],
        [
         56,
         "Male",
         "LOW",
         "HIGH",
         15.015,
         "drugY"
        ],
        [
         36,
         "Male",
         "LOW",
         "NORMAL",
         11.424,
         "drugX"
        ],
        [
         58,
         "Female",
         "LOW",
         "HIGH",
         38.247,
         "drugY"
        ],
        [
         56,
         "Female",
         "HIGH",
         "HIGH",
         25.395,
         "drugY"
        ],
        [
         20,
         "Male",
         "HIGH",
         "NORMAL",
         35.639,
         "drugY"
        ],
        [
         15,
         "Female",
         "HIGH",
         "NORMAL",
         16.725,
         "drugY"
        ],
        [
         31,
         "Male",
         "HIGH",
         "NORMAL",
         11.871,
         "drugA"
        ],
        [
         45,
         "Female",
         "HIGH",
         "HIGH",
         12.854,
         "drugA"
        ],
        [
         28,
         "Female",
         "LOW",
         "HIGH",
         13.127,
         "drugC"
        ],
        [
         56,
         "Male",
         "NORMAL",
         "HIGH",
         8.966,
         "drugX"
        ],
        [
         22,
         "Male",
         "HIGH",
         "NORMAL",
         28.294,
         "drugY"
        ],
        [
         37,
         "Male",
         "LOW",
         "NORMAL",
         8.968,
         "drugX"
        ],
        [
         22,
         "Male",
         "NORMAL",
         "HIGH",
         11.953,
         "drugX"
        ],
        [
         42,
         "Male",
         "LOW",
         "HIGH",
         20.013,
         "drugY"
        ],
        [
         72,
         "Male",
         "HIGH",
         "NORMAL",
         9.677,
         "drugB"
        ],
        [
         23,
         "Male",
         "NORMAL",
         "HIGH",
         16.85,
         "drugY"
        ],
        [
         50,
         "Male",
         "HIGH",
         "HIGH",
         7.49,
         "drugA"
        ],
        [
         47,
         "Female",
         "NORMAL",
         "NORMAL",
         6.683,
         "drugX"
        ],
        [
         35,
         "Male",
         "LOW",
         "NORMAL",
         9.17,
         "drugX"
        ],
        [
         65,
         "Female",
         "LOW",
         "NORMAL",
         13.769,
         "drugX"
        ],
        [
         20,
         "Female",
         "NORMAL",
         "NORMAL",
         9.281,
         "drugX"
        ],
        [
         51,
         "Male",
         "HIGH",
         "HIGH",
         18.295,
         "drugY"
        ],
        [
         67,
         "Male",
         "NORMAL",
         "NORMAL",
         9.514,
         "drugX"
        ],
        [
         40,
         "Female",
         "NORMAL",
         "HIGH",
         10.103,
         "drugX"
        ],
        [
         32,
         "Female",
         "HIGH",
         "NORMAL",
         10.292,
         "drugA"
        ],
        [
         61,
         "Female",
         "HIGH",
         "HIGH",
         25.475,
         "drugY"
        ],
        [
         28,
         "Male",
         "NORMAL",
         "HIGH",
         27.064,
         "drugY"
        ],
        [
         15,
         "Male",
         "HIGH",
         "NORMAL",
         17.206,
         "drugY"
        ],
        [
         34,
         "Male",
         "NORMAL",
         "HIGH",
         22.456,
         "drugY"
        ],
        [
         36,
         "Female",
         "NORMAL",
         "HIGH",
         16.753,
         "drugY"
        ],
        [
         53,
         "Female",
         "HIGH",
         "NORMAL",
         12.495,
         "drugB"
        ],
        [
         19,
         "Female",
         "HIGH",
         "NORMAL",
         25.969,
         "drugY"
        ],
        [
         66,
         "Male",
         "HIGH",
         "HIGH",
         16.347,
         "drugY"
        ],
        [
         35,
         "Male",
         "NORMAL",
         "NORMAL",
         7.845,
         "drugX"
        ],
        [
         47,
         "Male",
         "LOW",
         "NORMAL",
         33.542,
         "drugY"
        ],
        [
         32,
         "Female",
         "NORMAL",
         "HIGH",
         7.477,
         "drugX"
        ],
        [
         70,
         "Female",
         "NORMAL",
         "HIGH",
         20.489,
         "drugY"
        ],
        [
         52,
         "Male",
         "LOW",
         "NORMAL",
         32.922,
         "drugY"
        ],
        [
         49,
         "Male",
         "LOW",
         "NORMAL",
         13.598,
         "drugX"
        ],
        [
         24,
         "Male",
         "NORMAL",
         "HIGH",
         25.786,
         "drugY"
        ],
        [
         42,
         "Female",
         "HIGH",
         "HIGH",
         21.036,
         "drugY"
        ],
        [
         74,
         "Male",
         "LOW",
         "NORMAL",
         11.939,
         "drugX"
        ],
        [
         55,
         "Female",
         "HIGH",
         "HIGH",
         10.977,
         "drugB"
        ],
        [
         35,
         "Female",
         "HIGH",
         "HIGH",
         12.894,
         "drugA"
        ],
        [
         51,
         "Male",
         "HIGH",
         "NORMAL",
         11.343,
         "drugB"
        ],
        [
         69,
         "Female",
         "NORMAL",
         "HIGH",
         10.065,
         "drugX"
        ],
        [
         49,
         "Male",
         "HIGH",
         "NORMAL",
         6.269,
         "drugA"
        ],
        [
         64,
         "Female",
         "LOW",
         "NORMAL",
         25.741,
         "drugY"
        ],
        [
         60,
         "Male",
         "HIGH",
         "NORMAL",
         8.621,
         "drugB"
        ],
        [
         74,
         "Male",
         "HIGH",
         "NORMAL",
         15.436,
         "drugY"
        ],
        [
         39,
         "Male",
         "HIGH",
         "HIGH",
         9.664,
         "drugA"
        ],
        [
         61,
         "Male",
         "NORMAL",
         "HIGH",
         9.443,
         "drugX"
        ],
        [
         37,
         "Female",
         "LOW",
         "NORMAL",
         12.006,
         "drugX"
        ],
        [
         26,
         "Female",
         "HIGH",
         "NORMAL",
         12.307,
         "drugA"
        ],
        [
         61,
         "Female",
         "LOW",
         "NORMAL",
         7.34,
         "drugX"
        ],
        [
         22,
         "Male",
         "LOW",
         "HIGH",
         8.151,
         "drugC"
        ],
        [
         49,
         "Male",
         "HIGH",
         "NORMAL",
         8.7,
         "drugA"
        ],
        [
         68,
         "Male",
         "HIGH",
         "HIGH",
         11.009,
         "drugB"
        ],
        [
         55,
         "Male",
         "NORMAL",
         "NORMAL",
         7.261,
         "drugX"
        ],
        [
         72,
         "Female",
         "LOW",
         "NORMAL",
         14.642,
         "drugX"
        ],
        [
         37,
         "Male",
         "LOW",
         "NORMAL",
         16.724,
         "drugY"
        ],
        [
         49,
         "Male",
         "LOW",
         "HIGH",
         10.537,
         "drugC"
        ],
        [
         31,
         "Male",
         "HIGH",
         "NORMAL",
         11.227,
         "drugA"
        ],
        [
         53,
         "Male",
         "LOW",
         "HIGH",
         22.963,
         "drugY"
        ],
        [
         59,
         "Female",
         "LOW",
         "HIGH",
         10.444,
         "drugC"
        ],
        [
         34,
         "Female",
         "LOW",
         "NORMAL",
         12.923,
         "drugX"
        ],
        [
         30,
         "Female",
         "NORMAL",
         "HIGH",
         10.443,
         "drugX"
        ],
        [
         57,
         "Female",
         "HIGH",
         "NORMAL",
         9.945,
         "drugB"
        ],
        [
         43,
         "Male",
         "NORMAL",
         "NORMAL",
         12.859,
         "drugX"
        ],
        [
         21,
         "Female",
         "HIGH",
         "NORMAL",
         28.632,
         "drugY"
        ],
        [
         16,
         "Male",
         "HIGH",
         "NORMAL",
         19.007,
         "drugY"
        ],
        [
         38,
         "Male",
         "LOW",
         "HIGH",
         18.295,
         "drugY"
        ],
        [
         58,
         "Female",
         "LOW",
         "HIGH",
         26.645,
         "drugY"
        ],
        [
         57,
         "Female",
         "NORMAL",
         "HIGH",
         14.216,
         "drugX"
        ],
        [
         51,
         "Female",
         "LOW",
         "NORMAL",
         23.003,
         "drugY"
        ],
        [
         20,
         "Female",
         "HIGH",
         "HIGH",
         11.262,
         "drugA"
        ],
        [
         28,
         "Female",
         "NORMAL",
         "HIGH",
         12.879,
         "drugX"
        ],
        [
         45,
         "Male",
         "LOW",
         "NORMAL",
         10.017,
         "drugX"
        ],
        [
         39,
         "Female",
         "NORMAL",
         "NORMAL",
         17.225,
         "drugY"
        ],
        [
         41,
         "Female",
         "LOW",
         "NORMAL",
         18.739,
         "drugY"
        ],
        [
         42,
         "Male",
         "HIGH",
         "NORMAL",
         12.766,
         "drugA"
        ],
        [
         73,
         "Female",
         "HIGH",
         "HIGH",
         18.348,
         "drugY"
        ],
        [
         48,
         "Male",
         "HIGH",
         "NORMAL",
         10.446,
         "drugA"
        ],
        [
         25,
         "Male",
         "NORMAL",
         "HIGH",
         19.011,
         "drugY"
        ],
        [
         39,
         "Male",
         "NORMAL",
         "HIGH",
         15.969,
         "drugY"
        ],
        [
         67,
         "Female",
         "NORMAL",
         "HIGH",
         15.891,
         "drugY"
        ],
        [
         22,
         "Female",
         "HIGH",
         "NORMAL",
         22.818,
         "drugY"
        ],
        [
         59,
         "Female",
         "NORMAL",
         "HIGH",
         13.884,
         "drugX"
        ],
        [
         20,
         "Female",
         "LOW",
         "NORMAL",
         11.686,
         "drugX"
        ],
        [
         36,
         "Female",
         "HIGH",
         "NORMAL",
         15.49,
         "drugY"
        ],
        [
         18,
         "Female",
         "HIGH",
         "HIGH",
         37.188,
         "drugY"
        ],
        [
         57,
         "Female",
         "NORMAL",
         "NORMAL",
         25.893,
         "drugY"
        ],
        [
         70,
         "Male",
         "HIGH",
         "HIGH",
         9.849,
         "drugB"
        ],
        [
         47,
         "Male",
         "HIGH",
         "HIGH",
         10.403,
         "drugA"
        ],
        [
         65,
         "Male",
         "HIGH",
         "NORMAL",
         34.997,
         "drugY"
        ],
        [
         64,
         "Male",
         "HIGH",
         "NORMAL",
         20.932,
         "drugY"
        ],
        [
         58,
         "Male",
         "HIGH",
         "HIGH",
         18.991,
         "drugY"
        ],
        [
         23,
         "Male",
         "HIGH",
         "HIGH",
         8.011,
         "drugA"
        ],
        [
         72,
         "Male",
         "LOW",
         "HIGH",
         16.31,
         "drugY"
        ],
        [
         72,
         "Male",
         "LOW",
         "HIGH",
         6.769,
         "drugC"
        ],
        [
         46,
         "Female",
         "HIGH",
         "HIGH",
         34.686,
         "drugY"
        ],
        [
         56,
         "Female",
         "LOW",
         "HIGH",
         11.567,
         "drugC"
        ],
        [
         16,
         "Male",
         "LOW",
         "HIGH",
         12.006,
         "drugC"
        ],
        [
         52,
         "Male",
         "NORMAL",
         "HIGH",
         9.894,
         "drugX"
        ],
        [
         23,
         "Male",
         "NORMAL",
         "NORMAL",
         14.02,
         "drugX"
        ],
        [
         40,
         "Female",
         "LOW",
         "NORMAL",
         11.349,
         "drugX"
        ]
       ],
       "datasetInfos": [],
       "dbfsResultPath": null,
       "isJsonSchema": true,
       "metadata": {},
       "overflow": false,
       "plotOptions": {
        "customPlotOptions": {},
        "displayType": "table",
        "pivotAggregation": null,
        "pivotColumns": null,
        "xColumns": null,
        "yColumns": null
       },
       "removedWidgets": [],
       "schema": [
        {
         "metadata": "{}",
         "name": "Age",
         "type": "\"integer\""
        },
        {
         "metadata": "{}",
         "name": "Sex",
         "type": "\"string\""
        },
        {
         "metadata": "{}",
         "name": "Blood_Pressure",
         "type": "\"string\""
        },
        {
         "metadata": "{}",
         "name": "Cholesterol",
         "type": "\"string\""
        },
        {
         "metadata": "{}",
         "name": "Sodium_to_Potassium",
         "type": "\"double\""
        },
        {
         "metadata": "{}",
         "name": "Drug",
         "type": "\"string\""
        }
       ],
       "type": "table"
      }
     },
     "output_type": "display_data"
    }
   ],
   "source": [
    "display(df)"
   ]
  },
  {
   "cell_type": "code",
   "execution_count": 0,
   "metadata": {
    "application/vnd.databricks.v1+cell": {
     "cellMetadata": {
      "byteLimit": 2048000,
      "rowLimit": 10000
     },
     "inputWidgets": {},
     "nuid": "3cb9c00b-c901-4955-8959-956502453203",
     "showTitle": false,
     "title": ""
    }
   },
   "outputs": [],
   "source": [
    "# Round 'Sodium_to_Potassium' column and cast it to integer\n",
    "df = df.withColumn('Sodium_to_Potassium', F.round('Sodium_to_Potassium', 0).cast('int'))\n"
   ]
  },
  {
   "cell_type": "code",
   "execution_count": 0,
   "metadata": {
    "application/vnd.databricks.v1+cell": {
     "cellMetadata": {
      "byteLimit": 2048000,
      "rowLimit": 10000
     },
     "inputWidgets": {},
     "nuid": "c06049c7-d0db-4868-ba25-7238f140cf44",
     "showTitle": false,
     "title": ""
    }
   },
   "outputs": [],
   "source": [
    "# Get top 5 ages\n",
    "top_ages = df.groupBy('Age').count().orderBy('count', ascending=False).limit(5)\n",
    "\n",
    "# Convert top_ages to Pandas DataFrame\n",
    "df_2 = top_ages.toPandas()"
   ]
  },
  {
   "cell_type": "code",
   "execution_count": 0,
   "metadata": {
    "application/vnd.databricks.v1+cell": {
     "cellMetadata": {
      "byteLimit": 2048000,
      "rowLimit": 10000
     },
     "inputWidgets": {},
     "nuid": "4de1844b-fdcf-4d39-b8de-97349eafa1ce",
     "showTitle": false,
     "title": ""
    }
   },
   "outputs": [
    {
     "output_type": "display_data",
     "data": {
      "text/html": [
       "<style scoped>\n",
       "  .table-result-container {\n",
       "    max-height: 300px;\n",
       "    overflow: auto;\n",
       "  }\n",
       "  table, th, td {\n",
       "    border: 1px solid black;\n",
       "    border-collapse: collapse;\n",
       "  }\n",
       "  th, td {\n",
       "    padding: 5px;\n",
       "  }\n",
       "  th {\n",
       "    text-align: left;\n",
       "  }\n",
       "</style><div class='table-result-container'><table class='table-result'><thead style='background-color: white'><tr><th>Age</th><th>count</th></tr></thead><tbody><tr><td>47</td><td>8</td></tr><tr><td>28</td><td>7</td></tr><tr><td>23</td><td>7</td></tr><tr><td>49</td><td>7</td></tr><tr><td>39</td><td>6</td></tr></tbody></table></div>"
      ]
     },
     "metadata": {
      "application/vnd.databricks.v1+output": {
       "addedWidgets": {},
       "aggData": [],
       "aggError": "",
       "aggOverflow": false,
       "aggSchema": [],
       "aggSeriesLimitReached": false,
       "aggType": "",
       "arguments": {},
       "columnCustomDisplayInfos": {},
       "data": [
        [
         47,
         8
        ],
        [
         28,
         7
        ],
        [
         23,
         7
        ],
        [
         49,
         7
        ],
        [
         39,
         6
        ]
       ],
       "datasetInfos": [],
       "dbfsResultPath": null,
       "isJsonSchema": true,
       "metadata": {},
       "overflow": false,
       "plotOptions": {
        "customPlotOptions": {},
        "displayType": "table",
        "pivotAggregation": null,
        "pivotColumns": null,
        "xColumns": null,
        "yColumns": null
       },
       "removedWidgets": [],
       "schema": [
        {
         "metadata": "{}",
         "name": "Age",
         "type": "\"integer\""
        },
        {
         "metadata": "{}",
         "name": "count",
         "type": "\"long\""
        }
       ],
       "type": "table"
      }
     },
     "output_type": "display_data"
    }
   ],
   "source": [
    "display(df_2)"
   ]
  },
  {
   "cell_type": "code",
   "execution_count": 0,
   "metadata": {
    "application/vnd.databricks.v1+cell": {
     "cellMetadata": {
      "byteLimit": 2048000,
      "rowLimit": 10000
     },
     "inputWidgets": {},
     "nuid": "5bb8c074-aae9-49a7-8c1f-eb283cb289ce",
     "showTitle": false,
     "title": ""
    }
   },
   "outputs": [],
   "source": [
    "data=df.toPandas()"
   ]
  },
  {
   "cell_type": "code",
   "execution_count": 0,
   "metadata": {
    "application/vnd.databricks.v1+cell": {
     "cellMetadata": {
      "byteLimit": 2048000,
      "rowLimit": 10000
     },
     "inputWidgets": {},
     "nuid": "24cdeb15-5c14-43b7-b667-558d5c14510f",
     "showTitle": false,
     "title": ""
    }
   },
   "outputs": [
    {
     "output_type": "stream",
     "name": "stdout",
     "output_type": "stream",
     "text": [
      "Out[19]: array(['drugY', 'drugC', 'drugX', 'drugA', 'drugB'], dtype=object)"
     ]
    }
   ],
   "source": [
    "data['Drug'].unique()\n"
   ]
  },
  {
   "cell_type": "code",
   "execution_count": 0,
   "metadata": {
    "application/vnd.databricks.v1+cell": {
     "cellMetadata": {
      "byteLimit": 2048000,
      "rowLimit": 10000
     },
     "inputWidgets": {},
     "nuid": "a06dfcdc-6e8e-4ec4-8169-8ccb77f47e3e",
     "showTitle": false,
     "title": ""
    }
   },
   "outputs": [
    {
     "output_type": "stream",
     "name": "stdout",
     "output_type": "stream",
     "text": [
      "<class 'pandas.core.frame.DataFrame'>\nRangeIndex: 200 entries, 0 to 199\nData columns (total 6 columns):\n #   Column               Non-Null Count  Dtype \n---  ------               --------------  ----- \n 0   Age                  200 non-null    int32 \n 1   Sex                  200 non-null    object\n 2   Blood_Pressure       200 non-null    object\n 3   Cholesterol          200 non-null    object\n 4   Sodium_to_Potassium  200 non-null    int32 \n 5   Drug                 200 non-null    object\ndtypes: int32(2), object(4)\nmemory usage: 7.9+ KB\n"
     ]
    }
   ],
   "source": [
    "data.info()"
   ]
  },
  {
   "cell_type": "code",
   "execution_count": 0,
   "metadata": {
    "application/vnd.databricks.v1+cell": {
     "cellMetadata": {
      "byteLimit": 2048000,
      "rowLimit": 10000
     },
     "inputWidgets": {},
     "nuid": "25b3a976-d45b-4333-a765-f386cd244336",
     "showTitle": false,
     "title": ""
    }
   },
   "outputs": [
    {
     "output_type": "stream",
     "name": "stdout",
     "output_type": "stream",
     "text": [
      "HIGH      77\nLOW       64\nNORMAL    59\nName: Blood_Pressure, dtype: int64\nHIGH      103\nNORMAL     97\nName: Cholesterol, dtype: int64\n"
     ]
    }
   ],
   "source": [
    "print(data['Blood_Pressure'].value_counts())\n",
    "\n",
    "# Display unique values and their frequencies for the \"cholesterol\" column\n",
    "print(data['Cholesterol'].value_counts())"
   ]
  },
  {
   "cell_type": "code",
   "execution_count": 0,
   "metadata": {
    "application/vnd.databricks.v1+cell": {
     "cellMetadata": {
      "byteLimit": 2048000,
      "rowLimit": 10000
     },
     "inputWidgets": {},
     "nuid": "7c69e026-871e-43df-b371-01298f107607",
     "showTitle": false,
     "title": ""
    }
   },
   "outputs": [
    {
     "output_type": "display_data",
     "data": {
      "image/png": "[encoded data removed]"
     },
     "metadata": {
      "application/vnd.databricks.v1+output": {
       "addedWidgets": {},
       "arguments": {},
       "data": "data:image/png;base64,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\n",
       "datasetInfos": [],
       "metadata": {},
       "removedWidgets": [],
       "type": "image"
      }
     },
     "output_type": "display_data"
    }
   ],
   "source": [
    "import seaborn as sns\n",
    "import matplotlib.pyplot as plt\n",
    "\n",
    "\n",
    "# Plotting\n",
    "plt.figure(figsize=(10, 6))\n",
    "\n",
    "plt.subplot(3, 3, 1)\n",
    "sns.countplot(x='Sex', data=df.toPandas(), palette='viridis')\n",
    "plt.title('Countplot of Sex')\n",
    "\n",
    "plt.subplot(3, 3, 2)\n",
    "sns.countplot(x='Blood_Pressure', data=df.toPandas(), palette='viridis')\n",
    "plt.title('Countplot of Blood_Pressure')\n",
    "\n",
    "plt.subplot(3, 3, 3)\n",
    "sns.countplot(x='Cholesterol', data=df.toPandas(), palette='viridis')\n",
    "plt.title('Countplot of Cholesterol')\n",
    "\n",
    "plt.subplot(3, 3, 4)\n",
    "sns.countplot(x='Drug', data=df.toPandas(), palette='viridis')\n",
    "plt.title('Countplot of Drug')\n",
    "\n",
    "plt.subplot(3, 3, 5)\n",
    "sns.countplot(x='Drug', data=df.toPandas(), palette='viridis')\n",
    "plt.title('Barplot of Drug Frequencies')\n",
    "plt.xlabel('Drug')\n",
    "plt.ylabel('Frequency')\n",
    "\n",
    "plt.subplot(3, 3, 6)\n",
    "sns.barplot(x='Age', y='count', data=df_2, palette='viridis')\n",
    "plt.title('Top 5 Popular Ages')\n",
    "plt.xlabel('Age')\n",
    "plt.ylabel('Count')\n",
    "\n",
    "plt.tight_layout()\n",
    "plt.show()"
   ]
  },
  {
   "cell_type": "code",
   "execution_count": 0,
   "metadata": {
    "application/vnd.databricks.v1+cell": {
     "cellMetadata": {
      "byteLimit": 2048000,
      "rowLimit": 10000
     },
     "inputWidgets": {},
     "nuid": "ee93676b-43eb-48fd-a7b1-545132b0a697",
     "showTitle": false,
     "title": ""
    }
   },
   "outputs": [
    {
     "output_type": "display_data",
     "data": {
      "image/png": "[encoded data removed]"
     },
     "metadata": {
      "application/vnd.databricks.v1+output": {
       "addedWidgets": {},
       "arguments": {},
       "data": "data:image/png;base64,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\n",
       "datasetInfos": [],
       "metadata": {},
       "removedWidgets": [],
       "type": "image"
      }
     },
     "output_type": "display_data"
    }
   ],
   "source": [
    "plt.figure(figsize=(20,10))\n",
    "plt.title('Histogram of Age')\n",
    "sns.histplot(data=df.toPandas(),x='Age',bins=30, kde=True);\n",
    "# Data set is in-balanced"
   ]
  },
  {
   "cell_type": "code",
   "execution_count": 0,
   "metadata": {
    "application/vnd.databricks.v1+cell": {
     "cellMetadata": {
      "byteLimit": 2048000,
      "rowLimit": 10000
     },
     "inputWidgets": {},
     "nuid": "587e5405-be38-43c3-8e92-6bbee84927fa",
     "showTitle": false,
     "title": ""
    }
   },
   "outputs": [
    {
     "output_type": "display_data",
     "data": {
      "image/png": "[encoded data removed]"
     },
     "metadata": {
      "application/vnd.databricks.v1+output": {
       "addedWidgets": {},
       "arguments": {},
       "data": "data:image/png;base64,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\n",
       "datasetInfos": [],
       "metadata": {},
       "removedWidgets": [],
       "type": "image"
      }
     },
     "output_type": "display_data"
    }
   ],
   "source": [
    "plt.figure(figsize=(20,10))\n",
    "plt.title('Plot of Age vs Potassium vs Drugs')\n",
    "sns.scatterplot(data=df.toPandas(),x='Age', y='Sodium_to_Potassium', hue='Drug',s=100);\n",
    "# \"hue\" determines the colors of the points based on a categorical variable (in this case, \"drug\").\n",
    "#  \"S\" refers to the size of the markers (points) plotted on the graph"
   ]
  },
  {
   "cell_type": "code",
   "execution_count": 0,
   "metadata": {
    "application/vnd.databricks.v1+cell": {
     "cellMetadata": {
      "byteLimit": 2048000,
      "rowLimit": 10000
     },
     "inputWidgets": {},
     "nuid": "b7340c69-0ac5-45ae-b63e-421875053b54",
     "showTitle": false,
     "title": ""
    }
   },
   "outputs": [
    {
     "output_type": "display_data",
     "data": {
      "image/png": "[encoded data removed]"
     },
     "metadata": {
      "application/vnd.databricks.v1+output": {
       "addedWidgets": {},
       "arguments": {},
       "data": "data:image/png;base64,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\n",
       "datasetInfos": [],
       "metadata": {},
       "removedWidgets": [],
       "type": "image"
      }
     },
     "output_type": "display_data"
    }
   ],
   "source": [
    "plt.figure(figsize=(5, 4))\n",
    "sns.boxplot(x='Sex', y='Sodium_to_Potassium', data=df.toPandas())\n",
    "plt.title('Boxplot of Sex by Sodium_to_Potassium')\n",
    "plt.show()"
   ]
  },
  {
   "cell_type": "markdown",
   "metadata": {
    "application/vnd.databricks.v1+cell": {
     "cellMetadata": {},
     "inputWidgets": {},
     "nuid": "a76395cf-8a84-47a9-849d-de2325f3cca9",
     "showTitle": false,
     "title": ""
    }
   },
   "source": [
    "The data has outliers, but I won't remove them because the dataset is too small"
   ]
  },
  {
   "cell_type": "code",
   "execution_count": 0,
   "metadata": {
    "application/vnd.databricks.v1+cell": {
     "cellMetadata": {
      "byteLimit": 2048000,
      "rowLimit": 10000
     },
     "inputWidgets": {},
     "nuid": "a8f30358-8057-41ca-92cf-3133a1b4d1e6",
     "showTitle": true,
     "title": "Modelling"
    }
   },
   "outputs": [],
   "source": [
    "X = data.drop('Drug', axis=1)\n",
    "y = data['Drug']"
   ]
  },
  {
   "cell_type": "code",
   "execution_count": 0,
   "metadata": {
    "application/vnd.databricks.v1+cell": {
     "cellMetadata": {
      "byteLimit": 2048000,
      "rowLimit": 10000
     },
     "inputWidgets": {},
     "nuid": "28c8807f-08c5-4683-bbd6-6cad2b604d8b",
     "showTitle": false,
     "title": ""
    }
   },
   "outputs": [
    {
     "output_type": "display_data",
     "data": {
      "text/html": [
       "<div>\n",
       "<style scoped>\n",
       "    .dataframe tbody tr th:only-of-type {\n",
       "        vertical-align: middle;\n",
       "    }\n",
       "\n",
       "    .dataframe tbody tr th {\n",
       "        vertical-align: top;\n",
       "    }\n",
       "\n",
       "    .dataframe thead th {\n",
       "        text-align: right;\n",
       "    }\n",
       "</style>\n",
       "<table border=\"1\" class=\"dataframe\">\n",
       "  <thead>\n",
       "    <tr style=\"text-align: right;\">\n",
       "      <th></th>\n",
       "      <th>Age</th>\n",
       "      <th>Sex</th>\n",
       "      <th>Blood_Pressure</th>\n",
       "      <th>Cholesterol</th>\n",
       "      <th>Sodium_to_Potassium</th>\n",
       "    </tr>\n",
       "  </thead>\n",
       "  <tbody>\n",
       "    <tr>\n",
       "      <th>0</th>\n",
       "      <td>23</td>\n",
       "      <td>Female</td>\n",
       "      <td>HIGH</td>\n",
       "      <td>HIGH</td>\n",
       "      <td>25</td>\n",
       "    </tr>\n",
       "    <tr>\n",
       "      <th>1</th>\n",
       "      <td>47</td>\n",
       "      <td>Male</td>\n",
       "      <td>LOW</td>\n",
       "      <td>HIGH</td>\n",
       "      <td>13</td>\n",
       "    </tr>\n",
       "    <tr>\n",
       "      <th>2</th>\n",
       "      <td>47</td>\n",
       "      <td>Male</td>\n",
       "      <td>LOW</td>\n",
       "      <td>HIGH</td>\n",
       "      <td>10</td>\n",
       "    </tr>\n",
       "    <tr>\n",
       "      <th>3</th>\n",
       "      <td>28</td>\n",
       "      <td>Female</td>\n",
       "      <td>NORMAL</td>\n",
       "      <td>HIGH</td>\n",
       "      <td>8</td>\n",
       "    </tr>\n",
       "    <tr>\n",
       "      <th>4</th>\n",
       "      <td>61</td>\n",
       "      <td>Female</td>\n",
       "      <td>LOW</td>\n",
       "      <td>HIGH</td>\n",
       "      <td>18</td>\n",
       "    </tr>\n",
       "    <tr>\n",
       "      <th>...</th>\n",
       "      <td>...</td>\n",
       "      <td>...</td>\n",
       "      <td>...</td>\n",
       "      <td>...</td>\n",
       "      <td>...</td>\n",
       "    </tr>\n",
       "    <tr>\n",
       "      <th>195</th>\n",
       "      <td>56</td>\n",
       "      <td>Female</td>\n",
       "      <td>LOW</td>\n",
       "      <td>HIGH</td>\n",
       "      <td>12</td>\n",
       "    </tr>\n",
       "    <tr>\n",
       "      <th>196</th>\n",
       "      <td>16</td>\n",
       "      <td>Male</td>\n",
       "      <td>LOW</td>\n",
       "      <td>HIGH</td>\n",
       "      <td>12</td>\n",
       "    </tr>\n",
       "    <tr>\n",
       "      <th>197</th>\n",
       "      <td>52</td>\n",
       "      <td>Male</td>\n",
       "      <td>NORMAL</td>\n",
       "      <td>HIGH</td>\n",
       "      <td>10</td>\n",
       "    </tr>\n",
       "    <tr>\n",
       "      <th>198</th>\n",
       "      <td>23</td>\n",
       "      <td>Male</td>\n",
       "      <td>NORMAL</td>\n",
       "      <td>NORMAL</td>\n",
       "      <td>14</td>\n",
       "    </tr>\n",
       "    <tr>\n",
       "      <th>199</th>\n",
       "      <td>40</td>\n",
       "      <td>Female</td>\n",
       "      <td>LOW</td>\n",
       "      <td>NORMAL</td>\n",
       "      <td>11</td>\n",
       "    </tr>\n",
       "  </tbody>\n",
       "</table>\n",
       "<p>200 rows × 5 columns</p>\n",
       "</div>"
      ]
     },
     "metadata": {
      "application/vnd.databricks.v1+output": {
       "addedWidgets": {},
       "arguments": {},
       "data": "<div>\n<style scoped>\n    .dataframe tbody tr th:only-of-type {\n        vertical-align: middle;\n    }\n\n    .dataframe tbody tr th {\n        vertical-align: top;\n    }\n\n    .dataframe thead th {\n        text-align: right;\n    }\n</style>\n<table border=\"1\" class=\"dataframe\">\n  <thead>\n    <tr style=\"text-align: right;\">\n      <th></th>\n      <th>Age</th>\n      <th>Sex</th>\n      <th>Blood_Pressure</th>\n      <th>Cholesterol</th>\n      <th>Sodium_to_Potassium</th>\n    </tr>\n  </thead>\n  <tbody>\n    <tr>\n      <th>0</th>\n      <td>23</td>\n      <td>Female</td>\n      <td>HIGH</td>\n      <td>HIGH</td>\n      <td>25</td>\n    </tr>\n    <tr>\n      <th>1</th>\n      <td>47</td>\n      <td>Male</td>\n      <td>LOW</td>\n      <td>HIGH</td>\n      <td>13</td>\n    </tr>\n    <tr>\n      <th>2</th>\n      <td>47</td>\n      <td>Male</td>\n      <td>LOW</td>\n      <td>HIGH</td>\n      <td>10</td>\n    </tr>\n    <tr>\n      <th>3</th>\n      <td>28</td>\n      <td>Female</td>\n      <td>NORMAL</td>\n      <td>HIGH</td>\n      <td>8</td>\n    </tr>\n    <tr>\n      <th>4</th>\n      <td>61</td>\n      <td>Female</td>\n      <td>LOW</td>\n      <td>HIGH</td>\n      <td>18</td>\n    </tr>\n    <tr>\n      <th>...</th>\n      <td>...</td>\n      <td>...</td>\n      <td>...</td>\n      <td>...</td>\n      <td>...</td>\n    </tr>\n    <tr>\n      <th>195</th>\n      <td>56</td>\n      <td>Female</td>\n      <td>LOW</td>\n      <td>HIGH</td>\n      <td>12</td>\n    </tr>\n    <tr>\n      <th>196</th>\n      <td>16</td>\n      <td>Male</td>\n      <td>LOW</td>\n      <td>HIGH</td>\n      <td>12</td>\n    </tr>\n    <tr>\n      <th>197</th>\n      <td>52</td>\n      <td>Male</td>\n      <td>NORMAL</td>\n      <td>HIGH</td>\n      <td>10</td>\n    </tr>\n    <tr>\n      <th>198</th>\n      <td>23</td>\n      <td>Male</td>\n      <td>NORMAL</td>\n      <td>NORMAL</td>\n      <td>14</td>\n    </tr>\n    <tr>\n      <th>199</th>\n      <td>40</td>\n      <td>Female</td>\n      <td>LOW</td>\n      <td>NORMAL</td>\n      <td>11</td>\n    </tr>\n  </tbody>\n</table>\n<p>200 rows × 5 columns</p>\n</div>",
       "datasetInfos": [],
       "metadata": {},
       "removedWidgets": [],
       "textData": null,
       "type": "htmlSandbox"
      }
     },
     "output_type": "display_data"
    }
   ],
   "source": [
    "X"
   ]
  },
  {
   "cell_type": "code",
   "execution_count": 0,
   "metadata": {
    "application/vnd.databricks.v1+cell": {
     "cellMetadata": {
      "byteLimit": 2048000,
      "rowLimit": 10000
     },
     "inputWidgets": {},
     "nuid": "84469314-9908-4237-b720-07a898f298d8",
     "showTitle": false,
     "title": ""
    }
   },
   "outputs": [
    {
     "output_type": "stream",
     "name": "stdout",
     "output_type": "stream",
     "text": [
      "Out[31]: 0      drugY\n1      drugC\n2      drugC\n3      drugX\n4      drugY\n       ...  \n195    drugC\n196    drugC\n197    drugX\n198    drugX\n199    drugX\nName: Drug, Length: 200, dtype: object"
     ]
    }
   ],
   "source": [
    "y"
   ]
  },
  {
   "cell_type": "code",
   "execution_count": 0,
   "metadata": {
    "application/vnd.databricks.v1+cell": {
     "cellMetadata": {
      "byteLimit": 2048000,
      "rowLimit": 10000
     },
     "inputWidgets": {},
     "nuid": "1f05fe23-3704-4591-8e82-3fa41b5d8cd6",
     "showTitle": false,
     "title": ""
    }
   },
   "outputs": [],
   "source": [
    "# one-hot encoding is to represent categorical variables in a format that can be used as input for machine learning algorithms, which \n",
    "#  typically require numerical data. This technique ensures that categorical variables do not imply any ordinal relationship and helps \n",
    "#  prevent issues such as incorrect ordering or weighting of categories.\n",
    "X = pd.get_dummies(X, drop_first= True)"
   ]
  },
  {
   "cell_type": "code",
   "execution_count": 0,
   "metadata": {
    "application/vnd.databricks.v1+cell": {
     "cellMetadata": {
      "byteLimit": 2048000,
      "rowLimit": 10000
     },
     "inputWidgets": {},
     "nuid": "c27b27f5-1551-4147-a9ea-ca9d0f06c059",
     "showTitle": false,
     "title": ""
    }
   },
   "outputs": [
    {
     "output_type": "display_data",
     "data": {
      "text/html": [
       "<div>\n",
       "<style scoped>\n",
       "    .dataframe tbody tr th:only-of-type {\n",
       "        vertical-align: middle;\n",
       "    }\n",
       "\n",
       "    .dataframe tbody tr th {\n",
       "        vertical-align: top;\n",
       "    }\n",
       "\n",
       "    .dataframe thead th {\n",
       "        text-align: right;\n",
       "    }\n",
       "</style>\n",
       "<table border=\"1\" class=\"dataframe\">\n",
       "  <thead>\n",
       "    <tr style=\"text-align: right;\">\n",
       "      <th></th>\n",
       "      <th>Age</th>\n",
       "      <th>Sodium_to_Potassium</th>\n",
       "      <th>Sex_Male</th>\n",
       "      <th>Blood_Pressure_LOW</th>\n",
       "      <th>Blood_Pressure_NORMAL</th>\n",
       "      <th>Cholesterol_NORMAL</th>\n",
       "    </tr>\n",
       "  </thead>\n",
       "  <tbody>\n",
       "    <tr>\n",
       "      <th>0</th>\n",
       "      <td>23</td>\n",
       "      <td>25</td>\n",
       "      <td>0</td>\n",
       "      <td>0</td>\n",
       "      <td>0</td>\n",
       "      <td>0</td>\n",
       "    </tr>\n",
       "    <tr>\n",
       "      <th>1</th>\n",
       "      <td>47</td>\n",
       "      <td>13</td>\n",
       "      <td>1</td>\n",
       "      <td>1</td>\n",
       "      <td>0</td>\n",
       "      <td>0</td>\n",
       "    </tr>\n",
       "    <tr>\n",
       "      <th>2</th>\n",
       "      <td>47</td>\n",
       "      <td>10</td>\n",
       "      <td>1</td>\n",
       "      <td>1</td>\n",
       "      <td>0</td>\n",
       "      <td>0</td>\n",
       "    </tr>\n",
       "    <tr>\n",
       "      <th>3</th>\n",
       "      <td>28</td>\n",
       "      <td>8</td>\n",
       "      <td>0</td>\n",
       "      <td>0</td>\n",
       "      <td>1</td>\n",
       "      <td>0</td>\n",
       "    </tr>\n",
       "    <tr>\n",
       "      <th>4</th>\n",
       "      <td>61</td>\n",
       "      <td>18</td>\n",
       "      <td>0</td>\n",
       "      <td>1</td>\n",
       "      <td>0</td>\n",
       "      <td>0</td>\n",
       "    </tr>\n",
       "    <tr>\n",
       "      <th>...</th>\n",
       "      <td>...</td>\n",
       "      <td>...</td>\n",
       "      <td>...</td>\n",
       "      <td>...</td>\n",
       "      <td>...</td>\n",
       "      <td>...</td>\n",
       "    </tr>\n",
       "    <tr>\n",
       "      <th>195</th>\n",
       "      <td>56</td>\n",
       "      <td>12</td>\n",
       "      <td>0</td>\n",
       "      <td>1</td>\n",
       "      <td>0</td>\n",
       "      <td>0</td>\n",
       "    </tr>\n",
       "    <tr>\n",
       "      <th>196</th>\n",
       "      <td>16</td>\n",
       "      <td>12</td>\n",
       "      <td>1</td>\n",
       "      <td>1</td>\n",
       "      <td>0</td>\n",
       "      <td>0</td>\n",
       "    </tr>\n",
       "    <tr>\n",
       "      <th>197</th>\n",
       "      <td>52</td>\n",
       "      <td>10</td>\n",
       "      <td>1</td>\n",
       "      <td>0</td>\n",
       "      <td>1</td>\n",
       "      <td>0</td>\n",
       "    </tr>\n",
       "    <tr>\n",
       "      <th>198</th>\n",
       "      <td>23</td>\n",
       "      <td>14</td>\n",
       "      <td>1</td>\n",
       "      <td>0</td>\n",
       "      <td>1</td>\n",
       "      <td>1</td>\n",
       "    </tr>\n",
       "    <tr>\n",
       "      <th>199</th>\n",
       "      <td>40</td>\n",
       "      <td>11</td>\n",
       "      <td>0</td>\n",
       "      <td>1</td>\n",
       "      <td>0</td>\n",
       "      <td>1</td>\n",
       "    </tr>\n",
       "  </tbody>\n",
       "</table>\n",
       "<p>200 rows × 6 columns</p>\n",
       "</div>"
      ]
     },
     "metadata": {
      "application/vnd.databricks.v1+output": {
       "addedWidgets": {},
       "arguments": {},
       "data": "<div>\n<style scoped>\n    .dataframe tbody tr th:only-of-type {\n        vertical-align: middle;\n    }\n\n    .dataframe tbody tr th {\n        vertical-align: top;\n    }\n\n    .dataframe thead th {\n        text-align: right;\n    }\n</style>\n<table border=\"1\" class=\"dataframe\">\n  <thead>\n    <tr style=\"text-align: right;\">\n      <th></th>\n      <th>Age</th>\n      <th>Sodium_to_Potassium</th>\n      <th>Sex_Male</th>\n      <th>Blood_Pressure_LOW</th>\n      <th>Blood_Pressure_NORMAL</th>\n      <th>Cholesterol_NORMAL</th>\n    </tr>\n  </thead>\n  <tbody>\n    <tr>\n      <th>0</th>\n      <td>23</td>\n      <td>25</td>\n      <td>0</td>\n      <td>0</td>\n      <td>0</td>\n      <td>0</td>\n    </tr>\n    <tr>\n      <th>1</th>\n      <td>47</td>\n      <td>13</td>\n      <td>1</td>\n      <td>1</td>\n      <td>0</td>\n      <td>0</td>\n    </tr>\n    <tr>\n      <th>2</th>\n      <td>47</td>\n      <td>10</td>\n      <td>1</td>\n      <td>1</td>\n      <td>0</td>\n      <td>0</td>\n    </tr>\n    <tr>\n      <th>3</th>\n      <td>28</td>\n      <td>8</td>\n      <td>0</td>\n      <td>0</td>\n      <td>1</td>\n      <td>0</td>\n    </tr>\n    <tr>\n      <th>4</th>\n      <td>61</td>\n      <td>18</td>\n      <td>0</td>\n      <td>1</td>\n      <td>0</td>\n      <td>0</td>\n    </tr>\n    <tr>\n      <th>...</th>\n      <td>...</td>\n      <td>...</td>\n      <td>...</td>\n      <td>...</td>\n      <td>...</td>\n      <td>...</td>\n    </tr>\n    <tr>\n      <th>195</th>\n      <td>56</td>\n      <td>12</td>\n      <td>0</td>\n      <td>1</td>\n      <td>0</td>\n      <td>0</td>\n    </tr>\n    <tr>\n      <th>196</th>\n      <td>16</td>\n      <td>12</td>\n      <td>1</td>\n      <td>1</td>\n      <td>0</td>\n      <td>0</td>\n    </tr>\n    <tr>\n      <th>197</th>\n      <td>52</td>\n      <td>10</td>\n      <td>1</td>\n      <td>0</td>\n      <td>1</td>\n      <td>0</td>\n    </tr>\n    <tr>\n      <th>198</th>\n      <td>23</td>\n      <td>14</td>\n      <td>1</td>\n      <td>0</td>\n      <td>1</td>\n      <td>1</td>\n    </tr>\n    <tr>\n      <th>199</th>\n      <td>40</td>\n      <td>11</td>\n      <td>0</td>\n      <td>1</td>\n      <td>0</td>\n      <td>1</td>\n    </tr>\n  </tbody>\n</table>\n<p>200 rows × 6 columns</p>\n</div>",
       "datasetInfos": [],
       "metadata": {},
       "removedWidgets": [],
       "textData": null,
       "type": "htmlSandbox"
      }
     },
     "output_type": "display_data"
    }
   ],
   "source": [
    "X"
   ]
  },
  {
   "cell_type": "code",
   "execution_count": 0,
   "metadata": {
    "application/vnd.databricks.v1+cell": {
     "cellMetadata": {
      "byteLimit": 2048000,
      "rowLimit": 10000
     },
     "inputWidgets": {},
     "nuid": "b76c29c5-f5d4-4b23-a907-d9c1471ecd99",
     "showTitle": false,
     "title": ""
    }
   },
   "outputs": [],
   "source": [
    "from sklearn.model_selection import train_test_split\n",
    "from sklearn.preprocessing import StandardScaler"
   ]
  },
  {
   "cell_type": "code",
   "execution_count": 0,
   "metadata": {
    "application/vnd.databricks.v1+cell": {
     "cellMetadata": {
      "byteLimit": 2048000,
      "rowLimit": 10000
     },
     "inputWidgets": {},
     "nuid": "c27cafa7-d3c3-4b19-94a5-39d4610ec447",
     "showTitle": false,
     "title": ""
    }
   },
   "outputs": [],
   "source": [
    "X_train, X_test, y_train, y_test = train_test_split(X, y, test_size=0.2, random_state=42)"
   ]
  },
  {
   "cell_type": "code",
   "execution_count": 0,
   "metadata": {
    "application/vnd.databricks.v1+cell": {
     "cellMetadata": {
      "byteLimit": 2048000,
      "rowLimit": 10000
     },
     "inputWidgets": {},
     "nuid": "68d4af02-618e-4ab5-ac73-5022ac20f034",
     "showTitle": false,
     "title": ""
    }
   },
   "outputs": [],
   "source": [
    "scaler = StandardScaler()\n",
    "X_train = scaler.fit_transform(X_train)\n",
    "X_test = scaler.transform(X_test)"
   ]
  },
  {
   "cell_type": "markdown",
   "metadata": {
    "application/vnd.databricks.v1+cell": {
     "cellMetadata": {},
     "inputWidgets": {},
     "nuid": "e062d83a-bdf9-4fff-98d9-2d02c0880035",
     "showTitle": false,
     "title": ""
    }
   },
   "source": [
    "Model imports"
   ]
  },
  {
   "cell_type": "code",
   "execution_count": 0,
   "metadata": {
    "application/vnd.databricks.v1+cell": {
     "cellMetadata": {
      "byteLimit": 2048000,
      "rowLimit": 10000
     },
     "inputWidgets": {},
     "nuid": "8140ff1b-a792-494a-93a6-e22233acc921",
     "showTitle": false,
     "title": ""
    }
   },
   "outputs": [],
   "source": [
    "from sklearn.linear_model import LogisticRegression\n",
    "from sklearn.neighbors import KNeighborsClassifier\n",
    "from sklearn.svm import SVC\n",
    "from sklearn.tree import DecisionTreeClassifier\n",
    "from sklearn.ensemble import RandomForestClassifier, AdaBoostClassifier, GradientBoostingClassifier\n",
    "# pip install xgboost\n",
    "# from xgboost import XGBClassifier, XGBRFClassifier"
   ]
  },
  {
   "cell_type": "markdown",
   "metadata": {
    "application/vnd.databricks.v1+cell": {
     "cellMetadata": {},
     "inputWidgets": {},
     "nuid": "ceb366d3-22fa-45fd-acea-1203c301066c",
     "showTitle": false,
     "title": ""
    }
   },
   "source": [
    "Baseline Modelling"
   ]
  },
  {
   "cell_type": "code",
   "execution_count": 0,
   "metadata": {
    "application/vnd.databricks.v1+cell": {
     "cellMetadata": {
      "byteLimit": 2048000,
      "rowLimit": 10000
     },
     "inputWidgets": {},
     "nuid": "241b2978-3aa3-4ed0-b2cf-5c57e0656bfa",
     "showTitle": false,
     "title": ""
    }
   },
   "outputs": [],
   "source": [
    "def fit_and_score(models, X_train, X_test, y_train, y_test):\n",
    "    np.random.seed(42)\n",
    "    \n",
    "    model_scores = {}\n",
    "    \n",
    "    for name, model in models.items():\n",
    "        model.fit(X_train,y_train)\n",
    "        model_scores[name] = model.score(X_test,y_test)\n",
    "\n",
    "    model_scores = pd.DataFrame(model_scores, index=['Score']).transpose()\n",
    "    model_scores = model_scores.sort_values('Score')\n",
    "        \n",
    "    return model_scores"
   ]
  },
  {
   "cell_type": "code",
   "execution_count": 0,
   "metadata": {
    "application/vnd.databricks.v1+cell": {
     "cellMetadata": {
      "byteLimit": 2048000,
      "rowLimit": 10000
     },
     "inputWidgets": {},
     "nuid": "3c656aa6-9059-4385-b859-5034f9817d58",
     "showTitle": false,
     "title": ""
    }
   },
   "outputs": [],
   "source": [
    "models = {'LogisticRegression': LogisticRegression(max_iter=10000),\n",
    "          'KNeighborsClassifier': KNeighborsClassifier(),\n",
    "          'SVC': SVC(),\n",
    "          'DecisionTreeClassifier': DecisionTreeClassifier(),\n",
    "          'RandomForestClassifier': RandomForestClassifier(),\n",
    "          'AdaBoostClassifier': AdaBoostClassifier(),\n",
    "          'GradientBoostingClassifier': GradientBoostingClassifier()}\n",
    "        #   'XGBClassifier': XGBClassifier(),\n",
    "        #   'XGBRFClassifier': XGBRFClassifier()}"
   ]
  },
  {
   "cell_type": "code",
   "execution_count": 0,
   "metadata": {
    "application/vnd.databricks.v1+cell": {
     "cellMetadata": {
      "byteLimit": 2048000,
      "rowLimit": 10000
     },
     "inputWidgets": {},
     "nuid": "ffab89cd-4bbe-4e75-8cc4-bf16abefab79",
     "showTitle": false,
     "title": ""
    }
   },
   "outputs": [],
   "source": [
    "baseline_model_scores = fit_and_score(models, X_train, X_test, y_train, y_test)"
   ]
  },
  {
   "cell_type": "code",
   "execution_count": 0,
   "metadata": {
    "application/vnd.databricks.v1+cell": {
     "cellMetadata": {
      "byteLimit": 2048000,
      "rowLimit": 10000
     },
     "inputWidgets": {},
     "nuid": "637fbfa1-fb79-47ec-9b20-f53329bf5a8d",
     "showTitle": false,
     "title": ""
    }
   },
   "outputs": [
    {
     "output_type": "display_data",
     "data": {
      "text/html": [
       "<div>\n",
       "<style scoped>\n",
       "    .dataframe tbody tr th:only-of-type {\n",
       "        vertical-align: middle;\n",
       "    }\n",
       "\n",
       "    .dataframe tbody tr th {\n",
       "        vertical-align: top;\n",
       "    }\n",
       "\n",
       "    .dataframe thead th {\n",
       "        text-align: right;\n",
       "    }\n",
       "</style>\n",
       "<table border=\"1\" class=\"dataframe\">\n",
       "  <thead>\n",
       "    <tr style=\"text-align: right;\">\n",
       "      <th></th>\n",
       "      <th>Score</th>\n",
       "    </tr>\n",
       "  </thead>\n",
       "  <tbody>\n",
       "    <tr>\n",
       "      <th>AdaBoostClassifier</th>\n",
       "      <td>0.800</td>\n",
       "    </tr>\n",
       "    <tr>\n",
       "      <th>KNeighborsClassifier</th>\n",
       "      <td>0.875</td>\n",
       "    </tr>\n",
       "    <tr>\n",
       "      <th>LogisticRegression</th>\n",
       "      <td>0.975</td>\n",
       "    </tr>\n",
       "    <tr>\n",
       "      <th>GradientBoostingClassifier</th>\n",
       "      <td>0.975</td>\n",
       "    </tr>\n",
       "    <tr>\n",
       "      <th>SVC</th>\n",
       "      <td>1.000</td>\n",
       "    </tr>\n",
       "    <tr>\n",
       "      <th>DecisionTreeClassifier</th>\n",
       "      <td>1.000</td>\n",
       "    </tr>\n",
       "    <tr>\n",
       "      <th>RandomForestClassifier</th>\n",
       "      <td>1.000</td>\n",
       "    </tr>\n",
       "  </tbody>\n",
       "</table>\n",
       "</div>"
      ]
     },
     "metadata": {
      "application/vnd.databricks.v1+output": {
       "addedWidgets": {},
       "arguments": {},
       "data": "<div>\n<style scoped>\n    .dataframe tbody tr th:only-of-type {\n        vertical-align: middle;\n    }\n\n    .dataframe tbody tr th {\n        vertical-align: top;\n    }\n\n    .dataframe thead th {\n        text-align: right;\n    }\n</style>\n<table border=\"1\" class=\"dataframe\">\n  <thead>\n    <tr style=\"text-align: right;\">\n      <th></th>\n      <th>Score</th>\n    </tr>\n  </thead>\n  <tbody>\n    <tr>\n      <th>AdaBoostClassifier</th>\n      <td>0.800</td>\n    </tr>\n    <tr>\n      <th>KNeighborsClassifier</th>\n      <td>0.875</td>\n    </tr>\n    <tr>\n      <th>LogisticRegression</th>\n      <td>0.975</td>\n    </tr>\n    <tr>\n      <th>GradientBoostingClassifier</th>\n      <td>0.975</td>\n    </tr>\n    <tr>\n      <th>SVC</th>\n      <td>1.000</td>\n    </tr>\n    <tr>\n      <th>DecisionTreeClassifier</th>\n      <td>1.000</td>\n    </tr>\n    <tr>\n      <th>RandomForestClassifier</th>\n      <td>1.000</td>\n    </tr>\n  </tbody>\n</table>\n</div>",
       "datasetInfos": [],
       "metadata": {},
       "removedWidgets": [],
       "textData": null,
       "type": "htmlSandbox"
      }
     },
     "output_type": "display_data"
    }
   ],
   "source": [
    "baseline_model_scores.sort_values('Score')"
   ]
  },
  {
   "cell_type": "code",
   "execution_count": 0,
   "metadata": {
    "application/vnd.databricks.v1+cell": {
     "cellMetadata": {
      "byteLimit": 2048000,
      "rowLimit": 10000
     },
     "inputWidgets": {},
     "nuid": "115795e0-a5fe-4f09-9f3f-ebf268fd81fb",
     "showTitle": false,
     "title": ""
    }
   },
   "outputs": [
    {
     "output_type": "display_data",
     "data": {
      "image/png": "[encoded data removed]"
     },
     "metadata": {
      "application/vnd.databricks.v1+output": {
       "addedWidgets": {},
       "arguments": {},
       "data": "data:image/png;base64,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\n",
       "datasetInfos": [],
       "metadata": {},
       "removedWidgets": [],
       "type": "image"
      }
     },
     "output_type": "display_data"
    }
   ],
   "source": [
    "plt.figure(figsize=(20,10))\n",
    "sns.barplot(data=baseline_model_scores.sort_values('Score').T)\n",
    "plt.title('Baseline Model Precision Score')\n",
    "plt.xticks(rotation=90);\n",
    "# baseline_model_scores.T transposes the DataFrame before passing it to sns.barplot(). This ensures that the precision scores are plotted # \n",
    "# along the y-axis, and the models are plotted along the x-axis.\n",
    "# plt.figure(figsize=(20,10)): This line sets the size of the figure to be 20 inches wide and 10 inches tall. This ensures that the resulting plot will have the specified dimensions.\n",
    "\n",
    "# sns.barplot(data=baseline_model_scores.sort_values('Score').T): This line creates a bar plot using seaborn's barplot function. It takes the transposed (T) and sorted (sort_values) DataFrame baseline_model_scores as input. It's assumed that each row represents a model, and the 'Score' column contains the precision scores.\n",
    "\n",
    "# plt.title('Baseline Model Precision Score'): This line sets the title of the plot to 'Baseline Model Precision Score'.\n",
    "\n",
    "# plt.xticks(rotation=90): This line rotates the x-axis labels by 90 degrees to prevent overlapping if they are long."
   ]
  },
  {
   "cell_type": "markdown",
   "metadata": {
    "application/vnd.databricks.v1+cell": {
     "cellMetadata": {},
     "inputWidgets": {},
     "nuid": "443c3392-1459-4335-bc75-dbd136c42fe3",
     "showTitle": false,
     "title": ""
    }
   },
   "source": [
    "Seem like the baseline model is performing at 100% accuracy. for this models, since it s Decision Tree Pratice, we will bulid the model using a DecisionTreeClassifier\n",
    "\n",
    "SVC 1.000\n",
    "DecisionTreeClassifier 1.000\n",
    "RandomForestClassifier 1.000"
   ]
  },
  {
   "cell_type": "code",
   "execution_count": 0,
   "metadata": {
    "application/vnd.databricks.v1+cell": {
     "cellMetadata": {
      "byteLimit": 2048000,
      "rowLimit": 10000
     },
     "inputWidgets": {},
     "nuid": "0a04eed2-b8e6-4e0c-bf12-bd969f115edd",
     "showTitle": true,
     "title": " Model Evaluating"
    }
   },
   "outputs": [],
   "source": [
    "model = DecisionTreeClassifier()\n",
    "model.fit(X_train,y_train)\n",
    "y_preds = model.predict(X_test)"
   ]
  },
  {
   "cell_type": "code",
   "execution_count": 0,
   "metadata": {
    "application/vnd.databricks.v1+cell": {
     "cellMetadata": {
      "byteLimit": 2048000,
      "rowLimit": 10000
     },
     "inputWidgets": {},
     "nuid": "f249ac46-1521-47d8-acff-23bc57035ed8",
     "showTitle": false,
     "title": ""
    }
   },
   "outputs": [
    {
     "output_type": "stream",
     "name": "stdout",
     "output_type": "stream",
     "text": [
      "Out[65]: array(['drugX', 'drugY', 'drugX', 'drugC', 'drugY', 'drugY', 'drugY',\n       'drugX', 'drugA', 'drugX', 'drugA', 'drugX', 'drugY', 'drugA',\n       'drugB', 'drugY', 'drugB', 'drugX', 'drugC', 'drugY', 'drugB',\n       'drugX', 'drugX', 'drugY', 'drugY', 'drugY', 'drugC', 'drugX',\n       'drugY', 'drugX', 'drugY', 'drugC', 'drugC', 'drugY', 'drugA',\n       'drugY', 'drugX', 'drugA', 'drugY', 'drugA'], dtype=object)"
     ]
    }
   ],
   "source": [
    "y_preds"
   ]
  },
  {
   "cell_type": "code",
   "execution_count": 0,
   "metadata": {
    "application/vnd.databricks.v1+cell": {
     "cellMetadata": {
      "byteLimit": 2048000,
      "rowLimit": 10000
     },
     "inputWidgets": {},
     "nuid": "377cc536-8c45-4403-8547-7d897f0883d9",
     "showTitle": false,
     "title": ""
    }
   },
   "outputs": [
    {
     "output_type": "display_data",
     "data": {
      "text/html": [
       "<div>\n",
       "<style scoped>\n",
       "    .dataframe tbody tr th:only-of-type {\n",
       "        vertical-align: middle;\n",
       "    }\n",
       "\n",
       "    .dataframe tbody tr th {\n",
       "        vertical-align: top;\n",
       "    }\n",
       "\n",
       "    .dataframe thead th {\n",
       "        text-align: right;\n",
       "    }\n",
       "</style>\n",
       "<table border=\"1\" class=\"dataframe\">\n",
       "  <thead>\n",
       "    <tr style=\"text-align: right;\">\n",
       "      <th></th>\n",
       "      <th>Age</th>\n",
       "      <th>Sex</th>\n",
       "      <th>Blood_Pressure</th>\n",
       "      <th>Cholesterol</th>\n",
       "      <th>Sodium_to_Potassium</th>\n",
       "      <th>Drug</th>\n",
       "    </tr>\n",
       "  </thead>\n",
       "  <tbody>\n",
       "    <tr>\n",
       "      <th>0</th>\n",
       "      <td>23</td>\n",
       "      <td>Female</td>\n",
       "      <td>HIGH</td>\n",
       "      <td>HIGH</td>\n",
       "      <td>25</td>\n",
       "      <td>drugY</td>\n",
       "    </tr>\n",
       "    <tr>\n",
       "      <th>1</th>\n",
       "      <td>47</td>\n",
       "      <td>Male</td>\n",
       "      <td>LOW</td>\n",
       "      <td>HIGH</td>\n",
       "      <td>13</td>\n",
       "      <td>drugC</td>\n",
       "    </tr>\n",
       "    <tr>\n",
       "      <th>2</th>\n",
       "      <td>47</td>\n",
       "      <td>Male</td>\n",
       "      <td>LOW</td>\n",
       "      <td>HIGH</td>\n",
       "      <td>10</td>\n",
       "      <td>drugC</td>\n",
       "    </tr>\n",
       "    <tr>\n",
       "      <th>3</th>\n",
       "      <td>28</td>\n",
       "      <td>Female</td>\n",
       "      <td>NORMAL</td>\n",
       "      <td>HIGH</td>\n",
       "      <td>8</td>\n",
       "      <td>drugX</td>\n",
       "    </tr>\n",
       "    <tr>\n",
       "      <th>4</th>\n",
       "      <td>61</td>\n",
       "      <td>Female</td>\n",
       "      <td>LOW</td>\n",
       "      <td>HIGH</td>\n",
       "      <td>18</td>\n",
       "      <td>drugY</td>\n",
       "    </tr>\n",
       "    <tr>\n",
       "      <th>...</th>\n",
       "      <td>...</td>\n",
       "      <td>...</td>\n",
       "      <td>...</td>\n",
       "      <td>...</td>\n",
       "      <td>...</td>\n",
       "      <td>...</td>\n",
       "    </tr>\n",
       "    <tr>\n",
       "      <th>195</th>\n",
       "      <td>56</td>\n",
       "      <td>Female</td>\n",
       "      <td>LOW</td>\n",
       "      <td>HIGH</td>\n",
       "      <td>12</td>\n",
       "      <td>drugC</td>\n",
       "    </tr>\n",
       "    <tr>\n",
       "      <th>196</th>\n",
       "      <td>16</td>\n",
       "      <td>Male</td>\n",
       "      <td>LOW</td>\n",
       "      <td>HIGH</td>\n",
       "      <td>12</td>\n",
       "      <td>drugC</td>\n",
       "    </tr>\n",
       "    <tr>\n",
       "      <th>197</th>\n",
       "      <td>52</td>\n",
       "      <td>Male</td>\n",
       "      <td>NORMAL</td>\n",
       "      <td>HIGH</td>\n",
       "      <td>10</td>\n",
       "      <td>drugX</td>\n",
       "    </tr>\n",
       "    <tr>\n",
       "      <th>198</th>\n",
       "      <td>23</td>\n",
       "      <td>Male</td>\n",
       "      <td>NORMAL</td>\n",
       "      <td>NORMAL</td>\n",
       "      <td>14</td>\n",
       "      <td>drugX</td>\n",
       "    </tr>\n",
       "    <tr>\n",
       "      <th>199</th>\n",
       "      <td>40</td>\n",
       "      <td>Female</td>\n",
       "      <td>LOW</td>\n",
       "      <td>NORMAL</td>\n",
       "      <td>11</td>\n",
       "      <td>drugX</td>\n",
       "    </tr>\n",
       "  </tbody>\n",
       "</table>\n",
       "<p>200 rows × 6 columns</p>\n",
       "</div>"
      ]
     },
     "metadata": {
      "application/vnd.databricks.v1+output": {
       "addedWidgets": {},
       "arguments": {},
       "data": "<div>\n<style scoped>\n    .dataframe tbody tr th:only-of-type {\n        vertical-align: middle;\n    }\n\n    .dataframe tbody tr th {\n        vertical-align: top;\n    }\n\n    .dataframe thead th {\n        text-align: right;\n    }\n</style>\n<table border=\"1\" class=\"dataframe\">\n  <thead>\n    <tr style=\"text-align: right;\">\n      <th></th>\n      <th>Age</th>\n      <th>Sex</th>\n      <th>Blood_Pressure</th>\n      <th>Cholesterol</th>\n      <th>Sodium_to_Potassium</th>\n      <th>Drug</th>\n    </tr>\n  </thead>\n  <tbody>\n    <tr>\n      <th>0</th>\n      <td>23</td>\n      <td>Female</td>\n      <td>HIGH</td>\n      <td>HIGH</td>\n      <td>25</td>\n      <td>drugY</td>\n    </tr>\n    <tr>\n      <th>1</th>\n      <td>47</td>\n      <td>Male</td>\n      <td>LOW</td>\n      <td>HIGH</td>\n      <td>13</td>\n      <td>drugC</td>\n    </tr>\n    <tr>\n      <th>2</th>\n      <td>47</td>\n      <td>Male</td>\n      <td>LOW</td>\n      <td>HIGH</td>\n      <td>10</td>\n      <td>drugC</td>\n    </tr>\n    <tr>\n      <th>3</th>\n      <td>28</td>\n      <td>Female</td>\n      <td>NORMAL</td>\n      <td>HIGH</td>\n      <td>8</td>\n      <td>drugX</td>\n    </tr>\n    <tr>\n      <th>4</th>\n      <td>61</td>\n      <td>Female</td>\n      <td>LOW</td>\n      <td>HIGH</td>\n      <td>18</td>\n      <td>drugY</td>\n    </tr>\n    <tr>\n      <th>...</th>\n      <td>...</td>\n      <td>...</td>\n      <td>...</td>\n      <td>...</td>\n      <td>...</td>\n      <td>...</td>\n    </tr>\n    <tr>\n      <th>195</th>\n      <td>56</td>\n      <td>Female</td>\n      <td>LOW</td>\n      <td>HIGH</td>\n      <td>12</td>\n      <td>drugC</td>\n    </tr>\n    <tr>\n      <th>196</th>\n      <td>16</td>\n      <td>Male</td>\n      <td>LOW</td>\n      <td>HIGH</td>\n      <td>12</td>\n      <td>drugC</td>\n    </tr>\n    <tr>\n      <th>197</th>\n      <td>52</td>\n      <td>Male</td>\n      <td>NORMAL</td>\n      <td>HIGH</td>\n      <td>10</td>\n      <td>drugX</td>\n    </tr>\n    <tr>\n      <th>198</th>\n      <td>23</td>\n      <td>Male</td>\n      <td>NORMAL</td>\n      <td>NORMAL</td>\n      <td>14</td>\n      <td>drugX</td>\n    </tr>\n    <tr>\n      <th>199</th>\n      <td>40</td>\n      <td>Female</td>\n      <td>LOW</td>\n      <td>NORMAL</td>\n      <td>11</td>\n      <td>drugX</td>\n    </tr>\n  </tbody>\n</table>\n<p>200 rows × 6 columns</p>\n</div>",
       "datasetInfos": [],
       "metadata": {},
       "removedWidgets": [],
       "textData": null,
       "type": "htmlSandbox"
      }
     },
     "output_type": "display_data"
    }
   ],
   "source": [
    "data"
   ]
  },
  {
   "cell_type": "code",
   "execution_count": 0,
   "metadata": {
    "application/vnd.databricks.v1+cell": {
     "cellMetadata": {
      "byteLimit": 2048000,
      "rowLimit": 10000
     },
     "inputWidgets": {},
     "nuid": "6bd57f16-c48b-41aa-8bb2-5928edffee88",
     "showTitle": false,
     "title": ""
    }
   },
   "outputs": [],
   "source": [
    "from sklearn.preprocessing import LabelEncoder\n",
    "input = data.iloc[:, :-1]\n",
    "Target = data.iloc[:, -1]\n",
    "le_sex = LabelEncoder()\n",
    "le_BP = LabelEncoder()\n",
    "le_cholesterol = LabelEncoder()\n",
    "input['Sex'] = le_sex.fit_transform(input['Sex'])\n",
    "input['Blood_Pressure'] = le_BP.fit_transform(input['Blood_Pressure'])\n",
    "input['Cholesterol'] = le_cholesterol.fit_transform(input['Cholesterol'])\n"
   ]
  },
  {
   "cell_type": "code",
   "execution_count": 0,
   "metadata": {
    "application/vnd.databricks.v1+cell": {
     "cellMetadata": {
      "byteLimit": 2048000,
      "rowLimit": 10000
     },
     "inputWidgets": {},
     "nuid": "32ac6ba5-bdc8-4b33-a111-24b8df8a4067",
     "showTitle": false,
     "title": ""
    }
   },
   "outputs": [
    {
     "output_type": "stream",
     "name": "stdout",
     "output_type": "stream",
     "text": [
      "Model Accuracy: 98.3\n"
     ]
    }
   ],
   "source": [
    "X_train, X_test, y_train, y_test = train_test_split(input, Target, test_size=0.3, random_state=42)\n",
    "clf = DecisionTreeClassifier()\n",
    "clf.fit(X_train, y_train)\n",
    "accuracy = clf.score(X_test, y_test)\n",
    "print(\"Model Accuracy:\", round(accuracy*100,1) )"
   ]
  },
  {
   "cell_type": "code",
   "execution_count": 0,
   "metadata": {
    "application/vnd.databricks.v1+cell": {
     "cellMetadata": {
      "byteLimit": 2048000,
      "rowLimit": 10000
     },
     "inputWidgets": {},
     "nuid": "2e64a8f9-036e-4163-8822-17497a1fb957",
     "showTitle": false,
     "title": ""
    }
   },
   "outputs": [
    {
     "output_type": "display_data",
     "data": {
      "image/png": "[encoded data removed]"
     },
     "metadata": {
      "application/vnd.databricks.v1+output": {
       "addedWidgets": {},
       "arguments": {},
       "data": "data:image/png;base64,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\n",
       "datasetInfos": [],
       "metadata": {},
       "removedWidgets": [],
       "type": "image"
      }
     },
     "output_type": "display_data"
    }
   ],
   "source": [
    "from sklearn.tree import plot_tree\n",
    "unique_classes = np.unique(y_train)  \n",
    "plt.figure(figsize=(20,10))\n",
    "plot_tree(clf, class_names=unique_classes, filled=True)\n",
    "plt.show()"
   ]
  },
  {
   "cell_type": "code",
   "execution_count": 0,
   "metadata": {
    "application/vnd.databricks.v1+cell": {
     "cellMetadata": {
      "byteLimit": 2048000,
      "rowLimit": 10000
     },
     "inputWidgets": {},
     "nuid": "a8bc74ae-fe81-47bf-aa58-2a7b2fda7a94",
     "showTitle": false,
     "title": ""
    }
   },
   "outputs": [],
   "source": [
    "import warnings \n",
    "warnings.filterwarnings('ignore') "
   ]
  },
  {
   "cell_type": "code",
   "execution_count": 0,
   "metadata": {
    "application/vnd.databricks.v1+cell": {
     "cellMetadata": {
      "byteLimit": 2048000,
      "rowLimit": 10000
     },
     "inputWidgets": {},
     "nuid": "f9190908-56bd-43be-bb9f-9582562e5e66",
     "showTitle": false,
     "title": ""
    }
   },
   "outputs": [
    {
     "output_type": "stream",
     "name": "stdout",
     "output_type": "stream",
     "text": [
      "Out[86]: array(['drugX'], dtype=object)"
     ]
    }
   ],
   "source": [
    "\n",
    "X = np.array(['20', 'Male', 'LOW', 'LOW', '10'])\n",
    "label = LabelEncoder()\n",
    "X = label.fit_transform(X)\n",
    "\n",
    "y_pred = clf.predict(X.reshape(1, -1))\n",
    "y_pred"
   ]
  },
  {
   "cell_type": "markdown",
   "metadata": {
    "application/vnd.databricks.v1+cell": {
     "cellMetadata": {},
     "inputWidgets": {},
     "nuid": "c310515a-1633-4a96-9242-7111f0c21e24",
     "showTitle": false,
     "title": ""
    }
   },
   "source": []
  },
  {
   "cell_type": "code",
   "execution_count": 0,
   "metadata": {
    "application/vnd.databricks.v1+cell": {
     "cellMetadata": {
      "byteLimit": 2048000,
      "rowLimit": 10000
     },
     "inputWidgets": {},
     "nuid": "53faa7eb-0152-454c-b92f-35bce74d5447",
     "showTitle": false,
     "title": ""
    }
   },
   "outputs": [],
   "source": [
    "df.createOrReplaceTempView(\"drug200_1\")"
   ]
  },
  {
   "cell_type": "code",
   "execution_count": 0,
   "metadata": {
    "application/vnd.databricks.v1+cell": {
     "cellMetadata": {
      "byteLimit": 2048000,
      "implicitDf": true,
      "rowLimit": 10000
     },
     "inputWidgets": {},
     "nuid": "66c900c8-8d38-4174-99c5-bf38d963c432",
     "showTitle": false,
     "title": ""
    }
   },
   "outputs": [
    {
     "output_type": "display_data",
     "data": {
      "text/html": [
       "<style scoped>\n",
       "  .table-result-container {\n",
       "    max-height: 300px;\n",
       "    overflow: auto;\n",
       "  }\n",
       "  table, th, td {\n",
       "    border: 1px solid black;\n",
       "    border-collapse: collapse;\n",
       "  }\n",
       "  th, td {\n",
       "    padding: 5px;\n",
       "  }\n",
       "  th {\n",
       "    text-align: left;\n",
       "  }\n",
       "</style><div class='table-result-container'><table class='table-result'><thead style='background-color: white'><tr><th>Age</th><th>Sex</th><th>Blood_Pressure</th><th>Cholesterol</th><th>Sodium_to_Potassium</th><th>Drug</th></tr></thead><tbody><tr><td>23</td><td>Female</td><td>HIGH</td><td>HIGH</td><td>25.355</td><td>drugY</td></tr><tr><td>47</td><td>Male</td><td>LOW</td><td>HIGH</td><td>13.093</td><td>drugC</td></tr><tr><td>47</td><td>Male</td><td>LOW</td><td>HIGH</td><td>10.114</td><td>drugC</td></tr><tr><td>28</td><td>Female</td><td>NORMAL</td><td>HIGH</td><td>7.798</td><td>drugX</td></tr><tr><td>61</td><td>Female</td><td>LOW</td><td>HIGH</td><td>18.043</td><td>drugY</td></tr><tr><td>22</td><td>Female</td><td>NORMAL</td><td>HIGH</td><td>8.607</td><td>drugX</td></tr><tr><td>49</td><td>Female</td><td>NORMAL</td><td>HIGH</td><td>16.275</td><td>drugY</td></tr><tr><td>41</td><td>Male</td><td>LOW</td><td>HIGH</td><td>11.037</td><td>drugC</td></tr><tr><td>60</td><td>Male</td><td>NORMAL</td><td>HIGH</td><td>15.171</td><td>drugY</td></tr><tr><td>43</td><td>Male</td><td>LOW</td><td>NORMAL</td><td>19.368</td><td>drugY</td></tr><tr><td>47</td><td>Female</td><td>LOW</td><td>HIGH</td><td>11.767</td><td>drugC</td></tr><tr><td>34</td><td>Female</td><td>HIGH</td><td>NORMAL</td><td>19.199</td><td>drugY</td></tr><tr><td>43</td><td>Male</td><td>LOW</td><td>HIGH</td><td>15.376</td><td>drugY</td></tr><tr><td>74</td><td>Female</td><td>LOW</td><td>HIGH</td><td>20.942</td><td>drugY</td></tr><tr><td>50</td><td>Female</td><td>NORMAL</td><td>HIGH</td><td>12.703</td><td>drugX</td></tr><tr><td>16</td><td>Female</td><td>HIGH</td><td>NORMAL</td><td>15.516</td><td>drugY</td></tr><tr><td>69</td><td>Male</td><td>LOW</td><td>NORMAL</td><td>11.455</td><td>drugX</td></tr><tr><td>43</td><td>Male</td><td>HIGH</td><td>HIGH</td><td>13.972</td><td>drugA</td></tr><tr><td>23</td><td>Male</td><td>LOW</td><td>HIGH</td><td>7.298</td><td>drugC</td></tr><tr><td>32</td><td>Female</td><td>HIGH</td><td>NORMAL</td><td>25.974</td><td>drugY</td></tr><tr><td>57</td><td>Male</td><td>LOW</td><td>NORMAL</td><td>19.128</td><td>drugY</td></tr><tr><td>63</td><td>Male</td><td>NORMAL</td><td>HIGH</td><td>25.917</td><td>drugY</td></tr><tr><td>47</td><td>Male</td><td>LOW</td><td>NORMAL</td><td>30.568</td><td>drugY</td></tr><tr><td>48</td><td>Female</td><td>LOW</td><td>HIGH</td><td>15.036</td><td>drugY</td></tr><tr><td>33</td><td>Female</td><td>LOW</td><td>HIGH</td><td>33.486</td><td>drugY</td></tr><tr><td>28</td><td>Female</td><td>HIGH</td><td>NORMAL</td><td>18.809</td><td>drugY</td></tr><tr><td>31</td><td>Male</td><td>HIGH</td><td>HIGH</td><td>30.366</td><td>drugY</td></tr><tr><td>49</td><td>Female</td><td>NORMAL</td><td>NORMAL</td><td>9.381</td><td>drugX</td></tr><tr><td>39</td><td>Female</td><td>LOW</td><td>NORMAL</td><td>22.697</td><td>drugY</td></tr><tr><td>45</td><td>Male</td><td>LOW</td><td>HIGH</td><td>17.951</td><td>drugY</td></tr><tr><td>18</td><td>Female</td><td>NORMAL</td><td>NORMAL</td><td>8.75</td><td>drugX</td></tr><tr><td>74</td><td>Male</td><td>HIGH</td><td>HIGH</td><td>9.567</td><td>drugB</td></tr><tr><td>49</td><td>Male</td><td>LOW</td><td>NORMAL</td><td>11.014</td><td>drugX</td></tr><tr><td>65</td><td>Female</td><td>HIGH</td><td>NORMAL</td><td>31.876</td><td>drugY</td></tr><tr><td>53</td><td>Male</td><td>NORMAL</td><td>HIGH</td><td>14.133</td><td>drugX</td></tr><tr><td>46</td><td>Male</td><td>NORMAL</td><td>NORMAL</td><td>7.285</td><td>drugX</td></tr><tr><td>32</td><td>Male</td><td>HIGH</td><td>NORMAL</td><td>9.445</td><td>drugA</td></tr><tr><td>39</td><td>Male</td><td>LOW</td><td>NORMAL</td><td>13.938</td><td>drugX</td></tr><tr><td>39</td><td>Female</td><td>NORMAL</td><td>NORMAL</td><td>9.709</td><td>drugX</td></tr><tr><td>15</td><td>Male</td><td>NORMAL</td><td>HIGH</td><td>9.084</td><td>drugX</td></tr><tr><td>73</td><td>Female</td><td>NORMAL</td><td>HIGH</td><td>19.221</td><td>drugY</td></tr><tr><td>58</td><td>Female</td><td>HIGH</td><td>NORMAL</td><td>14.239</td><td>drugB</td></tr><tr><td>50</td><td>Male</td><td>NORMAL</td><td>NORMAL</td><td>15.79</td><td>drugY</td></tr><tr><td>23</td><td>Male</td><td>NORMAL</td><td>HIGH</td><td>12.26</td><td>drugX</td></tr><tr><td>50</td><td>Female</td><td>NORMAL</td><td>NORMAL</td><td>12.295</td><td>drugX</td></tr><tr><td>66</td><td>Female</td><td>NORMAL</td><td>NORMAL</td><td>8.107</td><td>drugX</td></tr><tr><td>37</td><td>Female</td><td>HIGH</td><td>HIGH</td><td>13.091</td><td>drugA</td></tr><tr><td>68</td><td>Male</td><td>LOW</td><td>HIGH</td><td>10.291</td><td>drugC</td></tr><tr><td>23</td><td>Male</td><td>NORMAL</td><td>HIGH</td><td>31.686</td><td>drugY</td></tr><tr><td>28</td><td>Female</td><td>LOW</td><td>HIGH</td><td>19.796</td><td>drugY</td></tr><tr><td>58</td><td>Female</td><td>HIGH</td><td>HIGH</td><td>19.416</td><td>drugY</td></tr><tr><td>67</td><td>Male</td><td>NORMAL</td><td>NORMAL</td><td>10.898</td><td>drugX</td></tr><tr><td>62</td><td>Male</td><td>LOW</td><td>NORMAL</td><td>27.183</td><td>drugY</td></tr><tr><td>24</td><td>Female</td><td>HIGH</td><td>NORMAL</td><td>18.457</td><td>drugY</td></tr><tr><td>68</td><td>Female</td><td>HIGH</td><td>NORMAL</td><td>10.189</td><td>drugB</td></tr><tr><td>26</td><td>Female</td><td>LOW</td><td>HIGH</td><td>14.16</td><td>drugC</td></tr><tr><td>65</td><td>Male</td><td>HIGH</td><td>NORMAL</td><td>11.34</td><td>drugB</td></tr><tr><td>40</td><td>Male</td><td>HIGH</td><td>HIGH</td><td>27.826</td><td>drugY</td></tr><tr><td>60</td><td>Male</td><td>NORMAL</td><td>NORMAL</td><td>10.091</td><td>drugX</td></tr><tr><td>34</td><td>Male</td><td>HIGH</td><td>HIGH</td><td>18.703</td><td>drugY</td></tr><tr><td>38</td><td>Female</td><td>LOW</td><td>NORMAL</td><td>29.875</td><td>drugY</td></tr><tr><td>24</td><td>Male</td><td>HIGH</td><td>NORMAL</td><td>9.475</td><td>drugA</td></tr><tr><td>67</td><td>Male</td><td>LOW</td><td>NORMAL</td><td>20.693</td><td>drugY</td></tr><tr><td>45</td><td>Male</td><td>LOW</td><td>NORMAL</td><td>8.37</td><td>drugX</td></tr><tr><td>60</td><td>Female</td><td>HIGH</td><td>HIGH</td><td>13.303</td><td>drugB</td></tr><tr><td>68</td><td>Female</td><td>NORMAL</td><td>NORMAL</td><td>27.05</td><td>drugY</td></tr><tr><td>29</td><td>Male</td><td>HIGH</td><td>HIGH</td><td>12.856</td><td>drugA</td></tr><tr><td>17</td><td>Male</td><td>NORMAL</td><td>NORMAL</td><td>10.832</td><td>drugX</td></tr><tr><td>54</td><td>Male</td><td>NORMAL</td><td>HIGH</td><td>24.658</td><td>drugY</td></tr><tr><td>18</td><td>Female</td><td>HIGH</td><td>NORMAL</td><td>24.276</td><td>drugY</td></tr><tr><td>70</td><td>Male</td><td>HIGH</td><td>HIGH</td><td>13.967</td><td>drugB</td></tr><tr><td>28</td><td>Female</td><td>NORMAL</td><td>HIGH</td><td>19.675</td><td>drugY</td></tr><tr><td>24</td><td>Female</td><td>NORMAL</td><td>HIGH</td><td>10.605</td><td>drugX</td></tr><tr><td>41</td><td>Female</td><td>NORMAL</td><td>NORMAL</td><td>22.905</td><td>drugY</td></tr><tr><td>31</td><td>Male</td><td>HIGH</td><td>NORMAL</td><td>17.069</td><td>drugY</td></tr><tr><td>26</td><td>Male</td><td>LOW</td><td>NORMAL</td><td>20.909</td><td>drugY</td></tr><tr><td>36</td><td>Female</td><td>HIGH</td><td>HIGH</td><td>11.198</td><td>drugA</td></tr><tr><td>26</td><td>Female</td><td>HIGH</td><td>NORMAL</td><td>19.161</td><td>drugY</td></tr><tr><td>19</td><td>Female</td><td>HIGH</td><td>HIGH</td><td>13.313</td><td>drugA</td></tr><tr><td>32</td><td>Female</td><td>LOW</td><td>NORMAL</td><td>10.84</td><td>drugX</td></tr><tr><td>60</td><td>Male</td><td>HIGH</td><td>HIGH</td><td>13.934</td><td>drugB</td></tr><tr><td>64</td><td>Male</td><td>NORMAL</td><td>HIGH</td><td>7.761</td><td>drugX</td></tr><tr><td>32</td><td>Female</td><td>LOW</td><td>HIGH</td><td>9.712</td><td>drugC</td></tr><tr><td>38</td><td>Female</td><td>HIGH</td><td>NORMAL</td><td>11.326</td><td>drugA</td></tr><tr><td>47</td><td>Female</td><td>LOW</td><td>HIGH</td><td>10.067</td><td>drugC</td></tr><tr><td>59</td><td>Male</td><td>HIGH</td><td>HIGH</td><td>13.935</td><td>drugB</td></tr><tr><td>51</td><td>Female</td><td>NORMAL</td><td>HIGH</td><td>13.597</td><td>drugX</td></tr><tr><td>69</td><td>Male</td><td>LOW</td><td>HIGH</td><td>15.478</td><td>drugY</td></tr><tr><td>37</td><td>Female</td><td>HIGH</td><td>NORMAL</td><td>23.091</td><td>drugY</td></tr><tr><td>50</td><td>Female</td><td>NORMAL</td><td>NORMAL</td><td>17.211</td><td>drugY</td></tr><tr><td>62</td><td>Male</td><td>NORMAL</td><td>HIGH</td><td>16.594</td><td>drugY</td></tr><tr><td>41</td><td>Male</td><td>HIGH</td><td>NORMAL</td><td>15.156</td><td>drugY</td></tr><tr><td>29</td><td>Female</td><td>HIGH</td><td>HIGH</td><td>29.45</td><td>drugY</td></tr><tr><td>42</td><td>Female</td><td>LOW</td><td>NORMAL</td><td>29.271</td><td>drugY</td></tr><tr><td>56</td><td>Male</td><td>LOW</td><td>HIGH</td><td>15.015</td><td>drugY</td></tr><tr><td>36</td><td>Male</td><td>LOW</td><td>NORMAL</td><td>11.424</td><td>drugX</td></tr><tr><td>58</td><td>Female</td><td>LOW</td><td>HIGH</td><td>38.247</td><td>drugY</td></tr><tr><td>56</td><td>Female</td><td>HIGH</td><td>HIGH</td><td>25.395</td><td>drugY</td></tr><tr><td>20</td><td>Male</td><td>HIGH</td><td>NORMAL</td><td>35.639</td><td>drugY</td></tr><tr><td>15</td><td>Female</td><td>HIGH</td><td>NORMAL</td><td>16.725</td><td>drugY</td></tr><tr><td>31</td><td>Male</td><td>HIGH</td><td>NORMAL</td><td>11.871</td><td>drugA</td></tr><tr><td>45</td><td>Female</td><td>HIGH</td><td>HIGH</td><td>12.854</td><td>drugA</td></tr><tr><td>28</td><td>Female</td><td>LOW</td><td>HIGH</td><td>13.127</td><td>drugC</td></tr><tr><td>56</td><td>Male</td><td>NORMAL</td><td>HIGH</td><td>8.966</td><td>drugX</td></tr><tr><td>22</td><td>Male</td><td>HIGH</td><td>NORMAL</td><td>28.294</td><td>drugY</td></tr><tr><td>37</td><td>Male</td><td>LOW</td><td>NORMAL</td><td>8.968</td><td>drugX</td></tr><tr><td>22</td><td>Male</td><td>NORMAL</td><td>HIGH</td><td>11.953</td><td>drugX</td></tr><tr><td>42</td><td>Male</td><td>LOW</td><td>HIGH</td><td>20.013</td><td>drugY</td></tr><tr><td>72</td><td>Male</td><td>HIGH</td><td>NORMAL</td><td>9.677</td><td>drugB</td></tr><tr><td>23</td><td>Male</td><td>NORMAL</td><td>HIGH</td><td>16.85</td><td>drugY</td></tr><tr><td>50</td><td>Male</td><td>HIGH</td><td>HIGH</td><td>7.49</td><td>drugA</td></tr><tr><td>47</td><td>Female</td><td>NORMAL</td><td>NORMAL</td><td>6.683</td><td>drugX</td></tr><tr><td>35</td><td>Male</td><td>LOW</td><td>NORMAL</td><td>9.17</td><td>drugX</td></tr><tr><td>65</td><td>Female</td><td>LOW</td><td>NORMAL</td><td>13.769</td><td>drugX</td></tr><tr><td>20</td><td>Female</td><td>NORMAL</td><td>NORMAL</td><td>9.281</td><td>drugX</td></tr><tr><td>51</td><td>Male</td><td>HIGH</td><td>HIGH</td><td>18.295</td><td>drugY</td></tr><tr><td>67</td><td>Male</td><td>NORMAL</td><td>NORMAL</td><td>9.514</td><td>drugX</td></tr><tr><td>40</td><td>Female</td><td>NORMAL</td><td>HIGH</td><td>10.103</td><td>drugX</td></tr><tr><td>32</td><td>Female</td><td>HIGH</td><td>NORMAL</td><td>10.292</td><td>drugA</td></tr><tr><td>61</td><td>Female</td><td>HIGH</td><td>HIGH</td><td>25.475</td><td>drugY</td></tr><tr><td>28</td><td>Male</td><td>NORMAL</td><td>HIGH</td><td>27.064</td><td>drugY</td></tr><tr><td>15</td><td>Male</td><td>HIGH</td><td>NORMAL</td><td>17.206</td><td>drugY</td></tr><tr><td>34</td><td>Male</td><td>NORMAL</td><td>HIGH</td><td>22.456</td><td>drugY</td></tr><tr><td>36</td><td>Female</td><td>NORMAL</td><td>HIGH</td><td>16.753</td><td>drugY</td></tr><tr><td>53</td><td>Female</td><td>HIGH</td><td>NORMAL</td><td>12.495</td><td>drugB</td></tr><tr><td>19</td><td>Female</td><td>HIGH</td><td>NORMAL</td><td>25.969</td><td>drugY</td></tr><tr><td>66</td><td>Male</td><td>HIGH</td><td>HIGH</td><td>16.347</td><td>drugY</td></tr><tr><td>35</td><td>Male</td><td>NORMAL</td><td>NORMAL</td><td>7.845</td><td>drugX</td></tr><tr><td>47</td><td>Male</td><td>LOW</td><td>NORMAL</td><td>33.542</td><td>drugY</td></tr><tr><td>32</td><td>Female</td><td>NORMAL</td><td>HIGH</td><td>7.477</td><td>drugX</td></tr><tr><td>70</td><td>Female</td><td>NORMAL</td><td>HIGH</td><td>20.489</td><td>drugY</td></tr><tr><td>52</td><td>Male</td><td>LOW</td><td>NORMAL</td><td>32.922</td><td>drugY</td></tr><tr><td>49</td><td>Male</td><td>LOW</td><td>NORMAL</td><td>13.598</td><td>drugX</td></tr><tr><td>24</td><td>Male</td><td>NORMAL</td><td>HIGH</td><td>25.786</td><td>drugY</td></tr><tr><td>42</td><td>Female</td><td>HIGH</td><td>HIGH</td><td>21.036</td><td>drugY</td></tr><tr><td>74</td><td>Male</td><td>LOW</td><td>NORMAL</td><td>11.939</td><td>drugX</td></tr><tr><td>55</td><td>Female</td><td>HIGH</td><td>HIGH</td><td>10.977</td><td>drugB</td></tr><tr><td>35</td><td>Female</td><td>HIGH</td><td>HIGH</td><td>12.894</td><td>drugA</td></tr><tr><td>51</td><td>Male</td><td>HIGH</td><td>NORMAL</td><td>11.343</td><td>drugB</td></tr><tr><td>69</td><td>Female</td><td>NORMAL</td><td>HIGH</td><td>10.065</td><td>drugX</td></tr><tr><td>49</td><td>Male</td><td>HIGH</td><td>NORMAL</td><td>6.269</td><td>drugA</td></tr><tr><td>64</td><td>Female</td><td>LOW</td><td>NORMAL</td><td>25.741</td><td>drugY</td></tr><tr><td>60</td><td>Male</td><td>HIGH</td><td>NORMAL</td><td>8.621</td><td>drugB</td></tr><tr><td>74</td><td>Male</td><td>HIGH</td><td>NORMAL</td><td>15.436</td><td>drugY</td></tr><tr><td>39</td><td>Male</td><td>HIGH</td><td>HIGH</td><td>9.664</td><td>drugA</td></tr><tr><td>61</td><td>Male</td><td>NORMAL</td><td>HIGH</td><td>9.443</td><td>drugX</td></tr><tr><td>37</td><td>Female</td><td>LOW</td><td>NORMAL</td><td>12.006</td><td>drugX</td></tr><tr><td>26</td><td>Female</td><td>HIGH</td><td>NORMAL</td><td>12.307</td><td>drugA</td></tr><tr><td>61</td><td>Female</td><td>LOW</td><td>NORMAL</td><td>7.34</td><td>drugX</td></tr><tr><td>22</td><td>Male</td><td>LOW</td><td>HIGH</td><td>8.151</td><td>drugC</td></tr><tr><td>49</td><td>Male</td><td>HIGH</td><td>NORMAL</td><td>8.7</td><td>drugA</td></tr><tr><td>68</td><td>Male</td><td>HIGH</td><td>HIGH</td><td>11.009</td><td>drugB</td></tr><tr><td>55</td><td>Male</td><td>NORMAL</td><td>NORMAL</td><td>7.261</td><td>drugX</td></tr><tr><td>72</td><td>Female</td><td>LOW</td><td>NORMAL</td><td>14.642</td><td>drugX</td></tr><tr><td>37</td><td>Male</td><td>LOW</td><td>NORMAL</td><td>16.724</td><td>drugY</td></tr><tr><td>49</td><td>Male</td><td>LOW</td><td>HIGH</td><td>10.537</td><td>drugC</td></tr><tr><td>31</td><td>Male</td><td>HIGH</td><td>NORMAL</td><td>11.227</td><td>drugA</td></tr><tr><td>53</td><td>Male</td><td>LOW</td><td>HIGH</td><td>22.963</td><td>drugY</td></tr><tr><td>59</td><td>Female</td><td>LOW</td><td>HIGH</td><td>10.444</td><td>drugC</td></tr><tr><td>34</td><td>Female</td><td>LOW</td><td>NORMAL</td><td>12.923</td><td>drugX</td></tr><tr><td>30</td><td>Female</td><td>NORMAL</td><td>HIGH</td><td>10.443</td><td>drugX</td></tr><tr><td>57</td><td>Female</td><td>HIGH</td><td>NORMAL</td><td>9.945</td><td>drugB</td></tr><tr><td>43</td><td>Male</td><td>NORMAL</td><td>NORMAL</td><td>12.859</td><td>drugX</td></tr><tr><td>21</td><td>Female</td><td>HIGH</td><td>NORMAL</td><td>28.632</td><td>drugY</td></tr><tr><td>16</td><td>Male</td><td>HIGH</td><td>NORMAL</td><td>19.007</td><td>drugY</td></tr><tr><td>38</td><td>Male</td><td>LOW</td><td>HIGH</td><td>18.295</td><td>drugY</td></tr><tr><td>58</td><td>Female</td><td>LOW</td><td>HIGH</td><td>26.645</td><td>drugY</td></tr><tr><td>57</td><td>Female</td><td>NORMAL</td><td>HIGH</td><td>14.216</td><td>drugX</td></tr><tr><td>51</td><td>Female</td><td>LOW</td><td>NORMAL</td><td>23.003</td><td>drugY</td></tr><tr><td>20</td><td>Female</td><td>HIGH</td><td>HIGH</td><td>11.262</td><td>drugA</td></tr><tr><td>28</td><td>Female</td><td>NORMAL</td><td>HIGH</td><td>12.879</td><td>drugX</td></tr><tr><td>45</td><td>Male</td><td>LOW</td><td>NORMAL</td><td>10.017</td><td>drugX</td></tr><tr><td>39</td><td>Female</td><td>NORMAL</td><td>NORMAL</td><td>17.225</td><td>drugY</td></tr><tr><td>41</td><td>Female</td><td>LOW</td><td>NORMAL</td><td>18.739</td><td>drugY</td></tr><tr><td>42</td><td>Male</td><td>HIGH</td><td>NORMAL</td><td>12.766</td><td>drugA</td></tr><tr><td>73</td><td>Female</td><td>HIGH</td><td>HIGH</td><td>18.348</td><td>drugY</td></tr><tr><td>48</td><td>Male</td><td>HIGH</td><td>NORMAL</td><td>10.446</td><td>drugA</td></tr><tr><td>25</td><td>Male</td><td>NORMAL</td><td>HIGH</td><td>19.011</td><td>drugY</td></tr><tr><td>39</td><td>Male</td><td>NORMAL</td><td>HIGH</td><td>15.969</td><td>drugY</td></tr><tr><td>67</td><td>Female</td><td>NORMAL</td><td>HIGH</td><td>15.891</td><td>drugY</td></tr><tr><td>22</td><td>Female</td><td>HIGH</td><td>NORMAL</td><td>22.818</td><td>drugY</td></tr><tr><td>59</td><td>Female</td><td>NORMAL</td><td>HIGH</td><td>13.884</td><td>drugX</td></tr><tr><td>20</td><td>Female</td><td>LOW</td><td>NORMAL</td><td>11.686</td><td>drugX</td></tr><tr><td>36</td><td>Female</td><td>HIGH</td><td>NORMAL</td><td>15.49</td><td>drugY</td></tr><tr><td>18</td><td>Female</td><td>HIGH</td><td>HIGH</td><td>37.188</td><td>drugY</td></tr><tr><td>57</td><td>Female</td><td>NORMAL</td><td>NORMAL</td><td>25.893</td><td>drugY</td></tr><tr><td>70</td><td>Male</td><td>HIGH</td><td>HIGH</td><td>9.849</td><td>drugB</td></tr><tr><td>47</td><td>Male</td><td>HIGH</td><td>HIGH</td><td>10.403</td><td>drugA</td></tr><tr><td>65</td><td>Male</td><td>HIGH</td><td>NORMAL</td><td>34.997</td><td>drugY</td></tr><tr><td>64</td><td>Male</td><td>HIGH</td><td>NORMAL</td><td>20.932</td><td>drugY</td></tr><tr><td>58</td><td>Male</td><td>HIGH</td><td>HIGH</td><td>18.991</td><td>drugY</td></tr><tr><td>23</td><td>Male</td><td>HIGH</td><td>HIGH</td><td>8.011</td><td>drugA</td></tr><tr><td>72</td><td>Male</td><td>LOW</td><td>HIGH</td><td>16.31</td><td>drugY</td></tr><tr><td>72</td><td>Male</td><td>LOW</td><td>HIGH</td><td>6.769</td><td>drugC</td></tr><tr><td>46</td><td>Female</td><td>HIGH</td><td>HIGH</td><td>34.686</td><td>drugY</td></tr><tr><td>56</td><td>Female</td><td>LOW</td><td>HIGH</td><td>11.567</td><td>drugC</td></tr><tr><td>16</td><td>Male</td><td>LOW</td><td>HIGH</td><td>12.006</td><td>drugC</td></tr><tr><td>52</td><td>Male</td><td>NORMAL</td><td>HIGH</td><td>9.894</td><td>drugX</td></tr><tr><td>23</td><td>Male</td><td>NORMAL</td><td>NORMAL</td><td>14.02</td><td>drugX</td></tr><tr><td>40</td><td>Female</td><td>LOW</td><td>NORMAL</td><td>11.349</td><td>drugX</td></tr></tbody></table></div>"
      ]
     },
     "metadata": {
      "application/vnd.databricks.v1+output": {
       "addedWidgets": {},
       "aggData": [],
       "aggError": "",
       "aggOverflow": false,
       "aggSchema": [],
       "aggSeriesLimitReached": false,
       "aggType": "",
       "arguments": {},
       "columnCustomDisplayInfos": {},
       "data": [
        [
         23,
         "Female",
         "HIGH",
         "HIGH",
         25.355,
         "drugY"
        ],
        [
         47,
         "Male",
         "LOW",
         "HIGH",
         13.093,
         "drugC"
        ],
        [
         47,
         "Male",
         "LOW",
         "HIGH",
         10.114,
         "drugC"
        ],
        [
         28,
         "Female",
         "NORMAL",
         "HIGH",
         7.798,
         "drugX"
        ],
        [
         61,
         "Female",
         "LOW",
         "HIGH",
         18.043,
         "drugY"
        ],
        [
         22,
         "Female",
         "NORMAL",
         "HIGH",
         8.607,
         "drugX"
        ],
        [
         49,
         "Female",
         "NORMAL",
         "HIGH",
         16.275,
         "drugY"
        ],
        [
         41,
         "Male",
         "LOW",
         "HIGH",
         11.037,
         "drugC"
        ],
        [
         60,
         "Male",
         "NORMAL",
         "HIGH",
         15.171,
         "drugY"
        ],
        [
         43,
         "Male",
         "LOW",
         "NORMAL",
         19.368,
         "drugY"
        ],
        [
         47,
         "Female",
         "LOW",
         "HIGH",
         11.767,
         "drugC"
        ],
        [
         34,
         "Female",
         "HIGH",
         "NORMAL",
         19.199,
         "drugY"
        ],
        [
         43,
         "Male",
         "LOW",
         "HIGH",
         15.376,
         "drugY"
        ],
        [
         74,
         "Female",
         "LOW",
         "HIGH",
         20.942,
         "drugY"
        ],
        [
         50,
         "Female",
         "NORMAL",
         "HIGH",
         12.703,
         "drugX"
        ],
        [
         16,
         "Female",
         "HIGH",
         "NORMAL",
         15.516,
         "drugY"
        ],
        [
         69,
         "Male",
         "LOW",
         "NORMAL",
         11.455,
         "drugX"
        ],
        [
         43,
         "Male",
         "HIGH",
         "HIGH",
         13.972,
         "drugA"
        ],
        [
         23,
         "Male",
         "LOW",
         "HIGH",
         7.298,
         "drugC"
        ],
        [
         32,
         "Female",
         "HIGH",
         "NORMAL",
         25.974,
         "drugY"
        ],
        [
         57,
         "Male",
         "LOW",
         "NORMAL",
         19.128,
         "drugY"
        ],
        [
         63,
         "Male",
         "NORMAL",
         "HIGH",
         25.917,
         "drugY"
        ],
        [
         47,
         "Male",
         "LOW",
         "NORMAL",
         30.568,
         "drugY"
        ],
        [
         48,
         "Female",
         "LOW",
         "HIGH",
         15.036,
         "drugY"
        ],
        [
         33,
         "Female",
         "LOW",
         "HIGH",
         33.486,
         "drugY"
        ],
        [
         28,
         "Female",
         "HIGH",
         "NORMAL",
         18.809,
         "drugY"
        ],
        [
         31,
         "Male",
         "HIGH",
         "HIGH",
         30.366,
         "drugY"
        ],
        [
         49,
         "Female",
         "NORMAL",
         "NORMAL",
         9.381,
         "drugX"
        ],
        [
         39,
         "Female",
         "LOW",
         "NORMAL",
         22.697,
         "drugY"
        ],
        [
         45,
         "Male",
         "LOW",
         "HIGH",
         17.951,
         "drugY"
        ],
        [
         18,
         "Female",
         "NORMAL",
         "NORMAL",
         8.75,
         "drugX"
        ],
        [
         74,
         "Male",
         "HIGH",
         "HIGH",
         9.567,
         "drugB"
        ],
        [
         49,
         "Male",
         "LOW",
         "NORMAL",
         11.014,
         "drugX"
        ],
        [
         65,
         "Female",
         "HIGH",
         "NORMAL",
         31.876,
         "drugY"
        ],
        [
         53,
         "Male",
         "NORMAL",
         "HIGH",
         14.133,
         "drugX"
        ],
        [
         46,
         "Male",
         "NORMAL",
         "NORMAL",
         7.285,
         "drugX"
        ],
        [
         32,
         "Male",
         "HIGH",
         "NORMAL",
         9.445,
         "drugA"
        ],
        [
         39,
         "Male",
         "LOW",
         "NORMAL",
         13.938,
         "drugX"
        ],
        [
         39,
         "Female",
         "NORMAL",
         "NORMAL",
         9.709,
         "drugX"
        ],
        [
         15,
         "Male",
         "NORMAL",
         "HIGH",
         9.084,
         "drugX"
        ],
        [
         73,
         "Female",
         "NORMAL",
         "HIGH",
         19.221,
         "drugY"
        ],
        [
         58,
         "Female",
         "HIGH",
         "NORMAL",
         14.239,
         "drugB"
        ],
        [
         50,
         "Male",
         "NORMAL",
         "NORMAL",
         15.79,
         "drugY"
        ],
        [
         23,
         "Male",
         "NORMAL",
         "HIGH",
         12.26,
         "drugX"
        ],
        [
         50,
         "Female",
         "NORMAL",
         "NORMAL",
         12.295,
         "drugX"
        ],
        [
         66,
         "Female",
         "NORMAL",
         "NORMAL",
         8.107,
         "drugX"
        ],
        [
         37,
         "Female",
         "HIGH",
         "HIGH",
         13.091,
         "drugA"
        ],
        [
         68,
         "Male",
         "LOW",
         "HIGH",
         10.291,
         "drugC"
        ],
        [
         23,
         "Male",
         "NORMAL",
         "HIGH",
         31.686,
         "drugY"
        ],
        [
         28,
         "Female",
         "LOW",
         "HIGH",
         19.796,
         "drugY"
        ],
        [
         58,
         "Female",
         "HIGH",
         "HIGH",
         19.416,
         "drugY"
        ],
        [
         67,
         "Male",
         "NORMAL",
         "NORMAL",
         10.898,
         "drugX"
        ],
        [
         62,
         "Male",
         "LOW",
         "NORMAL",
         27.183,
         "drugY"
        ],
        [
         24,
         "Female",
         "HIGH",
         "NORMAL",
         18.457,
         "drugY"
        ],
        [
         68,
         "Female",
         "HIGH",
         "NORMAL",
         10.189,
         "drugB"
        ],
        [
         26,
         "Female",
         "LOW",
         "HIGH",
         14.16,
         "drugC"
        ],
        [
         65,
         "Male",
         "HIGH",
         "NORMAL",
         11.34,
         "drugB"
        ],
        [
         40,
         "Male",
         "HIGH",
         "HIGH",
         27.826,
         "drugY"
        ],
        [
         60,
         "Male",
         "NORMAL",
         "NORMAL",
         10.091,
         "drugX"
        ],
        [
         34,
         "Male",
         "HIGH",
         "HIGH",
         18.703,
         "drugY"
        ],
        [
         38,
         "Female",
         "LOW",
         "NORMAL",
         29.875,
         "drugY"
        ],
        [
         24,
         "Male",
         "HIGH",
         "NORMAL",
         9.475,
         "drugA"
        ],
        [
         67,
         "Male",
         "LOW",
         "NORMAL",
         20.693,
         "drugY"
        ],
        [
         45,
         "Male",
         "LOW",
         "NORMAL",
         8.37,
         "drugX"
        ],
        [
         60,
         "Female",
         "HIGH",
         "HIGH",
         13.303,
         "drugB"
        ],
        [
         68,
         "Female",
         "NORMAL",
         "NORMAL",
         27.05,
         "drugY"
        ],
        [
         29,
         "Male",
         "HIGH",
         "HIGH",
         12.856,
         "drugA"
        ],
        [
         17,
         "Male",
         "NORMAL",
         "NORMAL",
         10.832,
         "drugX"
        ],
        [
         54,
         "Male",
         "NORMAL",
         "HIGH",
         24.658,
         "drugY"
        ],
        [
         18,
         "Female",
         "HIGH",
         "NORMAL",
         24.276,
         "drugY"
        ],
        [
         70,
         "Male",
         "HIGH",
         "HIGH",
         13.967,
         "drugB"
        ],
        [
         28,
         "Female",
         "NORMAL",
         "HIGH",
         19.675,
         "drugY"
        ],
        [
         24,
         "Female",
         "NORMAL",
         "HIGH",
         10.605,
         "drugX"
        ],
        [
         41,
         "Female",
         "NORMAL",
         "NORMAL",
         22.905,
         "drugY"
        ],
        [
         31,
         "Male",
         "HIGH",
         "NORMAL",
         17.069,
         "drugY"
        ],
        [
         26,
         "Male",
         "LOW",
         "NORMAL",
         20.909,
         "drugY"
        ],
        [
         36,
         "Female",
         "HIGH",
         "HIGH",
         11.198,
         "drugA"
        ],
        [
         26,
         "Female",
         "HIGH",
         "NORMAL",
         19.161,
         "drugY"
        ],
        [
         19,
         "Female",
         "HIGH",
         "HIGH",
         13.313,
         "drugA"
        ],
        [
         32,
         "Female",
         "LOW",
         "NORMAL",
         10.84,
         "drugX"
        ],
        [
         60,
         "Male",
         "HIGH",
         "HIGH",
         13.934,
         "drugB"
        ],
        [
         64,
         "Male",
         "NORMAL",
         "HIGH",
         7.761,
         "drugX"
        ],
        [
         32,
         "Female",
         "LOW",
         "HIGH",
         9.712,
         "drugC"
        ],
        [
         38,
         "Female",
         "HIGH",
         "NORMAL",
         11.326,
         "drugA"
        ],
        [
         47,
         "Female",
         "LOW",
         "HIGH",
         10.067,
         "drugC"
        ],
        [
         59,
         "Male",
         "HIGH",
         "HIGH",
         13.935,
         "drugB"
        ],
        [
         51,
         "Female",
         "NORMAL",
         "HIGH",
         13.597,
         "drugX"
        ],
        [
         69,
         "Male",
         "LOW",
         "HIGH",
         15.478,
         "drugY"
        ],
        [
         37,
         "Female",
         "HIGH",
         "NORMAL",
         23.091,
         "drugY"
        ],
        [
         50,
         "Female",
         "NORMAL",
         "NORMAL",
         17.211,
         "drugY"
        ],
        [
         62,
         "Male",
         "NORMAL",
         "HIGH",
         16.594,
         "drugY"
        ],
        [
         41,
         "Male",
         "HIGH",
         "NORMAL",
         15.156,
         "drugY"
        ],
        [
         29,
         "Female",
         "HIGH",
         "HIGH",
         29.45,
         "drugY"
        ],
        [
         42,
         "Female",
         "LOW",
         "NORMAL",
         29.271,
         "drugY"
        ],
        [
         56,
         "Male",
         "LOW",
         "HIGH",
         15.015,
         "drugY"
        ],
        [
         36,
         "Male",
         "LOW",
         "NORMAL",
         11.424,
         "drugX"
        ],
        [
         58,
         "Female",
         "LOW",
         "HIGH",
         38.247,
         "drugY"
        ],
        [
         56,
         "Female",
         "HIGH",
         "HIGH",
         25.395,
         "drugY"
        ],
        [
         20,
         "Male",
         "HIGH",
         "NORMAL",
         35.639,
         "drugY"
        ],
        [
         15,
         "Female",
         "HIGH",
         "NORMAL",
         16.725,
         "drugY"
        ],
        [
         31,
         "Male",
         "HIGH",
         "NORMAL",
         11.871,
         "drugA"
        ],
        [
         45,
         "Female",
         "HIGH",
         "HIGH",
         12.854,
         "drugA"
        ],
        [
         28,
         "Female",
         "LOW",
         "HIGH",
         13.127,
         "drugC"
        ],
        [
         56,
         "Male",
         "NORMAL",
         "HIGH",
         8.966,
         "drugX"
        ],
        [
         22,
         "Male",
         "HIGH",
         "NORMAL",
         28.294,
         "drugY"
        ],
        [
         37,
         "Male",
         "LOW",
         "NORMAL",
         8.968,
         "drugX"
        ],
        [
         22,
         "Male",
         "NORMAL",
         "HIGH",
         11.953,
         "drugX"
        ],
        [
         42,
         "Male",
         "LOW",
         "HIGH",
         20.013,
         "drugY"
        ],
        [
         72,
         "Male",
         "HIGH",
         "NORMAL",
         9.677,
         "drugB"
        ],
        [
         23,
         "Male",
         "NORMAL",
         "HIGH",
         16.85,
         "drugY"
        ],
        [
         50,
         "Male",
         "HIGH",
         "HIGH",
         7.49,
         "drugA"
        ],
        [
         47,
         "Female",
         "NORMAL",
         "NORMAL",
         6.683,
         "drugX"
        ],
        [
         35,
         "Male",
         "LOW",
         "NORMAL",
         9.17,
         "drugX"
        ],
        [
         65,
         "Female",
         "LOW",
         "NORMAL",
         13.769,
         "drugX"
        ],
        [
         20,
         "Female",
         "NORMAL",
         "NORMAL",
         9.281,
         "drugX"
        ],
        [
         51,
         "Male",
         "HIGH",
         "HIGH",
         18.295,
         "drugY"
        ],
        [
         67,
         "Male",
         "NORMAL",
         "NORMAL",
         9.514,
         "drugX"
        ],
        [
         40,
         "Female",
         "NORMAL",
         "HIGH",
         10.103,
         "drugX"
        ],
        [
         32,
         "Female",
         "HIGH",
         "NORMAL",
         10.292,
         "drugA"
        ],
        [
         61,
         "Female",
         "HIGH",
         "HIGH",
         25.475,
         "drugY"
        ],
        [
         28,
         "Male",
         "NORMAL",
         "HIGH",
         27.064,
         "drugY"
        ],
        [
         15,
         "Male",
         "HIGH",
         "NORMAL",
         17.206,
         "drugY"
        ],
        [
         34,
         "Male",
         "NORMAL",
         "HIGH",
         22.456,
         "drugY"
        ],
        [
         36,
         "Female",
         "NORMAL",
         "HIGH",
         16.753,
         "drugY"
        ],
        [
         53,
         "Female",
         "HIGH",
         "NORMAL",
         12.495,
         "drugB"
        ],
        [
         19,
         "Female",
         "HIGH",
         "NORMAL",
         25.969,
         "drugY"
        ],
        [
         66,
         "Male",
         "HIGH",
         "HIGH",
         16.347,
         "drugY"
        ],
        [
         35,
         "Male",
         "NORMAL",
         "NORMAL",
         7.845,
         "drugX"
        ],
        [
         47,
         "Male",
         "LOW",
         "NORMAL",
         33.542,
         "drugY"
        ],
        [
         32,
         "Female",
         "NORMAL",
         "HIGH",
         7.477,
         "drugX"
        ],
        [
         70,
         "Female",
         "NORMAL",
         "HIGH",
         20.489,
         "drugY"
        ],
        [
         52,
         "Male",
         "LOW",
         "NORMAL",
         32.922,
         "drugY"
        ],
        [
         49,
         "Male",
         "LOW",
         "NORMAL",
         13.598,
         "drugX"
        ],
        [
         24,
         "Male",
         "NORMAL",
         "HIGH",
         25.786,
         "drugY"
        ],
        [
         42,
         "Female",
         "HIGH",
         "HIGH",
         21.036,
         "drugY"
        ],
        [
         74,
         "Male",
         "LOW",
         "NORMAL",
         11.939,
         "drugX"
        ],
        [
         55,
         "Female",
         "HIGH",
         "HIGH",
         10.977,
         "drugB"
        ],
        [
         35,
         "Female",
         "HIGH",
         "HIGH",
         12.894,
         "drugA"
        ],
        [
         51,
         "Male",
         "HIGH",
         "NORMAL",
         11.343,
         "drugB"
        ],
        [
         69,
         "Female",
         "NORMAL",
         "HIGH",
         10.065,
         "drugX"
        ],
        [
         49,
         "Male",
         "HIGH",
         "NORMAL",
         6.269,
         "drugA"
        ],
        [
         64,
         "Female",
         "LOW",
         "NORMAL",
         25.741,
         "drugY"
        ],
        [
         60,
         "Male",
         "HIGH",
         "NORMAL",
         8.621,
         "drugB"
        ],
        [
         74,
         "Male",
         "HIGH",
         "NORMAL",
         15.436,
         "drugY"
        ],
        [
         39,
         "Male",
         "HIGH",
         "HIGH",
         9.664,
         "drugA"
        ],
        [
         61,
         "Male",
         "NORMAL",
         "HIGH",
         9.443,
         "drugX"
        ],
        [
         37,
         "Female",
         "LOW",
         "NORMAL",
         12.006,
         "drugX"
        ],
        [
         26,
         "Female",
         "HIGH",
         "NORMAL",
         12.307,
         "drugA"
        ],
        [
         61,
         "Female",
         "LOW",
         "NORMAL",
         7.34,
         "drugX"
        ],
        [
         22,
         "Male",
         "LOW",
         "HIGH",
         8.151,
         "drugC"
        ],
        [
         49,
         "Male",
         "HIGH",
         "NORMAL",
         8.7,
         "drugA"
        ],
        [
         68,
         "Male",
         "HIGH",
         "HIGH",
         11.009,
         "drugB"
        ],
        [
         55,
         "Male",
         "NORMAL",
         "NORMAL",
         7.261,
         "drugX"
        ],
        [
         72,
         "Female",
         "LOW",
         "NORMAL",
         14.642,
         "drugX"
        ],
        [
         37,
         "Male",
         "LOW",
         "NORMAL",
         16.724,
         "drugY"
        ],
        [
         49,
         "Male",
         "LOW",
         "HIGH",
         10.537,
         "drugC"
        ],
        [
         31,
         "Male",
         "HIGH",
         "NORMAL",
         11.227,
         "drugA"
        ],
        [
         53,
         "Male",
         "LOW",
         "HIGH",
         22.963,
         "drugY"
        ],
        [
         59,
         "Female",
         "LOW",
         "HIGH",
         10.444,
         "drugC"
        ],
        [
         34,
         "Female",
         "LOW",
         "NORMAL",
         12.923,
         "drugX"
        ],
        [
         30,
         "Female",
         "NORMAL",
         "HIGH",
         10.443,
         "drugX"
        ],
        [
         57,
         "Female",
         "HIGH",
         "NORMAL",
         9.945,
         "drugB"
        ],
        [
         43,
         "Male",
         "NORMAL",
         "NORMAL",
         12.859,
         "drugX"
        ],
        [
         21,
         "Female",
         "HIGH",
         "NORMAL",
         28.632,
         "drugY"
        ],
        [
         16,
         "Male",
         "HIGH",
         "NORMAL",
         19.007,
         "drugY"
        ],
        [
         38,
         "Male",
         "LOW",
         "HIGH",
         18.295,
         "drugY"
        ],
        [
         58,
         "Female",
         "LOW",
         "HIGH",
         26.645,
         "drugY"
        ],
        [
         57,
         "Female",
         "NORMAL",
         "HIGH",
         14.216,
         "drugX"
        ],
        [
         51,
         "Female",
         "LOW",
         "NORMAL",
         23.003,
         "drugY"
        ],
        [
         20,
         "Female",
         "HIGH",
         "HIGH",
         11.262,
         "drugA"
        ],
        [
         28,
         "Female",
         "NORMAL",
         "HIGH",
         12.879,
         "drugX"
        ],
        [
         45,
         "Male",
         "LOW",
         "NORMAL",
         10.017,
         "drugX"
        ],
        [
         39,
         "Female",
         "NORMAL",
         "NORMAL",
         17.225,
         "drugY"
        ],
        [
         41,
         "Female",
         "LOW",
         "NORMAL",
         18.739,
         "drugY"
        ],
        [
         42,
         "Male",
         "HIGH",
         "NORMAL",
         12.766,
         "drugA"
        ],
        [
         73,
         "Female",
         "HIGH",
         "HIGH",
         18.348,
         "drugY"
        ],
        [
         48,
         "Male",
         "HIGH",
         "NORMAL",
         10.446,
         "drugA"
        ],
        [
         25,
         "Male",
         "NORMAL",
         "HIGH",
         19.011,
         "drugY"
        ],
        [
         39,
         "Male",
         "NORMAL",
         "HIGH",
         15.969,
         "drugY"
        ],
        [
         67,
         "Female",
         "NORMAL",
         "HIGH",
         15.891,
         "drugY"
        ],
        [
         22,
         "Female",
         "HIGH",
         "NORMAL",
         22.818,
         "drugY"
        ],
        [
         59,
         "Female",
         "NORMAL",
         "HIGH",
         13.884,
         "drugX"
        ],
        [
         20,
         "Female",
         "LOW",
         "NORMAL",
         11.686,
         "drugX"
        ],
        [
         36,
         "Female",
         "HIGH",
         "NORMAL",
         15.49,
         "drugY"
        ],
        [
         18,
         "Female",
         "HIGH",
         "HIGH",
         37.188,
         "drugY"
        ],
        [
         57,
         "Female",
         "NORMAL",
         "NORMAL",
         25.893,
         "drugY"
        ],
        [
         70,
         "Male",
         "HIGH",
         "HIGH",
         9.849,
         "drugB"
        ],
        [
         47,
         "Male",
         "HIGH",
         "HIGH",
         10.403,
         "drugA"
        ],
        [
         65,
         "Male",
         "HIGH",
         "NORMAL",
         34.997,
         "drugY"
        ],
        [
         64,
         "Male",
         "HIGH",
         "NORMAL",
         20.932,
         "drugY"
        ],
        [
         58,
         "Male",
         "HIGH",
         "HIGH",
         18.991,
         "drugY"
        ],
        [
         23,
         "Male",
         "HIGH",
         "HIGH",
         8.011,
         "drugA"
        ],
        [
         72,
         "Male",
         "LOW",
         "HIGH",
         16.31,
         "drugY"
        ],
        [
         72,
         "Male",
         "LOW",
         "HIGH",
         6.769,
         "drugC"
        ],
        [
         46,
         "Female",
         "HIGH",
         "HIGH",
         34.686,
         "drugY"
        ],
        [
         56,
         "Female",
         "LOW",
         "HIGH",
         11.567,
         "drugC"
        ],
        [
         16,
         "Male",
         "LOW",
         "HIGH",
         12.006,
         "drugC"
        ],
        [
         52,
         "Male",
         "NORMAL",
         "HIGH",
         9.894,
         "drugX"
        ],
        [
         23,
         "Male",
         "NORMAL",
         "NORMAL",
         14.02,
         "drugX"
        ],
        [
         40,
         "Female",
         "LOW",
         "NORMAL",
         11.349,
         "drugX"
        ]
       ],
       "datasetInfos": [],
       "dbfsResultPath": null,
       "isJsonSchema": true,
       "metadata": {},
       "overflow": false,
       "plotOptions": {
        "customPlotOptions": {},
        "displayType": "table",
        "pivotAggregation": null,
        "pivotColumns": null,
        "xColumns": null,
        "yColumns": null
       },
       "removedWidgets": [],
       "schema": [
        {
         "metadata": "{}",
         "name": "Age",
         "type": "\"integer\""
        },
        {
         "metadata": "{}",
         "name": "Sex",
         "type": "\"string\""
        },
        {
         "metadata": "{}",
         "name": "Blood_Pressure",
         "type": "\"string\""
        },
        {
         "metadata": "{}",
         "name": "Cholesterol",
         "type": "\"string\""
        },
        {
         "metadata": "{}",
         "name": "Sodium_to_Potassium",
         "type": "\"double\""
        },
        {
         "metadata": "{}",
         "name": "Drug",
         "type": "\"string\""
        }
       ],
       "type": "table"
      }
     },
     "output_type": "display_data"
    }
   ],
   "source": [
    "%sql\n",
    "select * from drug200_1;"
   ]
  },
  {
   "cell_type": "code",
   "execution_count": 0,
   "metadata": {
    "application/vnd.databricks.v1+cell": {
     "cellMetadata": {
      "byteLimit": 2048000,
      "implicitDf": true,
      "rowLimit": 10000
     },
     "inputWidgets": {},
     "nuid": "cbaee8bd-321d-4ea9-b37b-28d53a732320",
     "showTitle": false,
     "title": ""
    }
   },
   "outputs": [
    {
     "output_type": "display_data",
     "data": {
      "text/html": [
       "<style scoped>\n",
       "  .table-result-container {\n",
       "    max-height: 300px;\n",
       "    overflow: auto;\n",
       "  }\n",
       "  table, th, td {\n",
       "    border: 1px solid black;\n",
       "    border-collapse: collapse;\n",
       "  }\n",
       "  th, td {\n",
       "    padding: 5px;\n",
       "  }\n",
       "  th {\n",
       "    text-align: left;\n",
       "  }\n",
       "</style><div class='table-result-container'><table class='table-result'><thead style='background-color: white'><tr><th>count(1)</th></tr></thead><tbody><tr><td>200</td></tr></tbody></table></div>"
      ]
     },
     "metadata": {
      "application/vnd.databricks.v1+output": {
       "addedWidgets": {},
       "aggData": [],
       "aggError": "",
       "aggOverflow": false,
       "aggSchema": [],
       "aggSeriesLimitReached": false,
       "aggType": "",
       "arguments": {},
       "columnCustomDisplayInfos": {},
       "data": [
        [
         200
        ]
       ],
       "datasetInfos": [],
       "dbfsResultPath": null,
       "isJsonSchema": true,
       "metadata": {},
       "overflow": false,
       "plotOptions": {
        "customPlotOptions": {},
        "displayType": "table",
        "pivotAggregation": null,
        "pivotColumns": null,
        "xColumns": null,
        "yColumns": null
       },
       "removedWidgets": [],
       "schema": [
        {
         "metadata": "{\"__autoGeneratedAlias\":\"true\"}",
         "name": "count(1)",
         "type": "\"long\""
        }
       ],
       "type": "table"
      }
     },
     "output_type": "display_data"
    }
   ],
   "source": [
    "%sql\n",
    "-- Counting Rows: Count the total number of rows in a table using the COUNT() function:\n",
    "SELECT COUNT(*) FROM drug200_1;"
   ]
  },
  {
   "cell_type": "code",
   "execution_count": 0,
   "metadata": {
    "application/vnd.databricks.v1+cell": {
     "cellMetadata": {
      "byteLimit": 2048000,
      "implicitDf": true,
      "rowLimit": 10000
     },
     "inputWidgets": {},
     "nuid": "fe25da39-13c9-4343-838c-b97726f06425",
     "showTitle": false,
     "title": ""
    }
   },
   "outputs": [
    {
     "output_type": "display_data",
     "data": {
      "text/html": [
       "<style scoped>\n",
       "  .table-result-container {\n",
       "    max-height: 300px;\n",
       "    overflow: auto;\n",
       "  }\n",
       "  table, th, td {\n",
       "    border: 1px solid black;\n",
       "    border-collapse: collapse;\n",
       "  }\n",
       "  th, td {\n",
       "    padding: 5px;\n",
       "  }\n",
       "  th {\n",
       "    text-align: left;\n",
       "  }\n",
       "</style><div class='table-result-container'><table class='table-result'><thead style='background-color: white'><tr><th>sum(age)</th></tr></thead><tbody><tr><td>8863</td></tr></tbody></table></div>"
      ]
     },
     "metadata": {
      "application/vnd.databricks.v1+output": {
       "addedWidgets": {},
       "aggData": [],
       "aggError": "",
       "aggOverflow": false,
       "aggSchema": [],
       "aggSeriesLimitReached": false,
       "aggType": "",
       "arguments": {},
       "columnCustomDisplayInfos": {},
       "data": [
        [
         8863
        ]
       ],
       "datasetInfos": [],
       "dbfsResultPath": null,
       "isJsonSchema": true,
       "metadata": {},
       "overflow": false,
       "plotOptions": {
        "customPlotOptions": {},
        "displayType": "table",
        "pivotAggregation": null,
        "pivotColumns": null,
        "xColumns": null,
        "yColumns": null
       },
       "removedWidgets": [],
       "schema": [
        {
         "metadata": "{\"__autoGeneratedAlias\":\"true\"}",
         "name": "sum(age)",
         "type": "\"long\""
        }
       ],
       "type": "table"
      }
     },
     "output_type": "display_data"
    }
   ],
   "source": [
    "%sql\n",
    "-- Summation: Calculate the sum of values in a column using the SUM() function:\n",
    "SELECT SUM(age) FROM drug200_1;"
   ]
  },
  {
   "cell_type": "code",
   "execution_count": 0,
   "metadata": {
    "application/vnd.databricks.v1+cell": {
     "cellMetadata": {
      "byteLimit": 2048000,
      "implicitDf": true,
      "rowLimit": 10000
     },
     "inputWidgets": {},
     "nuid": "3a511cf8-b49d-4852-a9d7-eec1585bc39d",
     "showTitle": false,
     "title": ""
    }
   },
   "outputs": [
    {
     "output_type": "display_data",
     "data": {
      "text/html": [
       "<style scoped>\n",
       "  .table-result-container {\n",
       "    max-height: 300px;\n",
       "    overflow: auto;\n",
       "  }\n",
       "  table, th, td {\n",
       "    border: 1px solid black;\n",
       "    border-collapse: collapse;\n",
       "  }\n",
       "  th, td {\n",
       "    padding: 5px;\n",
       "  }\n",
       "  th {\n",
       "    text-align: left;\n",
       "  }\n",
       "</style><div class='table-result-container'><table class='table-result'><thead style='background-color: white'><tr><th>avg(age)</th></tr></thead><tbody><tr><td>44.315</td></tr></tbody></table></div>"
      ]
     },
     "metadata": {
      "application/vnd.databricks.v1+output": {
       "addedWidgets": {},
       "aggData": [],
       "aggError": "",
       "aggOverflow": false,
       "aggSchema": [],
       "aggSeriesLimitReached": false,
       "aggType": "",
       "arguments": {},
       "columnCustomDisplayInfos": {},
       "data": [
        [
         44.315
        ]
       ],
       "datasetInfos": [],
       "dbfsResultPath": null,
       "isJsonSchema": true,
       "metadata": {},
       "overflow": false,
       "plotOptions": {
        "customPlotOptions": {},
        "displayType": "table",
        "pivotAggregation": null,
        "pivotColumns": null,
        "xColumns": null,
        "yColumns": null
       },
       "removedWidgets": [],
       "schema": [
        {
         "metadata": "{\"__autoGeneratedAlias\":\"true\"}",
         "name": "avg(age)",
         "type": "\"double\""
        }
       ],
       "type": "table"
      }
     },
     "output_type": "display_data"
    }
   ],
   "source": [
    "%sql\n",
    "-- Average: Calculate the average value of a column using the AVG() function:\n",
    "SELECT AVG(age) FROM drug200_1;"
   ]
  },
  {
   "cell_type": "code",
   "execution_count": 0,
   "metadata": {
    "application/vnd.databricks.v1+cell": {
     "cellMetadata": {
      "byteLimit": 2048000,
      "implicitDf": true,
      "rowLimit": 10000
     },
     "inputWidgets": {},
     "nuid": "81ad3a84-669e-40ba-8810-5f9df4361eba",
     "showTitle": false,
     "title": ""
    }
   },
   "outputs": [
    {
     "output_type": "display_data",
     "data": {
      "text/html": [
       "<style scoped>\n",
       "  .table-result-container {\n",
       "    max-height: 300px;\n",
       "    overflow: auto;\n",
       "  }\n",
       "  table, th, td {\n",
       "    border: 1px solid black;\n",
       "    border-collapse: collapse;\n",
       "  }\n",
       "  th, td {\n",
       "    padding: 5px;\n",
       "  }\n",
       "  th {\n",
       "    text-align: left;\n",
       "  }\n",
       "</style><div class='table-result-container'><table class='table-result'><thead style='background-color: white'><tr><th>min(Sodium_to_Potassium)</th></tr></thead><tbody><tr><td>6.269</td></tr></tbody></table></div>"
      ]
     },
     "metadata": {
      "application/vnd.databricks.v1+output": {
       "addedWidgets": {},
       "aggData": [],
       "aggError": "",
       "aggOverflow": false,
       "aggSchema": [],
       "aggSeriesLimitReached": false,
       "aggType": "",
       "arguments": {},
       "columnCustomDisplayInfos": {},
       "data": [
        [
         6.269
        ]
       ],
       "datasetInfos": [],
       "dbfsResultPath": null,
       "isJsonSchema": true,
       "metadata": {},
       "overflow": false,
       "plotOptions": {
        "customPlotOptions": {},
        "displayType": "table",
        "pivotAggregation": null,
        "pivotColumns": null,
        "xColumns": null,
        "yColumns": null
       },
       "removedWidgets": [],
       "schema": [
        {
         "metadata": "{\"__autoGeneratedAlias\":\"true\"}",
         "name": "min(Sodium_to_Potassium)",
         "type": "\"double\""
        }
       ],
       "type": "table"
      }
     },
     "output_type": "display_data"
    }
   ],
   "source": [
    "%sql\n",
    "-- Minimum and Maximum: Find the minimum and maximum values in a column using the MIN() and MAX() functions, respectively:\n",
    "SELECT MIN(Sodium_to_Potassium) FROM drug200_1;\n"
   ]
  },
  {
   "cell_type": "code",
   "execution_count": 0,
   "metadata": {
    "application/vnd.databricks.v1+cell": {
     "cellMetadata": {
      "byteLimit": 2048000,
      "implicitDf": true,
      "rowLimit": 10000
     },
     "inputWidgets": {},
     "nuid": "bca17feb-512b-4b0d-906a-e1f54504649e",
     "showTitle": false,
     "title": ""
    }
   },
   "outputs": [
    {
     "output_type": "display_data",
     "data": {
      "text/html": [
       "<style scoped>\n",
       "  .table-result-container {\n",
       "    max-height: 300px;\n",
       "    overflow: auto;\n",
       "  }\n",
       "  table, th, td {\n",
       "    border: 1px solid black;\n",
       "    border-collapse: collapse;\n",
       "  }\n",
       "  th, td {\n",
       "    padding: 5px;\n",
       "  }\n",
       "  th {\n",
       "    text-align: left;\n",
       "  }\n",
       "</style><div class='table-result-container'><table class='table-result'><thead style='background-color: white'><tr><th>max(Sodium_to_Potassium)</th></tr></thead><tbody><tr><td>38.247</td></tr></tbody></table></div>"
      ]
     },
     "metadata": {
      "application/vnd.databricks.v1+output": {
       "addedWidgets": {},
       "aggData": [],
       "aggError": "",
       "aggOverflow": false,
       "aggSchema": [],
       "aggSeriesLimitReached": false,
       "aggType": "",
       "arguments": {},
       "columnCustomDisplayInfos": {},
       "data": [
        [
         38.247
        ]
       ],
       "datasetInfos": [],
       "dbfsResultPath": null,
       "isJsonSchema": true,
       "metadata": {},
       "overflow": false,
       "plotOptions": {
        "customPlotOptions": {},
        "displayType": "table",
        "pivotAggregation": null,
        "pivotColumns": null,
        "xColumns": null,
        "yColumns": null
       },
       "removedWidgets": [],
       "schema": [
        {
         "metadata": "{\"__autoGeneratedAlias\":\"true\"}",
         "name": "max(Sodium_to_Potassium)",
         "type": "\"double\""
        }
       ],
       "type": "table"
      }
     },
     "output_type": "display_data"
    }
   ],
   "source": [
    "%sql\n",
    "SELECT MAX(Sodium_to_Potassium) FROM drug200_1;"
   ]
  },
  {
   "cell_type": "code",
   "execution_count": 0,
   "metadata": {
    "application/vnd.databricks.v1+cell": {
     "cellMetadata": {
      "byteLimit": 2048000,
      "implicitDf": true,
      "rowLimit": 10000
     },
     "inputWidgets": {},
     "nuid": "6ebce609-9cc0-4378-95ff-593f8ed670b2",
     "showTitle": false,
     "title": ""
    }
   },
   "outputs": [
    {
     "output_type": "display_data",
     "data": {
      "text/html": [
       "<style scoped>\n",
       "  .table-result-container {\n",
       "    max-height: 300px;\n",
       "    overflow: auto;\n",
       "  }\n",
       "  table, th, td {\n",
       "    border: 1px solid black;\n",
       "    border-collapse: collapse;\n",
       "  }\n",
       "  th, td {\n",
       "    padding: 5px;\n",
       "  }\n",
       "  th {\n",
       "    text-align: left;\n",
       "  }\n",
       "</style><div class='table-result-container'><table class='table-result'><thead style='background-color: white'><tr><th>bin</th><th>count(1)</th></tr></thead><tbody><tr><td>50</td><td>33</td></tr><tr><td>10</td><td>12</td></tr><tr><td>30</td><td>37</td></tr><tr><td>20</td><td>35</td></tr><tr><td>70</td><td>13</td></tr><tr><td>60</td><td>32</td></tr><tr><td>40</td><td>38</td></tr></tbody></table></div>"
      ]
     },
     "metadata": {
      "application/vnd.databricks.v1+output": {
       "addedWidgets": {},
       "aggData": [],
       "aggError": "",
       "aggOverflow": false,
       "aggSchema": [],
       "aggSeriesLimitReached": false,
       "aggType": "",
       "arguments": {},
       "columnCustomDisplayInfos": {},
       "data": [
        [
         50,
         33
        ],
        [
         10,
         12
        ],
        [
         30,
         37
        ],
        [
         20,
         35
        ],
        [
         70,
         13
        ],
        [
         60,
         32
        ],
        [
         40,
         38
        ]
       ],
       "datasetInfos": [],
       "dbfsResultPath": null,
       "isJsonSchema": true,
       "metadata": {},
       "overflow": false,
       "plotOptions": {
        "customPlotOptions": {},
        "displayType": "table",
        "pivotAggregation": null,
        "pivotColumns": null,
        "xColumns": null,
        "yColumns": null
       },
       "removedWidgets": [],
       "schema": [
        {
         "metadata": "{}",
         "name": "bin",
         "type": "\"long\""
        },
        {
         "metadata": "{\"__autoGeneratedAlias\":\"true\"}",
         "name": "count(1)",
         "type": "\"long\""
        }
       ],
       "type": "table"
      }
     },
     "output_type": "display_data"
    }
   ],
   "source": [
    "%sql\n",
    "\n",
    "-- Histogram: Create a histogram of values in a column using the FLOOR() function and GROUP BY clause to group values into bins:\n",
    "SELECT FLOOR(age/10)*10 AS bin, COUNT(*)\n",
    "FROM drug200_1\n",
    "GROUP BY bin;"
   ]
  }
 ],
 "metadata": {
  "application/vnd.databricks.v1+notebook": {
   "dashboards": [],
   "language": "python",
   "notebookMetadata": {
    "mostRecentlyExecutedCommandWithImplicitDF": {
     "commandId": 1926164123216967,
     "dataframes": [
      "_sqldf"
     ]
    },
    "pythonIndentUnit": 4
   },
   "notebookName": "drug200",
   "widgets": {}
  }
 },
 "nbformat": 4,
 "nbformat_minor": 0
}
